{
 "cells": [
  {
   "cell_type": "markdown",
   "metadata": {},
   "source": [
    "# Titanic dataset\n",
    "\n",
    "We gaan nu dezelfde dataset trainen en fitten. Maar nu met oog naar de parameters van het model. Daarna zullen we de RandomForest introduceren die veel van het parameter tunen al voor je doet! Echter is het ook hier belangrijk om aandacht te schenken aan het paramter tunen. \n",
    "\n",
    "Haal hieronder de data binnen. Doet dit voor zowel\n",
    "\n",
    "- x_test\n",
    "- y_test\n",
    "- x_train\n",
    "- y_train\n",
    "\n",
    "Zoals het plaatje eerder liet zien zullen we de training set (x_train en y_train) gebruiken om het model te fitten, om het vervolgens te testen op de testset. \n",
    "\n",
    "\n",
    "### Actie! \n",
    "\n",
    "Ja we kunnen het niet vaak genoeg doen.   \n",
    "Haal de titanic dataset binnen onder de naam **TTC**  \n",
    "Haal **x_test, y_test, x_train en y_train** binnen. \n"
   ]
  },
  {
   "cell_type": "code",
   "execution_count": 1,
   "metadata": {},
   "outputs": [],
   "source": [
    "import pandas as pd\n",
    "from matplotlib import pyplot as plt\n",
    "import seaborn as sns\n",
    "import numpy as np\n",
    "\n",
    "TTC = None\n",
    "\n",
    "x_test = None\n",
    "y_test = None\n",
    "x_train = None\n",
    "y_train = None"
   ]
  },
  {
   "cell_type": "code",
   "execution_count": 21,
   "metadata": {},
   "outputs": [],
   "source": [
    "from sklearn.tree import DecisionTreeClassifier\n",
    "decision_tree = DecisionTreeClassifier()\n",
    "decision_tree.fit(x_train, y_train)\n",
    "y_pred = decision_tree.predict(x_test)"
   ]
  },
  {
   "cell_type": "markdown",
   "metadata": {},
   "source": [
    "# DecisionTree??  \n",
    "\n",
    "# Pruning waardes.  \n",
    "\n",
    "Pruning is het aanpassen van de grootte van de tree. Wanneer je meer pruned (letterlijke vertaling : snoeit) dan voorkom je dat de boom verder door splitst op nieuwe features. Net als met een regressie lijn die een steeds  polynomialere functie krijgt, kan een boom die minder pruned (dus groter wordt) steeds complexer worden. En we weten: een complexer model heeft een sterke neiging om te overfitten! \n",
    "\n",
    "Hieronder zijn nog een aantal andere parameters die 'getuned' kunnen worden. Neem ze goed door en bedenk je wat voor invloed ze hebben op het model. \n",
    "\n",
    "\n",
    "**Gini vs. Entropy** \n",
    "Mate waarmee de wanorde in een subset word getoetst.\n",
    "Gini cijfer voor totale wanorde is 0.5.\n",
    "Entropy waarde voor totale wanorde is 1.\n",
    "\n",
    "**Splitter** : best (de beste split in overweging nemend alle feautures) of random (de beste split voor een random subset van feautures, afhankelijk van max_feautures).\n",
    "\n",
    "**Max_depth** : maximum diepte van de boom. Ofwel hoevaak mag er gesplit worden, hoeveel rijen nodes mogen er gemaakt worden...\n",
    "\n",
    "**Min_samples_split** : minimum hoeveelheid samples nodig om een internl node te splitsen. default 2.\n",
    "\n",
    "**Min_samples_leaf** : minimum hoeveelheid om een terminal blad te vormen. (deze is gewichtiger dan min_samp_split).\n",
    "\n",
    "**Max_features** : int, float, string or None, optional (default=None)\n",
    "    The number of features to consider when looking for the best split:\n",
    "    \n",
    "**Max_leaf_nodes** : maximum hoeveelheid uiteindelijke bladeren (bladeren worden gekozen met beste eerst methode).\n",
    "\n",
    "**Min_impurity_decrease** : float, optional (default=0.)\n",
    "    En node wordt slechts gespllitst als er een waarde groter dan of gelijk aan deze van gain in puurheid wordt berekend.\n"
   ]
  },
  {
   "cell_type": "markdown",
   "metadata": {},
   "source": [
    "### Actie! \n",
    "\n",
    "Vul hieronder verschillende parameter values in en zie wat het doet met de score:\n"
   ]
  },
  {
   "cell_type": "code",
   "execution_count": 16,
   "metadata": {},
   "outputs": [],
   "source": [
    "# Zie hieronder alle mogelijke parameters! Kijk naar wat de default value is\n",
    "# en verzin mogelijke ander waardes. \n",
    "\n",
    "DecisionTreeClassifier?"
   ]
  },
  {
   "cell_type": "code",
   "execution_count": 18,
   "metadata": {},
   "outputs": [
    {
     "data": {
      "text/plain": [
       "DecisionTreeClassifier(ccp_alpha=0.0, class_weight=None, criterion='gini',\n",
       "                       max_depth=2, max_features=None, max_leaf_nodes=None,\n",
       "                       min_impurity_decrease=0.0, min_impurity_split=None,\n",
       "                       min_samples_leaf=1, min_samples_split=2,\n",
       "                       min_weight_fraction_leaf=0.0, presort='deprecated',\n",
       "                       random_state=None, splitter='best')"
      ]
     },
     "execution_count": 18,
     "metadata": {},
     "output_type": "execute_result"
    }
   ],
   "source": [
    "# Bijvoorbeeld deze: Je kan ook gelijk zien in de parameters van het model dat het wordt aangepast. \n",
    "\n",
    "DecisionTreeClassifier(max_depth=2) "
   ]
  },
  {
   "cell_type": "markdown",
   "metadata": {},
   "source": [
    "Kijk wat het doet met de voorspelling van de training set en test set. Is de trainingset vele male hoger? Dan kan er spraken zijn van overfitting! Denk na over wat parameter tuning doet met je voorspellingen. "
   ]
  },
  {
   "cell_type": "code",
   "execution_count": 9,
   "metadata": {},
   "outputs": [
    {
     "name": "stdout",
     "output_type": "stream",
     "text": [
      "the train score = 0.9859550561797753\n",
      "the test score =  0.8044692737430168\n"
     ]
    }
   ],
   "source": [
    "decision_tree = DecisionTreeClassifier( # Vul hier mogelijk nieuwe parameterwaardes in in ) \n",
    "decision_tree.fit(x_train, y_train)\n",
    "\n",
    "train_score = decision_tree.score(x_train, y_train)\n",
    "test_score = decision_tree.score(x_test, y_test)\n",
    "\n",
    "print(\"the train score = {}\".format(train_score))\n",
    "print(\"the test score =  {}\".format(test_score))\n"
   ]
  },
  {
   "cell_type": "markdown",
   "metadata": {},
   "source": [
    "### Actie! \n",
    "\n",
    "Onthoudt de beste parameter instellingen en sla zie hieronder op. Ze komen later wellicht van pas en we zullen ze aan het einde bespreken. "
   ]
  },
  {
   "cell_type": "code",
   "execution_count": null,
   "metadata": {},
   "outputs": [],
   "source": [
    "\n",
    "\n"
   ]
  },
  {
   "cell_type": "markdown",
   "metadata": {},
   "source": [
    "# ROC/AUC  \n",
    "\n",
    "ROC (Receiver Operating Characteristic) plot de false possitive rate tegenover de true possitive rate.  \n",
    "AUC, area under de curve geeft aan welke waardes we het best kunnen gebruiken ivm overfitting."
   ]
  },
  {
   "cell_type": "markdown",
   "metadata": {},
   "source": [
    "# AUC  \n",
    "  \n",
    "  AUC geeft eigenlijk een hoe goed het algoritme is in voorspellen aan de hand van een bepaalde waarde van een parameter.  \n",
    "  Dit kunnen we perfect gebruiken om te besluiten welke waardes goed zijn om overfitten te voorkomen.  \n",
    "  \n",
    "  Als we de verschillende AUC's per waarde van depth tegenover elkaar plotten voor voorspellingen op onze test en train data, kunnen we goed zien hoe behoorlijk ons model aan het overfitten was."
   ]
  },
  {
   "cell_type": "code",
   "execution_count": 23,
   "metadata": {},
   "outputs": [
    {
     "data": {
      "text/plain": [
       "(array([0.        , 0.14141414, 1.        ]),\n",
       " array([0.    , 0.7125, 1.    ]),\n",
       " array([2., 1., 0.]))"
      ]
     },
     "execution_count": 23,
     "metadata": {},
     "output_type": "execute_result"
    }
   ],
   "source": [
    "from sklearn.metrics import roc_curve, auc\n",
    "\n",
    "roc_curve(y_test, y_pred)"
   ]
  },
  {
   "cell_type": "code",
   "execution_count": 25,
   "metadata": {},
   "outputs": [
    {
     "data": {
      "text/plain": [
       "0.7855429292929292"
      ]
     },
     "execution_count": 25,
     "metadata": {},
     "output_type": "execute_result"
    }
   ],
   "source": [
    "false_positive_rate, true_positive_rate, thresholds = roc_curve(y_test, y_pred)\n",
    "\n",
    "roc_auc = auc(false_positive_rate, true_positive_rate)\n",
    "\n",
    "roc_auc"
   ]
  },
  {
   "cell_type": "code",
   "execution_count": 26,
   "metadata": {},
   "outputs": [
    {
     "data": {
      "text/plain": [
       "Text(0.5, 0, 'Tree depth')"
      ]
     },
     "execution_count": 26,
     "metadata": {},
     "output_type": "execute_result"
    },
    {
     "data": {
      "image/png": "[encoded data removed]",
      "text/plain": [
       "<Figure size 432x288 with 1 Axes>"
      ]
     },
     "metadata": {
      "needs_background": "light"
     },
     "output_type": "display_data"
    }
   ],
   "source": [
    "max_depths = np.linspace(1, 32, 32, endpoint=True)\n",
    "\n",
    "train_auc = []\n",
    "test_auc = []\n",
    "\n",
    "for max_depth in max_depths:\n",
    "    dt = DecisionTreeClassifier(max_depth=max_depth)\n",
    "    dt.fit(x_train, y_train)\n",
    "    \n",
    "    train_pred = dt.predict(x_train)\n",
    "    \n",
    "    false_positive_rate, true_positive_rate, thresholds = roc_curve(y_train, train_pred)\n",
    "    roc_auc = auc(false_positive_rate, true_positive_rate)\n",
    "    train_auc.append(roc_auc)\n",
    "    \n",
    "    y_pred = dt.predict(x_test)\n",
    "    false_positive_rate, true_positive_rate, thresholds = roc_curve(y_test, y_pred)\n",
    "    roc_auc = auc(false_positive_rate, true_positive_rate)\n",
    "    test_auc.append(roc_auc)\n",
    "    \n",
    "line1, = plt.plot(max_depths, train_auc, c='b', label=\"Train AUC\")\n",
    "line2, = plt.plot(max_depths, test_auc, c='r', label=\"Test AUC\")\n",
    "plt.legend()\n",
    "plt.ylabel('AUC score')\n",
    "plt.xlabel('Tree depth')"
   ]
  },
  {
   "cell_type": "markdown",
   "metadata": {},
   "source": [
    "# Tradeoff.  \n",
    "\n",
    "Hoe dieper we gaan, hoe puurder worden de leave-nodes. Maar de variantie van ons model gaat dan ook erg omhoog!  \n",
    "\n",
    "Variantie en bias zijn twee belangrijke termen binnen Machine Learning algoritmes. Ze geven indicaties op hoe erg je model aan het generaliseren is op de trainingset. Hierbij komen nog twee termen naar boven, namelijk **overfitten** en **underfitten**. Deze termen zijn eerder al benoemd en zullen hier nog even besproken worden. \n",
    "\n",
    "Als je bias hoog is (of zoals gezegd wordt, als je model biased is) dan betekend het dat je model systematisch foute voorspellingen maakt. Hier wordt vaak gesproken van underfitting. Je model is niet goed getrained op de trainingset en is niet representatief voor testdata. \n",
    "\n",
    "Als je variantie hoog is en bias laag, dan betekend het dat je model aan het overfitten is. Zoals te zien in het plaatje zijn de voorspele datapunten niet allemaal in de roos. Vaak is het zo dat des te complexer je model, des te meer je overfit op de training data, waardoor je testdata minder goed wordt voorspelt. Het kan zijn dat de trainingdata niet representatief genoeg is (of een te kleine set) waardoor de features die het model leert niet goed of voldoende zijn om de testdata te voorspellen. \n",
    "\n",
    "![alt text](files/tradoff.png \"Title\")\n",
    "\n",
    "We willen dus een lage-bias lage-variantie. Je kan het als volgt interpreteren: \n",
    "\n",
    "![alt text](files/tradeoff_graph.png \"Title\")\n",
    "\n",
    "je wilt dus een minimun vinden in de opgetelde bias/variantie van een gefitte model. Hieronder zullen we zien hoe je een keuze kan maken in het vinden van goede parameters en features om te voorkomen dat je model overfit op de data.\n",
    "\n",
    "Afgaand op deze grafiek is een Depth van 4 tot 7 zo'n beetje de beste keuze."
   ]
  },
  {
   "cell_type": "code",
   "execution_count": 27,
   "metadata": {},
   "outputs": [
    {
     "data": {
      "text/plain": [
       "Text(0.5, 0, 'min_samples_split')"
      ]
     },
     "execution_count": 27,
     "metadata": {},
     "output_type": "execute_result"
    },
    {
     "data": {
      "image/png": "[encoded data removed]",
      "text/plain": [
       "<Figure size 432x288 with 1 Axes>"
      ]
     },
     "metadata": {
      "needs_background": "light"
     },
     "output_type": "display_data"
    }
   ],
   "source": [
    "min_samples_splits = np.linspace(2, 150, 148, endpoint=True , dtype=int)\n",
    "\n",
    "train_auc = []\n",
    "test_auc = []\n",
    "\n",
    "for i in min_samples_splits:\n",
    "    dt = DecisionTreeClassifier(max_depth= 7, min_samples_split=i)\n",
    "    dt.fit(x_train, y_train)\n",
    "    \n",
    "    train_pred = dt.predict(x_train)\n",
    "    \n",
    "    false_positive_rate, true_positive_rate, thresholds = roc_curve(y_train, train_pred)\n",
    "    roc_auc = auc(false_positive_rate, true_positive_rate)\n",
    "    train_auc.append(roc_auc)\n",
    "    \n",
    "    y_pred = dt.predict(x_test)\n",
    "    false_positive_rate, true_positive_rate, thresholds = roc_curve(y_test, y_pred)\n",
    "    roc_auc = auc(false_positive_rate, true_positive_rate)\n",
    "    test_auc.append(roc_auc)\n",
    "\n",
    "line1, = plt.plot(min_samples_splits, train_auc, c='b', label=\"Train AUC\")\n",
    "line2, = plt.plot(min_samples_splits, test_auc, c='r', label=\"Test AUC\")\n",
    "plt.legend()\n",
    "plt.ylabel('AUC score')\n",
    "plt.xlabel('min_samples_split')"
   ]
  },
  {
   "cell_type": "code",
   "execution_count": 28,
   "metadata": {},
   "outputs": [
    {
     "data": {
      "text/plain": [
       "Text(0.5, 0, 'min_samples_leaf')"
      ]
     },
     "execution_count": 28,
     "metadata": {},
     "output_type": "execute_result"
    },
    {
     "data": {
      "image/png": "[encoded data removed]",
      "text/plain": [
       "<Figure size 432x288 with 1 Axes>"
      ]
     },
     "metadata": {
      "needs_background": "light"
     },
     "output_type": "display_data"
    }
   ],
   "source": [
    "min_samples_leafs = np.linspace(1, 50, 50, endpoint=True, dtype=int)\n",
    "\n",
    "train_results = []\n",
    "test_results = []\n",
    "\n",
    "for min_samples_leaf in min_samples_leafs:\n",
    "    dt = DecisionTreeClassifier(max_depth = 7, min_samples_split= 78, min_samples_leaf=min_samples_leaf)\n",
    "    dt.fit(x_train, y_train)\n",
    "    \n",
    "    train_pred = dt.predict(x_train)\n",
    "    \n",
    "    false_positive_rate, true_positive_rate, thresholds = roc_curve(y_train, train_pred)\n",
    "    roc_auc = auc(false_positive_rate, true_positive_rate)\n",
    "    train_results.append(roc_auc)\n",
    "    \n",
    "    y_pred = dt.predict(x_test)\n",
    "    false_positive_rate, true_positive_rate, thresholds = roc_curve(y_test, y_pred)\n",
    "    roc_auc = auc(false_positive_rate, true_positive_rate)\n",
    "    test_results.append(roc_auc)\n",
    "\n",
    "line1, = plt.plot(min_samples_leafs, train_results, c='b', label=\"Train AUC\")\n",
    "line2, = plt.plot(min_samples_leafs, test_results, c='r', label=\"Test AUC\")\n",
    "plt.legend()\n",
    "plt.ylabel('AUC score')\n",
    "plt.xlabel('min_samples_leaf')"
   ]
  },
  {
   "cell_type": "code",
   "execution_count": 29,
   "metadata": {},
   "outputs": [],
   "source": [
    "dt = DecisionTreeClassifier(max_depth = 7, min_samples_split= 78, min_samples_leaf=17)\n",
    "dt.fit(x_train, y_train)\n",
    "    \n",
    "y_pred = dt.predict(x_test)"
   ]
  },
  {
   "cell_type": "code",
   "execution_count": 30,
   "metadata": {},
   "outputs": [
    {
     "name": "stdout",
     "output_type": "stream",
     "text": [
      "              precision    recall  f1-score   support\n",
      "\n",
      "         0.0       0.79      0.93      0.86        99\n",
      "         1.0       0.89      0.70      0.78        80\n",
      "\n",
      "    accuracy                           0.83       179\n",
      "   macro avg       0.84      0.81      0.82       179\n",
      "weighted avg       0.84      0.83      0.82       179\n",
      "\n"
     ]
    }
   ],
   "source": [
    "from sklearn.metrics import classification_report,confusion_matrix\n",
    "print(classification_report(y_test,y_pred))\n"
   ]
  },
  {
   "cell_type": "code",
   "execution_count": 31,
   "metadata": {},
   "outputs": [
    {
     "data": {
      "text/html": [
       "<div>\n",
       "<style scoped>\n",
       "    .dataframe tbody tr th:only-of-type {\n",
       "        vertical-align: middle;\n",
       "    }\n",
       "\n",
       "    .dataframe tbody tr th {\n",
       "        vertical-align: top;\n",
       "    }\n",
       "\n",
       "    .dataframe thead th {\n",
       "        text-align: right;\n",
       "    }\n",
       "</style>\n",
       "<table border=\"1\" class=\"dataframe\">\n",
       "  <thead>\n",
       "    <tr style=\"text-align: right;\">\n",
       "      <th>Predicted</th>\n",
       "      <th>0.0</th>\n",
       "      <th>1.0</th>\n",
       "      <th>All</th>\n",
       "    </tr>\n",
       "    <tr>\n",
       "      <th>True</th>\n",
       "      <th></th>\n",
       "      <th></th>\n",
       "      <th></th>\n",
       "    </tr>\n",
       "  </thead>\n",
       "  <tbody>\n",
       "    <tr>\n",
       "      <th>0.0</th>\n",
       "      <td>92</td>\n",
       "      <td>7</td>\n",
       "      <td>99</td>\n",
       "    </tr>\n",
       "    <tr>\n",
       "      <th>1.0</th>\n",
       "      <td>24</td>\n",
       "      <td>56</td>\n",
       "      <td>80</td>\n",
       "    </tr>\n",
       "    <tr>\n",
       "      <th>All</th>\n",
       "      <td>116</td>\n",
       "      <td>63</td>\n",
       "      <td>179</td>\n",
       "    </tr>\n",
       "  </tbody>\n",
       "</table>\n",
       "</div>"
      ],
      "text/plain": [
       "Predicted  0.0  1.0  All\n",
       "True                    \n",
       "0.0         92    7   99\n",
       "1.0         24   56   80\n",
       "All        116   63  179"
      ]
     },
     "execution_count": 31,
     "metadata": {},
     "output_type": "execute_result"
    }
   ],
   "source": [
    "pd.crosstab(np.asarray(y_test['Survived'] ), y_pred, rownames=['True'], colnames=['Predicted'], margins=True)"
   ]
  },
  {
   "cell_type": "markdown",
   "metadata": {},
   "source": [
    "## Random Forest"
   ]
  },
  {
   "cell_type": "markdown",
   "metadata": {},
   "source": [
    "Een random forest doet in zekere zin wat de afgelopen tijd hebben uitgevoerd. Het fit een groot aantal bomen met verschillende parameter waardes en verschillende sub-samples van de dataset. De boom functioneert nu in zekere zin zoals een groep mensen een beslissing zouden maken. Iedere boom (of ieder mens) heeft een andere 'mening' (lees: parameters) om een voorspelling te maken. \n",
    "\n",
    "Het model evalueert iedere boom met andere paramter instellingen en input, en neemt hierover een gemiddelde om tot de beste voorspelling te komen. Dit voorkomt ook overfitten. Net zoals dat je een gedeeld mening van een grote groep beter kan nemen dan een enkel persoon, is de gemiddelde voorspellende waarde van een boom genomen om high variance te voorkomen. \n",
    "\n",
    "Random Forest heeft een groot aantal parameters die je kan tunen. \n",
    "\n",
    "    n_estimators=10, \n",
    "    criterion=’mse’, \n",
    "    max_depth=None, \n",
    "    min_samples_split=2, \n",
    "    min_samples_leaf=1, \n",
    "    min_weight_fraction_leaf=0.0, \n",
    "    max_features=’auto’, \n",
    "    max_leaf_nodes=None, \n",
    "    min_impurity_decrease=0.0, \n",
    "    min_impurity_split=None, \n",
    "    bootstrap=True, \n",
    "    oob_score=False, \n",
    "    n_jobs=1, \n",
    "    random_state=None, \n",
    "    verbose=0, \n",
    "    warm_start=False\n",
    "    \n",
    "    \n",
    "We zullen in gaan op enkele van deze die belangrijk zijn. "
   ]
  },
  {
   "cell_type": "code",
   "execution_count": 7,
   "metadata": {},
   "outputs": [],
   "source": [
    "def plot_tr_te(data, parameter):\n",
    "    x = list(range(len(data[0])))\n",
    "    plt.plot(x, data[0])\n",
    "    plt.plot(x, data[1])\n",
    "    plt.ylabel(\"score\")\n",
    "    plt.xlabel(parameter)\n",
    "    plt.show()"
   ]
  },
  {
   "cell_type": "markdown",
   "metadata": {},
   "source": [
    "#### n_estimators \n",
    "\n",
    "Het aantal bomen dat wordt gefit. Over het algemeen geldt, des te meer bomen, des te beter de voorspelling. Het kost het model wel veel computing power om alles te runnen, er moeten immers veel bomen worden gemaakt! Je bent vaak opzoek naar een punt waarin het aantal estimates voldoende is om je testdata te voorspellen. \n",
    "\n",
    "Hieronder zien we dat er bij 20 toch wel een maximum is bereikt"
   ]
  },
  {
   "cell_type": "code",
   "execution_count": 8,
   "metadata": {},
   "outputs": [
    {
     "ename": "AttributeError",
     "evalue": "'NoneType' object has no attribute 'Survived'",
     "output_type": "error",
     "traceback": [
      "\u001b[0;31m---------------------------------------------------------------------------\u001b[0m",
      "\u001b[0;31mAttributeError\u001b[0m                            Traceback (most recent call last)",
      "\u001b[0;32m<ipython-input-8-71702e35e677>\u001b[0m in \u001b[0;36m<module>\u001b[0;34m\u001b[0m\n\u001b[1;32m      4\u001b[0m \u001b[0;32mfor\u001b[0m \u001b[0mi\u001b[0m \u001b[0;32min\u001b[0m \u001b[0mrange\u001b[0m\u001b[0;34m(\u001b[0m\u001b[0;36m1\u001b[0m\u001b[0;34m,\u001b[0m\u001b[0;36m50\u001b[0m\u001b[0;34m)\u001b[0m\u001b[0;34m:\u001b[0m\u001b[0;34m\u001b[0m\u001b[0;34m\u001b[0m\u001b[0m\n\u001b[1;32m      5\u001b[0m     \u001b[0mm\u001b[0m \u001b[0;34m=\u001b[0m \u001b[0mRandomForestClassifier\u001b[0m\u001b[0;34m(\u001b[0m\u001b[0mn_estimators\u001b[0m\u001b[0;34m=\u001b[0m\u001b[0mi\u001b[0m\u001b[0;34m)\u001b[0m\u001b[0;34m\u001b[0m\u001b[0;34m\u001b[0m\u001b[0m\n\u001b[0;32m----> 6\u001b[0;31m     \u001b[0mm\u001b[0m\u001b[0;34m.\u001b[0m\u001b[0mfit\u001b[0m\u001b[0;34m(\u001b[0m\u001b[0mx_train\u001b[0m\u001b[0;34m,\u001b[0m \u001b[0mlist\u001b[0m\u001b[0;34m(\u001b[0m\u001b[0my_train\u001b[0m\u001b[0;34m.\u001b[0m\u001b[0mSurvived\u001b[0m\u001b[0;34m)\u001b[0m\u001b[0;34m)\u001b[0m\u001b[0;34m;\u001b[0m\u001b[0;34m\u001b[0m\u001b[0;34m\u001b[0m\u001b[0m\n\u001b[0m\u001b[1;32m      7\u001b[0m \u001b[0;34m\u001b[0m\u001b[0m\n\u001b[1;32m      8\u001b[0m     \u001b[0mtrain_score\u001b[0m \u001b[0;34m=\u001b[0m \u001b[0mm\u001b[0m\u001b[0;34m.\u001b[0m\u001b[0mscore\u001b[0m\u001b[0;34m(\u001b[0m\u001b[0mx_train\u001b[0m\u001b[0;34m,\u001b[0m \u001b[0mlist\u001b[0m\u001b[0;34m(\u001b[0m\u001b[0my_train\u001b[0m\u001b[0;34m.\u001b[0m\u001b[0mSurvived\u001b[0m\u001b[0;34m)\u001b[0m\u001b[0;34m)\u001b[0m\u001b[0;34m\u001b[0m\u001b[0;34m\u001b[0m\u001b[0m\n",
      "\u001b[0;31mAttributeError\u001b[0m: 'NoneType' object has no attribute 'Survived'"
     ]
    }
   ],
   "source": [
    "from sklearn.ensemble import RandomForestClassifier\n",
    "\n",
    "tr_te = []\n",
    "for i in range(1,50):     \n",
    "    m = RandomForestClassifier(n_estimators=i)\n",
    "    m.fit(x_train, list(y_train.Survived));\n",
    "    \n",
    "    train_score = m.score(x_train, list(y_train.Survived))\n",
    "    test_score = m.score(x_test, list(y_test.Survived))\n",
    "    \n",
    "    tr_te.append([train_score, test_score])\n",
    "\n",
    "print(max(tr_te), tr_te.index(max(tr_te)))\n",
    "plot_tr_te(list(map(list, zip(*tr_te))), \"n_estimators\")"
   ]
  },
  {
   "cell_type": "markdown",
   "metadata": {},
   "source": [
    "#### max_depth\n",
    "\n",
    "Doe nu hetzelfde voor max_depth! Neem een range die voor jou aannemelijk is. Doe daarna een 'voorspelling' over wat de beste range is om aan te passen in je parameters. \n",
    "\n",
    "### Actie! \n",
    "\n",
    "Ach de actie staat hierboven beschreven. Voer het nu uit! "
   ]
  },
  {
   "cell_type": "code",
   "execution_count": 2,
   "metadata": {},
   "outputs": [
    {
     "ename": "SyntaxError",
     "evalue": "invalid syntax (<ipython-input-2-8b1e041c40ea>, line 4)",
     "output_type": "error",
     "traceback": [
      "\u001b[0;36m  File \u001b[0;32m\"<ipython-input-2-8b1e041c40ea>\"\u001b[0;36m, line \u001b[0;32m4\u001b[0m\n\u001b[0;31m    m.fit(x_train, list(y_train.Survived));\u001b[0m\n\u001b[0m                                          ^\u001b[0m\n\u001b[0;31mSyntaxError\u001b[0m\u001b[0;31m:\u001b[0m invalid syntax\n"
     ]
    }
   ],
   "source": [
    "tr_te = []\n",
    "for i in range(1,50):     \n",
    "    m = RandomForestClassifier(# Vul de paramter hier in)\n",
    "    m.fit(x_train, list(y_train.Survived));\n",
    "    \n",
    "    train_score = m.score(x_train, list(y_train.Survived))\n",
    "    test_score = m.score(x_test, list(y_test.Survived))\n",
    "    \n",
    "    tr_te.append([train_score, test_score])\n",
    "\n",
    "    \n",
    "plot_tr_te(list(map(list, zip(*tr_te))), # Pas de naam van de paramter hier aan)"
   ]
  },
  {
   "cell_type": "markdown",
   "metadata": {},
   "source": [
    "#### max_features\n",
    "\n",
    "\n",
    "### Actie! \n",
    "\n",
    "Kijk hoe de parameter max_features zich gedraagd met verschillende input values. Wat vindt je voor informatie uit deze grafiek? Wat zegt dit over het tunen van deze paramater? \n",
    "\n",
    "Extra info over hoe sklearn omgaat met deze paramter: \n",
    "\n",
    "*Volgens de sklearn documentatie zal een forest altijd een split zoeken hoger dan de maximum aangegeven hoeveelheid features als ze geen geldige partitie kunnen vinden van de node samples.* "
   ]
  },
  {
   "cell_type": "code",
   "execution_count": 5,
   "metadata": {},
   "outputs": [
    {
     "ename": "SyntaxError",
     "evalue": "invalid syntax (<ipython-input-5-fd54bf47a845>, line 4)",
     "output_type": "error",
     "traceback": [
      "\u001b[0;36m  File \u001b[0;32m\"<ipython-input-5-fd54bf47a845>\"\u001b[0;36m, line \u001b[0;32m4\u001b[0m\n\u001b[0;31m    m.fit(x_train, list(y_train.Survived));\u001b[0m\n\u001b[0m                                          ^\u001b[0m\n\u001b[0;31mSyntaxError\u001b[0m\u001b[0;31m:\u001b[0m invalid syntax\n"
     ]
    }
   ],
   "source": [
    "tr_te = []\n",
    "for i in range(1,len(x_train.columns)):     \n",
    "    m = RandomForestClassifier(# Vul de parameter met value hier in)\n",
    "    m.fit(x_train, list(y_train.Survived));\n",
    "    \n",
    "    train_score = m.score(x_train, list(y_train.Survived))\n",
    "    test_score = m.score(x_test, list(y_test.Survived))\n",
    "    \n",
    "    tr_te.append([train_score, test_score])\n",
    "\n",
    "    \n",
    "plot_tr_te(list(map(list, zip(*tr_te))), # Pas de naam van de paramter hier aan)\n",
    "print(x_train.columns)"
   ]
  },
  {
   "cell_type": "markdown",
   "metadata": {},
   "source": [
    "#### min_sample_split\n",
    "\n",
    "### Actie! \n",
    "\n",
    "Kijk hoe de parameter min_sample_split zich gedraagd met verschillende input values. Wat vindt je voor informatie uit deze grafiek? Wat zegt dit over het tunen van deze paramater? "
   ]
  },
  {
   "cell_type": "code",
   "execution_count": 4,
   "metadata": {},
   "outputs": [
    {
     "ename": "SyntaxError",
     "evalue": "invalid syntax (<ipython-input-4-d26b3f0f36ea>, line 7)",
     "output_type": "error",
     "traceback": [
      "\u001b[0;36m  File \u001b[0;32m\"<ipython-input-4-d26b3f0f36ea>\"\u001b[0;36m, line \u001b[0;32m7\u001b[0m\n\u001b[0;31m    m.fit(x_train, list(y_train.Survived));\u001b[0m\n\u001b[0m                                          ^\u001b[0m\n\u001b[0;31mSyntaxError\u001b[0m\u001b[0;31m:\u001b[0m invalid syntax\n"
     ]
    }
   ],
   "source": [
    "tr_te = []\n",
    "\n",
    "min_samples_leafs = np.linspace(0.1, 0.8, 5, endpoint=True)\n",
    "\n",
    "for i in min_samples_leafs:     \n",
    "    m = RandomForestClassifier(# Vul de parameter met instelling hier in)\n",
    "    m.fit(x_train, list(y_train.Survived));\n",
    "    \n",
    "    train_score = m.score(x_train, list(y_train.Survived))\n",
    "    test_score = m.score(x_test, list(y_test.Survived))\n",
    "    \n",
    "    tr_te.append([train_score, test_score])\n",
    "\n",
    "    \n",
    "plot_tr_te(list(map(list, zip(*tr_te))), # Pas de naam van de paramter hier aan)"
   ]
  },
  {
   "cell_type": "markdown",
   "metadata": {},
   "source": [
    "#### Criterion\n",
    "\n",
    "Doe dit ook voor de Criterion! Gini of entropy, kan je zien welke beter is? "
   ]
  },
  {
   "cell_type": "code",
   "execution_count": 9,
   "metadata": {},
   "outputs": [
    {
     "ename": "SyntaxError",
     "evalue": "invalid syntax (<ipython-input-9-545406405cfe>, line 3)",
     "output_type": "error",
     "traceback": [
      "\u001b[0;36m  File \u001b[0;32m\"<ipython-input-9-545406405cfe>\"\u001b[0;36m, line \u001b[0;32m3\u001b[0m\n\u001b[0;31m    crit = # Vul hier de criteria in!\u001b[0m\n\u001b[0m                                      ^\u001b[0m\n\u001b[0;31mSyntaxError\u001b[0m\u001b[0;31m:\u001b[0m invalid syntax\n"
     ]
    }
   ],
   "source": [
    "tr_te = []\n",
    "\n",
    "crit = # Vul hier de criteria in! \n",
    "\n",
    "for i in crit:     \n",
    "    m = RandomForestClassifier(# Vul hier de paramter waardes in)\n",
    "    m.fit(x_train, list(y_train.Survived));\n",
    "    \n",
    "    train_score = m.score(x_train, list(y_train.Survived))\n",
    "    test_score = m.score(x_test, list(y_test.Survived))\n",
    "    \n",
    "    tr_te.append([train_score, test_score])\n",
    "\n",
    "    \n",
    "train = list(map(list, zip(*tr_te)))[0]\n",
    "test = list(map(list, zip(*tr_te)))[1]\n",
    "\n",
    "print(\"Entropy, training set: {}, test set: {}\".format( train[0], test[0]))\n",
    "print(\"Gini,    training set: {}, test set: {}\".format( train[1], test[1]))"
   ]
  },
  {
   "cell_type": "markdown",
   "metadata": {},
   "source": [
    "#### ROC Curve \n",
    "\n",
    "Nog algemeen de ROC curve. Hier hoef je niets mee te doen. Slechts ter orientatie. \n",
    "\n",
    "[link naar scikit roc curve](https://scikit-learn.org/stable/auto_examples/plot_roc_curve_visualization_api.html)."
   ]
  },
  {
   "cell_type": "code",
   "execution_count": 10,
   "metadata": {},
   "outputs": [
    {
     "ename": "AttributeError",
     "evalue": "'NoneType' object has no attribute 'Survived'",
     "output_type": "error",
     "traceback": [
      "\u001b[0;31m---------------------------------------------------------------------------\u001b[0m",
      "\u001b[0;31mAttributeError\u001b[0m                            Traceback (most recent call last)",
      "\u001b[0;32m<ipython-input-10-a92c775fa249>\u001b[0m in \u001b[0;36m<module>\u001b[0;34m\u001b[0m\n\u001b[1;32m      2\u001b[0m \u001b[0;34m\u001b[0m\u001b[0m\n\u001b[1;32m      3\u001b[0m \u001b[0mm\u001b[0m \u001b[0;34m=\u001b[0m \u001b[0mRandomForestClassifier\u001b[0m\u001b[0;34m(\u001b[0m\u001b[0;34m)\u001b[0m\u001b[0;34m\u001b[0m\u001b[0;34m\u001b[0m\u001b[0m\n\u001b[0;32m----> 4\u001b[0;31m \u001b[0mm\u001b[0m\u001b[0;34m.\u001b[0m\u001b[0mfit\u001b[0m\u001b[0;34m(\u001b[0m\u001b[0mx_train\u001b[0m\u001b[0;34m,\u001b[0m \u001b[0mlist\u001b[0m\u001b[0;34m(\u001b[0m\u001b[0my_train\u001b[0m\u001b[0;34m.\u001b[0m\u001b[0mSurvived\u001b[0m\u001b[0;34m)\u001b[0m\u001b[0;34m)\u001b[0m\u001b[0;34m;\u001b[0m\u001b[0;34m\u001b[0m\u001b[0;34m\u001b[0m\u001b[0m\n\u001b[0m\u001b[1;32m      5\u001b[0m \u001b[0;34m\u001b[0m\u001b[0m\n\u001b[1;32m      6\u001b[0m \u001b[0mplot_roc_curve\u001b[0m\u001b[0;34m(\u001b[0m\u001b[0mm\u001b[0m\u001b[0;34m,\u001b[0m \u001b[0mx_test\u001b[0m\u001b[0;34m,\u001b[0m \u001b[0my_test\u001b[0m\u001b[0;34m)\u001b[0m\u001b[0;34m\u001b[0m\u001b[0;34m\u001b[0m\u001b[0m\n",
      "\u001b[0;31mAttributeError\u001b[0m: 'NoneType' object has no attribute 'Survived'"
     ]
    }
   ],
   "source": [
    "from sklearn.metrics import plot_roc_curve\n",
    "\n",
    "m = RandomForestClassifier()\n",
    "m.fit(x_train, list(y_train.Survived));\n",
    "\n",
    "plot_roc_curve(m, x_test, y_test)"
   ]
  },
  {
   "cell_type": "markdown",
   "metadata": {},
   "source": [
    "# Hyperparameter tuning\n",
    "\n",
    "Klinkt als een spannend science fiction boek? Bijna ja. Dit is een methode om je model te optimaliseren voor het voorspellen van je dataset. Je ben namelijk op zoek naar de OPTIMALE parameters! Hierboven hebben we al een en ander uitegezocht. Maar er is nog meer wat we kunnen doen. We kunnen namelijk een willekeurige set aan paramter values maken en die testen op ons random forest! "
   ]
  },
  {
   "cell_type": "markdown",
   "metadata": {},
   "source": [
    "### Actie! \n",
    "\n",
    "Neem een aantal waardes voor de parameters waarvan JIJ denkt dat ze een GOEDE range zijn voor het voorspellen van je dataset. Doe dit voor de volgende parameters: \n",
    "\n",
    "    'bootstrap'\n",
    "    'max_depth'\n",
    "    'max_features'\n",
    "    'min_samples_leaf'\n",
    "    'min_samples_split'\n",
    "    'n_estimators'\n",
    "    \n",
    "Als je denkt dat een van deze parameters geen toegevoegde waarde heeft bij het voorspellen van ons model, dan mag je deze er uit laten. Als je denkt, wow er mist er echt een die mijn model enorm gaat verbeteren, voeg deze dan toe met values. \n",
    "\n",
    "Een advies voor n_estimators is bijvoorbeeld: \n",
    "\n",
    "    n_estimators = [int(x) for x in np.linspace(start = 200, stop = 2000, num = 10)]\n"
   ]
  },
  {
   "cell_type": "code",
   "execution_count": 43,
   "metadata": {},
   "outputs": [
    {
     "ename": "SyntaxError",
     "evalue": "invalid syntax (<ipython-input-43-db737f5e2889>, line 3)",
     "output_type": "error",
     "traceback": [
      "\u001b[0;36m  File \u001b[0;32m\"<ipython-input-43-db737f5e2889>\"\u001b[0;36m, line \u001b[0;32m3\u001b[0m\n\u001b[0;31m    'max_features': ['auto', 'sqrt'],\u001b[0m\n\u001b[0m                  ^\u001b[0m\n\u001b[0;31mSyntaxError\u001b[0m\u001b[0;31m:\u001b[0m invalid syntax\n"
     ]
    }
   ],
   "source": [
    "random_parameters = {'bootstrap': [True, False],\n",
    "                     'max_depth': [# Vul values in ],\n",
    "                     'criterion': [# Vul values in]\n",
    "                     'min_samples_leaf': [# Vul values in],\n",
    "                     'min_samples_split': [# Vul values in],\n",
    "                     'n_estimators': [#Vul values in]\n",
    "                    }"
   ]
  },
  {
   "cell_type": "markdown",
   "metadata": {},
   "source": [
    "### Oke nu kunnen we deze testen! \n",
    "\n",
    "Dit is nu nog in proces. Mocht je zover zijn dan moet je even de docenten bereiken. Wellicht doen we dit klassikaal!"
   ]
  },
  {
   "cell_type": "code",
   "execution_count": null,
   "metadata": {},
   "outputs": [],
   "source": [
    "# Kijk wat de beste parameters zijn\n",
    "\n",
    "\n",
    "\n",
    "\n"
   ]
  },
  {
   "cell_type": "code",
   "execution_count": null,
   "metadata": {},
   "outputs": [],
   "source": []
  }
 ],
 "metadata": {
  "kernelspec": {
   "display_name": "Python 3",
   "language": "python",
   "name": "python3"
  },
  "language_info": {
   "codemirror_mode": {
    "name": "ipython",
    "version": 3
   },
   "file_extension": ".py",
   "mimetype": "text/x-python",
   "name": "python",
   "nbconvert_exporter": "python",
   "pygments_lexer": "ipython3",
   "version": "3.7.6"
  }
 },
 "nbformat": 4,
 "nbformat_minor": 2
}
