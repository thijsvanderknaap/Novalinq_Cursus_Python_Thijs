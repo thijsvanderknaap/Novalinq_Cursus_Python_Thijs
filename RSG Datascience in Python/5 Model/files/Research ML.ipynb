{
 "cells": [
  {
   "cell_type": "code",
   "execution_count": 1,
   "metadata": {},
   "outputs": [],
   "source": [
    "notes = []"
   ]
  },
  {
   "cell_type": "markdown",
   "metadata": {},
   "source": [
    "# Linear regression.  \n",
    "  \n",
    "  a fathers sons height tends to regress towards the mean height of everyone else.  \n"
   ]
  },
  {
   "cell_type": "markdown",
   "metadata": {},
   "source": [
    "# Least Squares methode.  \n",
    "\n",
    "Closeness in the up and down richting.\n",
    "\n",
    "classic lineair regression. \n",
    "Een lijn die gemiddeld genomen het minste ver weg van van alle andere lijnen.  \n",
    "\n",
    "  \n",
    "  som van de squares of the residuals.\n",
    "  redisuals is het verschil tussen y-value (observation) en de gefitte lijn.\n",
    "  \n",
    "  "
   ]
  },
  {
   "cell_type": "markdown",
   "metadata": {},
   "source": [
    "scikitlearn \n",
    "\n",
    "MAE, MSE RMSE"
   ]
  },
  {
   "cell_type": "code",
   "execution_count": null,
   "metadata": {},
   "outputs": [],
   "source": [
    "# Data nemen\n",
    "Data splitten in text en train.\n"
   ]
  },
  {
   "cell_type": "markdown",
   "metadata": {},
   "source": [
    "# Bias Variance tradeoff"
   ]
  },
  {
   "cell_type": "markdown",
   "metadata": {},
   "source": [
    "### confusion matrix  \n",
    "\n",
    "tp, fp, tn, fn,.\n",
    "\n",
    "type 1 and 2 errors.  \n",
    "\n",
    "accuracy score.  \n",
    "\n",
    "misclassification- rate"
   ]
  },
  {
   "cell_type": "code",
   "execution_count": null,
   "metadata": {},
   "outputs": [],
   "source": []
  },
  {
   "cell_type": "code",
   "execution_count": null,
   "metadata": {},
   "outputs": [],
   "source": []
  }
 ],
 "metadata": {
  "kernelspec": {
   "display_name": "Python 3",
   "language": "python",
   "name": "python3"
  },
  "language_info": {
   "codemirror_mode": {
    "name": "ipython",
    "version": 3
   },
   "file_extension": ".py",
   "mimetype": "text/x-python",
   "name": "python",
   "nbconvert_exporter": "python",
   "pygments_lexer": "ipython3",
   "version": "3.7.4"
  }
 },
 "nbformat": 4,
 "nbformat_minor": 2
}
