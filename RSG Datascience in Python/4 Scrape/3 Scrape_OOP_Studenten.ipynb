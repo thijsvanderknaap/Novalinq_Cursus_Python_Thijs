{
 "cells": [
  {
   "cell_type": "markdown",
   "metadata": {},
   "source": [
    "# Scrape je web Object Oriented! "
   ]
  },
  {
   "cell_type": "markdown",
   "metadata": {},
   "source": [
    "## 1. Programming paradigma's\n",
    "\n",
    "Object-oriented Programming (OOP). Het is een [Programming paradigm](https://en.wikipedia.org/wiki/Programming_paradigm). Een manier om je code en data te structureren. \n",
    "\n",
    "Vorige week hadden we het over [Procedural programmeren](https://en.wikipedia.org/wiki/Procedural_programming) en [Functional programmeren](https://en.wikipedia.org/wiki/Functional_programming). Twee paradigma's die wij tot nu toe hebben gebruikt en die hier nog even kort worden toegelicht."
   ]
  },
  {
   "cell_type": "markdown",
   "metadata": {},
   "source": [
    "### 1.1 Procedural programmeren\n",
    "\n",
    "Dit paradigma heeft een lineair verloop, data en procedures zijn hier losgekoppeld. Het is ideeal om een vrij generiek probleem op te lossen zonder over een grotere structuur na te denken. \n",
    "\n",
    "Het gaat hier om de **Procedure**, zodat er een duidelijke input en verwachte output is. "
   ]
  },
  {
   "cell_type": "code",
   "execution_count": 1,
   "metadata": {},
   "outputs": [
    {
     "name": "stdout",
     "output_type": "stream",
     "text": [
      "procedure worked\n"
     ]
    }
   ],
   "source": [
    "x = 2\n",
    "\n",
    "def procedure(x):\n",
    "    x = x + 1\n",
    "    return x\n",
    "\n",
    "if procedure(x) > 2: \n",
    "    print(\"procedure worked\")"
   ]
  },
  {
   "cell_type": "markdown",
   "metadata": {},
   "source": [
    "Eigelijk is een heel jupyter notebook bestand Procedural met hier en daar functionele definities. Alle instances en variabelen worden onthouden. Wij maken tot nu toe vooral gebruik van procedural programmeren, het paradigma waar veel beginnende coders mee starten. "
   ]
  },
  {
   "cell_type": "markdown",
   "metadata": {},
   "source": [
    "### 1.2 Functional programmeren\n",
    "Dit paradigma is ondersteund door Python, data en procedures zijn hier losgekoppeld. Een werkbare vorm is met **lambda** maar het kan natuurlijk ook met definities. \n",
    "\n",
    "Een python programma maakt soms wel gebruik van functioneel programmeren. Vaak voor complexe wiskundige oplossingen, recursie processen en dergelijk, meestal behoort het tot hogere orde functie voor specifieke datamanipulatie of computatie. \n",
    "\n",
    "Functioneel programmeren is er vooral op gericht efficiente code te schrijven. Veel code die volgens procedural methods is geschreven kan sneller en efficienter door het functioneel te maken. \n",
    "\n",
    "Het gaat hier om de **Functie**, hier is de output afhankelijk van de input."
   ]
  },
  {
   "cell_type": "code",
   "execution_count": 2,
   "metadata": {},
   "outputs": [],
   "source": [
    "addition = lambda a, b: a + b"
   ]
  },
  {
   "cell_type": "code",
   "execution_count": 3,
   "metadata": {},
   "outputs": [
    {
     "data": {
      "text/plain": [
       "7"
      ]
     },
     "execution_count": 3,
     "metadata": {},
     "output_type": "execute_result"
    }
   ],
   "source": [
    "addition(3, 4)  # returns 7"
   ]
  },
  {
   "cell_type": "markdown",
   "metadata": {},
   "source": [
    "Wat gebeurt hier? **Lambda** doet zich voor als functie met input _a en b_ die een functie uitvoert, namelijk _a + b_. \n",
    "\n",
    "**def** doet natuurlijk hetzelfde.."
   ]
  },
  {
   "cell_type": "code",
   "execution_count": 4,
   "metadata": {},
   "outputs": [
    {
     "data": {
      "text/plain": [
       "7"
      ]
     },
     "execution_count": 4,
     "metadata": {},
     "output_type": "execute_result"
    }
   ],
   "source": [
    "def addition_def(a, b):\n",
    "    return a + b\n",
    "\n",
    "addition_def(3,4)"
   ]
  },
  {
   "cell_type": "markdown",
   "metadata": {},
   "source": [
    " <h4 style=\"color:blue;\">Wat maakt lambda dan bijzonder?</h4> \n",
    " \n",
    "Leuk dat je het vraagt. Lambda heeft vooral een meerwaarde als je het binnen een andere functie gebruikt. "
   ]
  },
  {
   "cell_type": "code",
   "execution_count": 1,
   "metadata": {},
   "outputs": [],
   "source": [
    "def myfunc(n):\n",
    "    return lambda a : a * n"
   ]
  },
  {
   "cell_type": "code",
   "execution_count": 2,
   "metadata": {},
   "outputs": [
    {
     "data": {
      "text/plain": [
       "<function __main__.myfunc.<locals>.<lambda>(a)>"
      ]
     },
     "execution_count": 2,
     "metadata": {},
     "output_type": "execute_result"
    }
   ],
   "source": [
    "mydoubler = myfunc(2)\n",
    "mydoubler"
   ]
  },
  {
   "cell_type": "markdown",
   "metadata": {},
   "source": [
    "**mydoubler** is nu een functie die een waarde (a) kan ontvangen en die waarde vermendigvuldigd. Wat dit beter maakt, is dat je door myfunc(value) aan te roepen direct een definitie maakt die een andere vermenigvuldigingsformule voor je aanmaakt. Je hoeft geen nieuwe definitie aan te maken of nog een variabele mee te geven aan de functie. "
   ]
  },
  {
   "cell_type": "code",
   "execution_count": 7,
   "metadata": {
    "scrolled": true
   },
   "outputs": [
    {
     "data": {
      "text/plain": [
       "10"
      ]
     },
     "execution_count": 7,
     "metadata": {},
     "output_type": "execute_result"
    }
   ],
   "source": [
    "mydoubler(5)"
   ]
  },
  {
   "cell_type": "markdown",
   "metadata": {},
   "source": [
    "Duidelijk? Laten we het eens zelf proberen."
   ]
  },
  {
   "cell_type": "markdown",
   "metadata": {},
   "source": [
    "# Actie!\n",
    "\n",
    "Schrijf de volgende functie om tot een definitie met lambda functie. "
   ]
  },
  {
   "cell_type": "code",
   "execution_count": 15,
   "metadata": {},
   "outputs": [],
   "source": [
    "def age(birth_year, current_year):\n",
    "    return current_year - birth_year"
   ]
  },
  {
   "cell_type": "code",
   "execution_count": 20,
   "metadata": {},
   "outputs": [],
   "source": [
    "# Eigen Code \n",
    "\n",
    "def age(birthyear, current_year):\n",
    "    return lambda birthyear, current_year : current_year - birthyear\n",
    "leeftijd = age(1993,2020)\n",
    "\n",
    "leeftijd(1993,2020)"
   ]
  },
  {
   "cell_type": "code",
   "execution_count": 23,
   "metadata": {},
   "outputs": [
    {
     "name": "stdout",
     "output_type": "stream",
     "text": [
      "<function age.<locals>.<lambda> at 0x000001E1DAFA3438>\n"
     ]
    },
    {
     "data": {
      "text/plain": [
       "27"
      ]
     },
     "execution_count": 23,
     "metadata": {},
     "output_type": "execute_result"
    }
   ],
   "source": [
    "print(age(1993, 2020))\n",
    "\n",
    "# Eigen code (print je nieuwe functie hierbij)\n",
    "\n",
    "leeftijd(1993,2020)\n"
   ]
  },
  {
   "cell_type": "markdown",
   "metadata": {},
   "source": [
    "### 1.3 Objectgeorienteerd programmeren\n",
    "\n",
    "https://realpython.com/python3-object-oriented-programming/\n",
    "\n",
    "Hier een aantal voordelen\n",
    "\n",
    "Het is vrij intuitief. Een object met attributen kan bijvoorbeeld zijn het object hond met attributen benen, leeftijd, naam, geluid (woef). Dit maakt het voor mensen ook erg begrijpbaar. \n",
    "\n",
    "Het is robuust. Je schrijft code met een structuur waar oop voor is gemaakt. Elk object die je aanmaakt heeft elementen die met elkaar kunnen refereren. \n",
    "\n",
    "Dit genereert het volgende voordeel, namelijk het gegeven 'inheritance' (erfenis). Objecten kunnen informatie doorspelen en opslaan. Je weet gelijk ook waar informatie is opgeslagen (tenminste in welk object). Veel projecten worden opgebouwd OO (object oriented) met de reden dat het proces een duidelijke opbouw en structuur heeft.\n",
    "\n",
    "Een voordeel van informatie per object is het gegeven 'encapsulation'. Specifieke informatie is veilig geborgen in een eigen class. Nieuwe programmers kunnen hierdoor niet veel schade aanrichten mochten ze veel willen aanpassen. \n",
    "\n",
    "Een laatste voordeel dan? Dit is goed voor je CV. Mensen willen dit, geloof me. En als je er verder induikt, dan jij ook. "
   ]
  },
  {
   "cell_type": "markdown",
   "metadata": {},
   "source": [
    "### Even wat praktijk!\n",
    "\n",
    "Stel we hebben een student, deze student heeft een aantal eigenschappen. Denk aan NAAM, LEEFTIJD, STUDIE_RICHTING etcetera. \n",
    "\n",
    "Deze student (met zij/haar attributen, <strong>lees:</strong> *instance attributes*) kunnen we perfect als een <em>object</em> in onze code opslaan.  \n",
    "  \n",
    "Laten we een student aanmaken. "
   ]
  },
  {
   "cell_type": "code",
   "execution_count": 24,
   "metadata": {},
   "outputs": [],
   "source": [
    "class Student: \n",
    "    \n",
    "    def __init__(self):\n",
    "        pass"
   ]
  },
  {
   "cell_type": "markdown",
   "metadata": {},
   "source": [
    "# init & self\n",
    "\n",
    "WOW what just happened? init? self? Laten we deze even ontleden. \n",
    "\n",
    "**init** betekend de initialisering van het object student.  \n",
    "Init moet altijd een argument meekrijgen, namelijk **self**, die refereert naar het object zelf.  \n",
    "\n",
    "We kunnen nu de class STUDENT aanroepen. "
   ]
  },
  {
   "cell_type": "code",
   "execution_count": 25,
   "metadata": {},
   "outputs": [
    {
     "data": {
      "text/plain": [
       "<__main__.Student at 0x1e1dafa5c48>"
      ]
     },
     "execution_count": 25,
     "metadata": {},
     "output_type": "execute_result"
    }
   ],
   "source": [
    "student = Student()\n",
    "student"
   ]
  },
  {
   "cell_type": "markdown",
   "metadata": {},
   "source": [
    "**Main** is hier de referentie naar het object vanaf waar de attributen en methods aangeroepen kunnen worden. "
   ]
  },
  {
   "cell_type": "markdown",
   "metadata": {},
   "source": [
    "### 1.3.1 Attributes\n",
    "\n",
    "Je kan de student ook nieuwe attributen geven zoals NAAM en LEEFTIJD. Dit wordt dan opgeslagen in het object STUDENT"
   ]
  },
  {
   "cell_type": "code",
   "execution_count": 26,
   "metadata": {},
   "outputs": [],
   "source": [
    "class Student: \n",
    "    \n",
    "    def __init__(self, name, age):\n",
    "        self.name = name\n",
    "        self.age = age"
   ]
  },
  {
   "cell_type": "markdown",
   "metadata": {},
   "source": [
    "Nu kunnen we een student aanroepen met een NAAM en een LEEFTIJD. Deze worden dan opgeslagen als attribuut van het object. "
   ]
  },
  {
   "cell_type": "code",
   "execution_count": 27,
   "metadata": {},
   "outputs": [],
   "source": [
    "student = Student(\"Timo\", 26)"
   ]
  },
  {
   "cell_type": "markdown",
   "metadata": {},
   "source": [
    "We kunnen ook nieuwe attributen initialiseren en aanroepen. "
   ]
  },
  {
   "cell_type": "code",
   "execution_count": 11,
   "metadata": {},
   "outputs": [],
   "source": [
    "student.discipline = 'AI'"
   ]
  },
  {
   "cell_type": "code",
   "execution_count": 12,
   "metadata": {},
   "outputs": [
    {
     "data": {
      "text/plain": [
       "('Timo', 'AI', 26)"
      ]
     },
     "execution_count": 12,
     "metadata": {},
     "output_type": "execute_result"
    }
   ],
   "source": [
    "(student.name, student.discipline, student.age)"
   ]
  },
  {
   "cell_type": "markdown",
   "metadata": {},
   "source": [
    "Stel we maken nu een nieuwe student aan"
   ]
  },
  {
   "cell_type": "code",
   "execution_count": 13,
   "metadata": {},
   "outputs": [],
   "source": [
    "student = Student(\"Josse\", 28)"
   ]
  },
  {
   "cell_type": "code",
   "execution_count": 14,
   "metadata": {},
   "outputs": [
    {
     "ename": "AttributeError",
     "evalue": "'Student' object has no attribute 'discipline'",
     "output_type": "error",
     "traceback": [
      "\u001b[0;31m---------------------------------------------------------------------------\u001b[0m",
      "\u001b[0;31mAttributeError\u001b[0m                            Traceback (most recent call last)",
      "\u001b[0;32m<ipython-input-14-5f0ec9eaf7b0>\u001b[0m in \u001b[0;36m<module>\u001b[0;34m\u001b[0m\n\u001b[0;32m----> 1\u001b[0;31m \u001b[0mstudent\u001b[0m\u001b[0;34m.\u001b[0m\u001b[0mname\u001b[0m\u001b[0;34m,\u001b[0m \u001b[0mstudent\u001b[0m\u001b[0;34m.\u001b[0m\u001b[0mdiscipline\u001b[0m\u001b[0;34m,\u001b[0m \u001b[0mstudent\u001b[0m\u001b[0;34m.\u001b[0m\u001b[0mage\u001b[0m\u001b[0;34m\u001b[0m\u001b[0;34m\u001b[0m\u001b[0m\n\u001b[0m",
      "\u001b[0;31mAttributeError\u001b[0m: 'Student' object has no attribute 'discipline'"
     ]
    }
   ],
   "source": [
    "student.name, student.discipline, student.age"
   ]
  },
  {
   "cell_type": "markdown",
   "metadata": {},
   "source": [
    "### Actie!  \n",
    "  \n",
    "Waarom de Error?  \n",
    "Probeer de Error in de cell hieronder op te lossen.  \n",
    "Kijk goed naar wat er in bovenstaande code gebeurt.  "
   ]
  },
  {
   "cell_type": "code",
   "execution_count": 15,
   "metadata": {},
   "outputs": [],
   "source": [
    "# Eigen code\n",
    "\n",
    "\n"
   ]
  },
  {
   "cell_type": "markdown",
   "metadata": {},
   "source": [
    "# Methods  \n",
    "  \n",
    "Goed te doen niet? We kunnen attributen dus ook toewijzen aan instances van objecten, in plaats van slechts aan de class.  \n",
    "\n",
    "Het is netter om het toewijzen van attributen naar een object binnen de class te doen in plaats van erbuiten. Hiervoor hebben we **methods** nodig ->"
   ]
  },
  {
   "cell_type": "markdown",
   "metadata": {},
   "source": [
    "### 1.3.2 Methods\n",
    "\n",
    "Een method is als een functie in procedural programming. Alleen deze wordt opgeroepen als methode *binnen* het object van dezelfde **class**.\n",
    "\n",
    "### Prior  \n",
    "Als we van tevoren iets weten over het object en we dit al bij de __init__ willen definieren, dan noemen we dit een **Prior**. Elke student die we aanroepen zit bijvoorbeeld sowieso op **Hockwards**.  \n",
    "\n",
    "Een handige notatie is binnen de initialisering van de class. Hiermee maak je duidelijk welke attribuut vooraf aangenomen wordt. De school verandert immers niet.   "
   ]
  },
  {
   "cell_type": "code",
   "execution_count": 28,
   "metadata": {},
   "outputs": [],
   "source": [
    "class Student: \n",
    "    \n",
    "    def __init__(self, name, age, school=\"Hockwards\"):\n",
    "        self.name = name\n",
    "        self.age = age\n",
    "        self.school = school\n",
    "        \n",
    "    def print_name(self):\n",
    "        return print(\"Name is : \" + self.name)"
   ]
  },
  {
   "cell_type": "code",
   "execution_count": 29,
   "metadata": {},
   "outputs": [
    {
     "name": "stdout",
     "output_type": "stream",
     "text": [
      "Name is : Harry\n",
      "Hockwards\n"
     ]
    }
   ],
   "source": [
    "student = Student(\"Harry\", 14)\n",
    "student.print_name()\n",
    "print(student.school)"
   ]
  },
  {
   "cell_type": "markdown",
   "metadata": {},
   "source": [
    "Je zou bijvoorbeeld ook de leeftijd kunnen aanpassen bij een verjaardag. "
   ]
  },
  {
   "cell_type": "code",
   "execution_count": 30,
   "metadata": {},
   "outputs": [],
   "source": [
    "class Student: \n",
    "    \n",
    "    def __init__(self, name, age, school=\"Hockwards\"):\n",
    "        self.name = name\n",
    "        self.age = age\n",
    "        self.school = school\n",
    "        \n",
    "    def birthday(self):\n",
    "        self.age += 1"
   ]
  },
  {
   "cell_type": "code",
   "execution_count": 31,
   "metadata": {},
   "outputs": [
    {
     "name": "stdout",
     "output_type": "stream",
     "text": [
      "17\n",
      "18\n"
     ]
    }
   ],
   "source": [
    "student = Student(\"Kiddo\", 17)\n",
    "\n",
    "print(student.age)\n",
    "student.birthday()\n",
    "print(student.age)"
   ]
  },
  {
   "cell_type": "markdown",
   "metadata": {},
   "source": [
    "### Actie!\n",
    "\n",
    "Schrijf nu een methode die de discipline update. Denk erom dat je een attribuut binnen deze methode moet schrijven die moet *refereren* naar het object! Dit kan met **self**. \n",
    "\n",
    "1. Schrijf de functie *set_discipline* met als input *self* en *discipline*.\n",
    "\n",
    "2. Schrijf vervolgens de functie *get_discipline* die de discipline returned ALS self.discipline niet None is. "
   ]
  },
  {
   "cell_type": "code",
   "execution_count": 41,
   "metadata": {},
   "outputs": [],
   "source": [
    "class Student: \n",
    "    \n",
    "    def __init__(self, name, age, school=\"Hockwards\"):\n",
    "        self.name = name\n",
    "        self.age = age\n",
    "        self.school = school\n",
    "        self.discipline = None\n",
    "\n",
    "    def set_discipline(self, discipline):\n",
    "        self.discipline = discipline        \n",
    "        pass\n",
    "        \n",
    "    def get_discipline(self):\n",
    "        if self.discipline:\n",
    "            return print(\"Dicipline van \" + self.name + \" is : \" + self.discipline)\n",
    "        else: \n",
    "            return \"Discipline is leeg\"\n",
    "        pass\n",
    "    "
   ]
  },
  {
   "cell_type": "code",
   "execution_count": 42,
   "metadata": {},
   "outputs": [
    {
     "name": "stdout",
     "output_type": "stream",
     "text": [
      "Dicipline van Bob is : Professional sleeper\n"
     ]
    }
   ],
   "source": [
    "student = Student(\"Bob\", 24)\n",
    "student.set_discipline(\"Professional sleeper\") # Dit bestaat echt trouwens, zoek maar op. \n",
    "\n",
    "student.get_discipline()\n",
    "\n",
    "# Output moet natuurlijk 'Professional sleeper' zijn. \n",
    "# Test of get_discipline werkt als je set_discipline NIET hebt aangeroepen."
   ]
  },
  {
   "cell_type": "markdown",
   "metadata": {},
   "source": [
    "Mooi, we hebben de methodes en attributes gehad. Werk nu enige tijd aan de volgende opdracht en bouw hiermee een werkende class aan die data importeert, manipuleert en teruggeeft. "
   ]
  },
  {
   "cell_type": "markdown",
   "metadata": {},
   "source": [
    "### Actie!\n",
    "\n",
    "Vul nu de volgende class aan die het volgende doet: \n",
    "\n",
    "- Input data\n",
    "- Genereert de cijfers van de student volgens de formule generate_output()\n",
    "- rekent het totale cijfer uit met de formule compute_grade\n",
    "- pakt de cijfers uit de data zodat de naam en leeftijd niet meer in de weg zitten. \n",
    "- maakt de attribuut metrics aan om het cijfer mee te berekenen. "
   ]
  },
  {
   "cell_type": "code",
   "execution_count": 85,
   "metadata": {},
   "outputs": [],
   "source": [
    "class Student: \n",
    "    \n",
    "    def __init__(self, data, school=\"Hockwards\"):\n",
    "        self.name = data['Name']\n",
    "        self.age = data['Age']\n",
    "        self.school = school\n",
    "        self.data = data\n",
    "        self.metrics = None\n",
    "        self.grades = {}\n",
    "            \n",
    "    def generate_output(self): \n",
    "        grade = self.compute_grade()\n",
    "        \n",
    "        print(\"{} has the following grades: \".format(self.name))\n",
    "        print(\"\")\n",
    "        if self.grades:\n",
    "            for key, value in self.grades.items():\n",
    "                print(\"Discipline: {}\".format(key), \" Grade : \".rjust(40-len(key), ' '), value)\n",
    "            print(\"\")\n",
    "            print(\"With total score \", \" \".rjust(50-len(key), ' '), round(grade))\n",
    "        \n",
    "    def compute_grade(self):\n",
    "        grade = 0\n",
    "        self.get_grades()\n",
    "        \n",
    "        for dicipline, score in self.grades.items():\n",
    "            metriek = metrics[discipline]\n",
    "            add_grade_value = score * metriek\n",
    "            grade = grade + add_grade_value\n",
    "            \n",
    "\n",
    "    def get_grades(self):\n",
    "        for key in self.metrics:\n",
    "            self.grades[key] = self.data[key]\n",
    "\n",
    "    \n",
    "    def set_metrics(self, metrics):\n",
    "        self.metrics = metrics\n",
    "        \n",
    "        pass\n",
    "        "
   ]
  },
  {
   "cell_type": "code",
   "execution_count": 50,
   "metadata": {},
   "outputs": [],
   "source": [
    "\n"
   ]
  },
  {
   "cell_type": "code",
   "execution_count": 83,
   "metadata": {},
   "outputs": [],
   "source": [
    "student = Student(data)\n",
    "student.set_metrics(metrics)\n",
    "student.get_grades()"
   ]
  },
  {
   "cell_type": "markdown",
   "metadata": {},
   "source": [
    "#### Data\n",
    "\n",
    "Hoeft niet aangepast te worden. "
   ]
  },
  {
   "cell_type": "code",
   "execution_count": 79,
   "metadata": {},
   "outputs": [],
   "source": [
    "metrics = {\n",
    "    \"Transfiguration\":0.1,\n",
    "    \"Charms\":0.1,\n",
    "    \"Potions\":0.2,\n",
    "    \"History of Magic\":0.1,\n",
    "    \"Defence Against the Dark Arts\":0.2,\n",
    "    \"Astronomy and Herbology\":0.1,\n",
    "    \"Flying lessons\":0.2\n",
    "}\n",
    "\n",
    "data = {\n",
    "    \"Name\":\"Harry\",\n",
    "    \"Age\":14,\n",
    "    \"Transfiguration\":7.5,\n",
    "    \"Charms\":4.3,\n",
    "    \"Potions\":8.9,\n",
    "    \"History of Magic\":8.2,\n",
    "    \"Defence Against the Dark Arts\":2.5,\n",
    "    \"Astronomy and Herbology\":5.8,\n",
    "    \"Flying lessons\":10\n",
    "}"
   ]
  },
  {
   "cell_type": "markdown",
   "metadata": {},
   "source": [
    "Als je de volgende code runt, zou je een gegenereerde output moeten krijgen met de juiste naam, alle disciplines met juiste cijfer en een totaal cijfer aan het einde. Het eindcijfer kan je afronden met de functie `round(grade)`."
   ]
  },
  {
   "cell_type": "code",
   "execution_count": 86,
   "metadata": {},
   "outputs": [
    {
     "ename": "NameError",
     "evalue": "name 'discipline' is not defined",
     "output_type": "error",
     "traceback": [
      "\u001b[1;31m---------------------------------------------------------------------------\u001b[0m",
      "\u001b[1;31mNameError\u001b[0m                                 Traceback (most recent call last)",
      "\u001b[1;32m<ipython-input-86-710a2c54d106>\u001b[0m in \u001b[0;36m<module>\u001b[1;34m\u001b[0m\n\u001b[0;32m      1\u001b[0m \u001b[0mstudent\u001b[0m \u001b[1;33m=\u001b[0m \u001b[0mStudent\u001b[0m\u001b[1;33m(\u001b[0m\u001b[0mdata\u001b[0m\u001b[1;33m)\u001b[0m\u001b[1;33m\u001b[0m\u001b[1;33m\u001b[0m\u001b[0m\n\u001b[0;32m      2\u001b[0m \u001b[0mstudent\u001b[0m\u001b[1;33m.\u001b[0m\u001b[0mset_metrics\u001b[0m\u001b[1;33m(\u001b[0m\u001b[0mmetrics\u001b[0m\u001b[1;33m)\u001b[0m\u001b[1;33m\u001b[0m\u001b[1;33m\u001b[0m\u001b[0m\n\u001b[1;32m----> 3\u001b[1;33m \u001b[0mstudent\u001b[0m\u001b[1;33m.\u001b[0m\u001b[0mgenerate_output\u001b[0m\u001b[1;33m(\u001b[0m\u001b[1;33m)\u001b[0m\u001b[1;33m\u001b[0m\u001b[1;33m\u001b[0m\u001b[0m\n\u001b[0m",
      "\u001b[1;32m<ipython-input-85-5b64b1823e02>\u001b[0m in \u001b[0;36mgenerate_output\u001b[1;34m(self)\u001b[0m\n\u001b[0;32m     10\u001b[0m \u001b[1;33m\u001b[0m\u001b[0m\n\u001b[0;32m     11\u001b[0m     \u001b[1;32mdef\u001b[0m \u001b[0mgenerate_output\u001b[0m\u001b[1;33m(\u001b[0m\u001b[0mself\u001b[0m\u001b[1;33m)\u001b[0m\u001b[1;33m:\u001b[0m\u001b[1;33m\u001b[0m\u001b[1;33m\u001b[0m\u001b[0m\n\u001b[1;32m---> 12\u001b[1;33m         \u001b[0mgrade\u001b[0m \u001b[1;33m=\u001b[0m \u001b[0mself\u001b[0m\u001b[1;33m.\u001b[0m\u001b[0mcompute_grade\u001b[0m\u001b[1;33m(\u001b[0m\u001b[1;33m)\u001b[0m\u001b[1;33m\u001b[0m\u001b[1;33m\u001b[0m\u001b[0m\n\u001b[0m\u001b[0;32m     13\u001b[0m \u001b[1;33m\u001b[0m\u001b[0m\n\u001b[0;32m     14\u001b[0m         \u001b[0mprint\u001b[0m\u001b[1;33m(\u001b[0m\u001b[1;34m\"{} has the following grades: \"\u001b[0m\u001b[1;33m.\u001b[0m\u001b[0mformat\u001b[0m\u001b[1;33m(\u001b[0m\u001b[0mself\u001b[0m\u001b[1;33m.\u001b[0m\u001b[0mname\u001b[0m\u001b[1;33m)\u001b[0m\u001b[1;33m)\u001b[0m\u001b[1;33m\u001b[0m\u001b[1;33m\u001b[0m\u001b[0m\n",
      "\u001b[1;32m<ipython-input-85-5b64b1823e02>\u001b[0m in \u001b[0;36mcompute_grade\u001b[1;34m(self)\u001b[0m\n\u001b[0;32m     25\u001b[0m \u001b[1;33m\u001b[0m\u001b[0m\n\u001b[0;32m     26\u001b[0m         \u001b[1;32mfor\u001b[0m \u001b[0mdicipline\u001b[0m\u001b[1;33m,\u001b[0m \u001b[0mscore\u001b[0m \u001b[1;32min\u001b[0m \u001b[0mself\u001b[0m\u001b[1;33m.\u001b[0m\u001b[0mgrades\u001b[0m\u001b[1;33m.\u001b[0m\u001b[0mitems\u001b[0m\u001b[1;33m(\u001b[0m\u001b[1;33m)\u001b[0m\u001b[1;33m:\u001b[0m\u001b[1;33m\u001b[0m\u001b[1;33m\u001b[0m\u001b[0m\n\u001b[1;32m---> 27\u001b[1;33m             \u001b[0mmetriek\u001b[0m \u001b[1;33m=\u001b[0m \u001b[0mmetrics\u001b[0m\u001b[1;33m[\u001b[0m\u001b[0mdiscipline\u001b[0m\u001b[1;33m]\u001b[0m\u001b[1;33m\u001b[0m\u001b[1;33m\u001b[0m\u001b[0m\n\u001b[0m\u001b[0;32m     28\u001b[0m             \u001b[0madd_grade_value\u001b[0m \u001b[1;33m=\u001b[0m \u001b[0mscore\u001b[0m \u001b[1;33m*\u001b[0m \u001b[0mmetriek\u001b[0m\u001b[1;33m\u001b[0m\u001b[1;33m\u001b[0m\u001b[0m\n\u001b[0;32m     29\u001b[0m             \u001b[0mgrade\u001b[0m \u001b[1;33m=\u001b[0m \u001b[0mgrade\u001b[0m \u001b[1;33m+\u001b[0m \u001b[0madd_grade_value\u001b[0m\u001b[1;33m\u001b[0m\u001b[1;33m\u001b[0m\u001b[0m\n",
      "\u001b[1;31mNameError\u001b[0m: name 'discipline' is not defined"
     ]
    }
   ],
   "source": [
    "student = Student(data) \n",
    "student.set_metrics(metrics)\n",
    "student.generate_output()"
   ]
  },
  {
   "cell_type": "markdown",
   "metadata": {},
   "source": [
    "Super! We hebben het Object geoorienteerde in de basis gehad. Het is vast nog veel informatie om in je op te nemen, maar laten we een poging doen. We zullen jullie zo goed mogelijk in het process begeleiden. "
   ]
  },
  {
   "cell_type": "markdown",
   "metadata": {},
   "source": [
    "# Scrape Object Oriented\n",
    "\n",
    "Laten we het als volgt uitvoeren. We zullen 3 classes maken. Een voor het scrapen zelf, opzetten van de pagina en wachtijd per pagina. Een voor de pagina, waar we filteren op keys om data te verzamelen. En een voor het opslaan van de data zelf. \n",
    "\n",
    "Waarom zoveel classes? Als je eenmaal in Python gaat duiken kom je erachter dat het heel fijn is om je opdracht uit te voeren in meerdere compartimenten. Als je meerdere classes reactief maakt met elkaar, heb je uiteindelijk veel meer vrijheid en speelruimte om uit te breiden en alles een beejte behapbaar te houden. "
   ]
  },
  {
   "cell_type": "markdown",
   "metadata": {},
   "source": [
    "### Scrape object\n",
    "\n",
    "Dit is de main class. Deze zullen we aanroepen om de code uit te voeren. Voor het scrapen van alle hrefs moeten we een aantal taken uitvoeren: \n",
    "\n",
    "    Een aantal attributen initieren zoals:\n",
    "    \n",
    "        de driver\n",
    "        de hrefs\n",
    "        \n",
    "    Vervolgens de methods:\n",
    "    \n",
    "        SetUp()\n",
    "        \n",
    "In SetUp hoef je niets aan te passen. Wat de self.driver.implicitly_wait(30) doet is wachten tot alle content van de pagina geladen is. Het zorgt ervoor dat je geen runtimeerrors krijgt als de pagina te langzaam laad als de parser al bezig is met het inlezen van de inhoud. \n",
    "\n",
    "self.driver.maximize_window opent de webpage met maximale grootte. \n",
    "\n",
    "        get()\n",
    "        \n",
    "Hier dien je iets aan toe te voegen. \n",
    "- De link is momenteel incompleet.. zorg ervoor dat je de juiste link meegeeft. Zoek desnoods op naar welke pagina je wilt gaan. \n",
    "- selenium werkt met een driver.get(link) functie. Je navigeert hiermee naar de webpagina met de url-link. \n",
    "- als je driver.get hebt opgeroepen, kan je deze meegeven aan het object Page. In Page ga je pas naar de elementen zoeken in de pagina. Roep eerst het object page. Roep daarna page.get_content waar je verder gaat werken met het vinden van de elementen.\n",
    "- Er is een random tijdslimiet van 6 tot 10 seconden in de get functie om te voorkomen dat thuisbezorgd.nl ons blokkeerd. Verwijder deze niet anders riskeer je gebanned te worden! :)"
   ]
  },
  {
   "cell_type": "code",
   "execution_count": 28,
   "metadata": {},
   "outputs": [],
   "source": [
    "from selenium import webdriver\n",
    "from selenium.webdriver.common.keys import Keys\n",
    "from selenium.webdriver.common.by import By\n",
    "\n",
    "import time\n",
    "import random\n",
    "\n",
    "class Scrape:\n",
    "\n",
    "    def __init__(self, hrefs):\n",
    "        \n",
    "        self.driver = webdriver.Chrome()\n",
    "        self.hrefs = hrefs\n",
    "    \n",
    "    def SetUp(self):\n",
    "        \n",
    "        self.driver.implicitly_wait(30)\n",
    "        self.driver.maximize_window()            \n",
    "        \n",
    "    def get(self):\n",
    "        \n",
    "        for href in self.hrefs:\n",
    "            \n",
    "            # Eigen code\n",
    "            \n",
    "            \n",
    "            \n",
    "            time.sleep(random.randint(6, 10))\n",
    "            "
   ]
  },
  {
   "cell_type": "markdown",
   "metadata": {},
   "source": [
    "Run hieronder de class om te checken of alles voldoet. "
   ]
  },
  {
   "cell_type": "code",
   "execution_count": 29,
   "metadata": {
    "scrolled": true
   },
   "outputs": [],
   "source": [
    "import pandas as pd\n",
    "\n",
    "# Eigen code\n",
    "# Haal de hrefs binnen uit het CSV bestand 'Data/thuisbezorgd' die we in de ochtend hebben gemaakt.\n",
    "# Geef ze vervolgens mee aan het Scrape() object waar je ze initieerd. \n",
    "\n"
   ]
  },
  {
   "cell_type": "markdown",
   "metadata": {},
   "source": [
    "### Page object\n",
    "\n",
    "Voor het scrapen van een pagina maken we ook een object. Sinds elke pagina dezelfde structuur heeft, kunnen we ook elke pagina als een nieuw object zien die we op eenzelfde manier kunnen scrapen.\n",
    "\n",
    "Voor het scrapen van een enkele pagina moeten we een aantal taken uitvoeren: \n",
    "\n",
    "    Een aantal attributen initieren zoals: \n",
    "        \n",
    "        de driver\n",
    "    \n",
    "    Vervolgens de methods:\n",
    "        \n",
    "        get_content()\n",
    "\n",
    "Dit is de methode waarin je informatie gaat scrapen. We houden het voor nu vrij kort met slechts 5 attributen. Deze zijn geinitieerd in het object **Data** die onder **Page** staat. Je wilt dus de informatie die je van de webpagina haalt opslaan in het object **Data** (kijk in deze class welke informatie je wilt!). \n",
    "\n",
    "Selenium werkt vrij intuitief. Ook hier kan je elementen vinden per `class` `div` `h1` etcetera. Je kan ook xpath gebruiken mocht je willen. \n",
    "\n",
    "**Functies**\n",
    "\n",
    "Om elementen te localiseren kun je de volgende site raadplegen:\n",
    "https://selenium-python.readthedocs.io/locating-elements.html\n",
    "\n",
    "De volgende functies zouden al voldoende moeten zijn om de opdracht uit te voeren. \n",
    "\n",
    "    self.driver.find_element_by_class_name(\"class_name\")\n",
    "    self.driver.find_elements_by_class_name(\"class_name\")\n"
   ]
  },
  {
   "cell_type": "code",
   "execution_count": 30,
   "metadata": {},
   "outputs": [],
   "source": [
    "class Page:\n",
    "\n",
    "    def __init__(self, driver):\n",
    "        \n",
    "        self.driver = driver\n",
    "        \n",
    "    def get_content(self):\n",
    "        \n",
    "        data = Data()\n",
    "        \n",
    "        # Eigen code\n",
    "        \n",
    "        \n",
    "        \n",
    "        \n",
    "        \n",
    "\n",
    "        data.show_data()\n",
    "        "
   ]
  },
  {
   "cell_type": "markdown",
   "metadata": {},
   "source": [
    "### Data object\n",
    "\n",
    "In dit object wordt alle data opgeslagen. We kunnen hier een groot aantal attributen aanmaken, voor alle informatie die je wilt verzamelen. \n",
    "\n",
    "Voor het opslaan van informatie uit een pagina moeten we een aantal taken uitvoeren: \n",
    "\n",
    "    Een aantal attributen initieren zoals:\n",
    "    \n",
    "        het restaurant\n",
    "        de link\n",
    "        de beschrijving van een gerecht (description)\n",
    "        een populaire maaltijd (popular_meal)\n",
    "        de prijs van een populaire maaltijd (popular_price)\n",
    "        (en meer mocht je zin hebben)\n",
    "       \n",
    "    Vervolgens de methods:\n",
    "    \n",
    "        show_data()\n",
    "\n",
    "In show_data wordt de code geprint. Als description, popular_meal en popular_price zijn gescraped en opgeslagen dan zal je de functie kunnen gebruiken. \n",
    "\n",
    "Voor de duidelijkheid: `if list` is een truth statement die waar is als de list NIET leeg is. \n",
    "\n",
    "        save_data()\n",
    "\n",
    "Deze kan naar eigen inzicht ingevuld worden. Bedenk je hoe je de data wilt opslaan. In wat voor formaat etcetera. We zijn benieuwd naar jullie bevindingen. \n"
   ]
  },
  {
   "cell_type": "code",
   "execution_count": 45,
   "metadata": {},
   "outputs": [],
   "source": [
    "class Data:\n",
    "    \n",
    "    def __init__(self):\n",
    "        \n",
    "        self.restaurant = None\n",
    "        self.link = None\n",
    "        self.description = []        \n",
    "        self.popular_meal = []\n",
    "        self.popular_price = []\n",
    "\n",
    "    def show_data(self):\n",
    "        \n",
    "        print(\"the restaurant {}\".format(self.restaurant) + \"has the following meals: \")\n",
    "        print('')\n",
    "        if self.description and self.popular_meal and self.popular_price:\n",
    "            for i in range(3):\n",
    "                print('')\n",
    "                print(self.popular_meal[i] + \"Price\" + ' '.rjust(20-len(self.popular_meal[i])) + self.popular_price[i])\n",
    "                print(self.description[i])\n",
    "                print(self.link)\n",
    "            print('')\n",
    "        \n",
    "    def save_data(self):\n",
    "        # Eigen code\n",
    "        \n",
    "        \n",
    "        pass\n",
    "        "
   ]
  },
  {
   "cell_type": "code",
   "execution_count": null,
   "metadata": {},
   "outputs": [],
   "source": []
  }
 ],
 "metadata": {
  "kernelspec": {
   "display_name": "Python 3",
   "language": "python",
   "name": "python3"
  },
  "language_info": {
   "codemirror_mode": {
    "name": "ipython",
    "version": 3
   },
   "file_extension": ".py",
   "mimetype": "text/x-python",
   "name": "python",
   "nbconvert_exporter": "python",
   "pygments_lexer": "ipython3",
   "version": "3.7.4"
  }
 },
 "nbformat": 4,
 "nbformat_minor": 2
}
