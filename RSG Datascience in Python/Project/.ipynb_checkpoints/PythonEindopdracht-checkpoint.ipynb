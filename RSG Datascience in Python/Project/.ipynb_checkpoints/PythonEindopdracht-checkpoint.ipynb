{
 "cells": [
  {
   "cell_type": "markdown",
   "metadata": {},
   "source": [
    "# Datascience in Python - Novalinq cursus\n",
    "\n",
    "                                                                                                         Thijs van der Knaap\n",
    "                                                                                                            \n",
    "In dit notebook ga ik mijn eindopdracht voor de cursus datascience in Python opschrijven. Ik zal beginnen met het beschrijven van het doel van de opdracht, de businessvragen die ik hoop te beintwoorden en het identificeren van de stakeholders die baat kunnen hebben bij deze opdracht. Daarna zal ik de data die ik ga gebruiken voor deze opdracht importeren en verrijken met data van andere bronnen. Daarna ga ik deze data exploreren en visualiseren om zo een beeld te geven van de dataset. Als laatste zal ik de data gebruiken om ziekteverzuim te voorspellen. "
   ]
  },
  {
   "cell_type": "markdown",
   "metadata": {},
   "source": [
    "# Doel van de opdracht\n",
    "In het kader van de data & analytics Python cursus die ik volg bij Novalinq ga ik een portfolio opdracht maken om de cursus mee af te sluiten. Vanuit Robidus heb ik vernomen dat eer een wens is om door middel van data analyse meer inzicht te krijgen in de factoren die invloed hebben op het verzuim van een werknemer en de mogelijkheid om op basis van data te kunnen voorspellen wat de kans is dat iemand langdurig verzuimt. Aangezien ik in dit stadium geen Robidus data kon gebruiken voor mijn data zullen de uitkomsten niet direct bruikbaar zijn voor Robidus maar ik hoop dat deze opdracht kan dienen als 'proof of concept' voor het gebruik van predicitive analytics voor het voorspellen van ziekteverzuim op basis van data."
   ]
  },
  {
   "cell_type": "markdown",
   "metadata": {},
   "source": [
    "# Businessvragen\n",
    "\n",
    "De businessvragen die ik wil beantwoorden zijn:\n",
    "1.\tWelke factoren hebben invloed op de kans dat iemand langdurig verzuimt?\n",
    "2.\tKunnen we voorspellen of iemand (langdurig) zal verzuimen in het komende jaar?"
   ]
  },
  {
   "cell_type": "markdown",
   "metadata": {},
   "source": [
    "# Stakeholders\n",
    "\n",
    "De stakeholders die belangrijk zijn voor dit onderzoek zijn:\n",
    "\n",
    "-\tWia (Wet werk en inkomen naar arbeidsvermogen) casemanagers en consultants die hierdoor beter advies kunnen geven aan klanten.\n",
    "-\tKlanten van Robidus die hierdoor preventief in kunnen spelen op risico’s binnen hun huidige en toekomstige werknemersbestand.\n",
    "-\tWerknemers omdat zij vroegtijdig geholpen kunnen worden wanneer er een verhoogd risico is op verzuim en zo minder lang thuis hoeven te zitten (indirect voordeel).\n"
   ]
  },
  {
   "cell_type": "markdown",
   "metadata": {},
   "source": [
    "#### Einde introductie\n",
    "Hiermeer komt er een einde aan de introductie en gaan we verder met de volgende stap, het importeren van packages en data en het prepareren van deze data voor analyse."
   ]
  },
  {
   "cell_type": "markdown",
   "metadata": {},
   "source": [
    "# Importeren packages"
   ]
  },
  {
   "cell_type": "code",
   "execution_count": 10,
   "metadata": {},
   "outputs": [],
   "source": [
    "\n",
    "# algemeen\n",
    "import pandas as pd\n",
    "import numpy as np\n",
    "# visualisatie\n",
    "import seaborn as sns\n",
    "\n",
    "# scraping \n",
    "import requests\n",
    "from bs4 import BeautifulSoup"
   ]
  },
  {
   "cell_type": "markdown",
   "metadata": {},
   "source": [
    "# Importeren data\n",
    "\n",
    "Aangezien ik geen data kon krijgen van mijn werkgever zal ik data van Kaggle gebruiken voor dit project. Ik gebruik de dataset: Absenteeism Dataset (https://www.kaggle.com/HRAnalyticRepository/absenteeism-dataset) die data bevat over absenteeism (ziekteverzuim) onder mensen in Canada."
   ]
  },
  {
   "cell_type": "code",
   "execution_count": 428,
   "metadata": {},
   "outputs": [],
   "source": [
    "# hier importeren data\n",
    "raw_data = pd.read_csv('MFGEmployees4.csv')"
   ]
  },
  {
   "cell_type": "markdown",
   "metadata": {},
   "source": [
    "# Verrijken data/Prepareren van de data\n",
    "Voordat we gaan verrijken moeten we eerst kijken welke data er in de dataset zit en hoe we extra data kunnen halen uit de bestaande kolommen of nieuwe data kunnen toevoegen."
   ]
  },
  {
   "cell_type": "code",
   "execution_count": 467,
   "metadata": {},
   "outputs": [
    {
     "data": {
      "text/html": [
       "<div>\n",
       "<style scoped>\n",
       "    .dataframe tbody tr th:only-of-type {\n",
       "        vertical-align: middle;\n",
       "    }\n",
       "\n",
       "    .dataframe tbody tr th {\n",
       "        vertical-align: top;\n",
       "    }\n",
       "\n",
       "    .dataframe thead th {\n",
       "        text-align: right;\n",
       "    }\n",
       "</style>\n",
       "<table border=\"1\" class=\"dataframe\">\n",
       "  <thead>\n",
       "    <tr style=\"text-align: right;\">\n",
       "      <th></th>\n",
       "      <th>EmployeeNumber</th>\n",
       "      <th>Surname</th>\n",
       "      <th>GivenName</th>\n",
       "      <th>Gender</th>\n",
       "      <th>City</th>\n",
       "      <th>JobTitle</th>\n",
       "      <th>DepartmentName</th>\n",
       "      <th>StoreLocation</th>\n",
       "      <th>Division</th>\n",
       "      <th>Age</th>\n",
       "      <th>LengthService</th>\n",
       "      <th>AbsentHours</th>\n",
       "      <th>BusinessUnit</th>\n",
       "      <th>workinhometown</th>\n",
       "    </tr>\n",
       "  </thead>\n",
       "  <tbody>\n",
       "    <tr>\n",
       "      <th>0</th>\n",
       "      <td>1</td>\n",
       "      <td>Gutierrez</td>\n",
       "      <td>Molly</td>\n",
       "      <td>F</td>\n",
       "      <td>Burnaby</td>\n",
       "      <td>Baker</td>\n",
       "      <td>Bakery</td>\n",
       "      <td>Burnaby</td>\n",
       "      <td>Stores</td>\n",
       "      <td>32.028816</td>\n",
       "      <td>6.018478</td>\n",
       "      <td>36.577306</td>\n",
       "      <td>Stores</td>\n",
       "      <td>1</td>\n",
       "    </tr>\n",
       "    <tr>\n",
       "      <th>1</th>\n",
       "      <td>2</td>\n",
       "      <td>Hardwick</td>\n",
       "      <td>Stephen</td>\n",
       "      <td>M</td>\n",
       "      <td>Courtenay</td>\n",
       "      <td>Baker</td>\n",
       "      <td>Bakery</td>\n",
       "      <td>Nanaimo</td>\n",
       "      <td>Stores</td>\n",
       "      <td>40.320902</td>\n",
       "      <td>5.532445</td>\n",
       "      <td>30.165072</td>\n",
       "      <td>Stores</td>\n",
       "      <td>0</td>\n",
       "    </tr>\n",
       "    <tr>\n",
       "      <th>2</th>\n",
       "      <td>3</td>\n",
       "      <td>Delgado</td>\n",
       "      <td>Chester</td>\n",
       "      <td>M</td>\n",
       "      <td>Richmond</td>\n",
       "      <td>Baker</td>\n",
       "      <td>Bakery</td>\n",
       "      <td>Richmond</td>\n",
       "      <td>Stores</td>\n",
       "      <td>48.822047</td>\n",
       "      <td>4.389973</td>\n",
       "      <td>83.807798</td>\n",
       "      <td>Stores</td>\n",
       "      <td>1</td>\n",
       "    </tr>\n",
       "    <tr>\n",
       "      <th>3</th>\n",
       "      <td>4</td>\n",
       "      <td>Simon</td>\n",
       "      <td>Irene</td>\n",
       "      <td>F</td>\n",
       "      <td>Victoria</td>\n",
       "      <td>Baker</td>\n",
       "      <td>Bakery</td>\n",
       "      <td>Victoria</td>\n",
       "      <td>Stores</td>\n",
       "      <td>44.599357</td>\n",
       "      <td>3.081736</td>\n",
       "      <td>70.020165</td>\n",
       "      <td>Stores</td>\n",
       "      <td>1</td>\n",
       "    </tr>\n",
       "    <tr>\n",
       "      <th>4</th>\n",
       "      <td>5</td>\n",
       "      <td>Delvalle</td>\n",
       "      <td>Edward</td>\n",
       "      <td>M</td>\n",
       "      <td>New Westminster</td>\n",
       "      <td>Baker</td>\n",
       "      <td>Bakery</td>\n",
       "      <td>New Westminster</td>\n",
       "      <td>Stores</td>\n",
       "      <td>35.697876</td>\n",
       "      <td>3.619091</td>\n",
       "      <td>0.000000</td>\n",
       "      <td>Stores</td>\n",
       "      <td>1</td>\n",
       "    </tr>\n",
       "  </tbody>\n",
       "</table>\n",
       "</div>"
      ],
      "text/plain": [
       "   EmployeeNumber    Surname GivenName Gender             City JobTitle  \\\n",
       "0               1  Gutierrez     Molly      F          Burnaby    Baker   \n",
       "1               2   Hardwick   Stephen      M        Courtenay    Baker   \n",
       "2               3    Delgado   Chester      M         Richmond    Baker   \n",
       "3               4      Simon     Irene      F         Victoria    Baker   \n",
       "4               5   Delvalle    Edward      M  New Westminster    Baker   \n",
       "\n",
       "  DepartmentName    StoreLocation Division        Age  LengthService  \\\n",
       "0         Bakery          Burnaby   Stores  32.028816       6.018478   \n",
       "1         Bakery          Nanaimo   Stores  40.320902       5.532445   \n",
       "2         Bakery         Richmond   Stores  48.822047       4.389973   \n",
       "3         Bakery         Victoria   Stores  44.599357       3.081736   \n",
       "4         Bakery  New Westminster   Stores  35.697876       3.619091   \n",
       "\n",
       "   AbsentHours BusinessUnit  workinhometown  \n",
       "0    36.577306       Stores               1  \n",
       "1    30.165072       Stores               0  \n",
       "2    83.807798       Stores               1  \n",
       "3    70.020165       Stores               1  \n",
       "4     0.000000       Stores               1  "
      ]
     },
     "execution_count": 467,
     "metadata": {},
     "output_type": "execute_result"
    }
   ],
   "source": [
    "raw_data.head()"
   ]
  },
  {
   "cell_type": "markdown",
   "metadata": {},
   "source": [
    "#### Data\n",
    "De data bestaat uit de volgende kolommen:\n",
    "\n",
    "EmployeeNumber: Werknemersnummer (index), deze kolom is niet interessant voor de analyse omdat het willekeurig gegenereerd is.\n",
    "\n",
    "Surname: Achternaam, deze kolom heeft geen voorspellende waarde. \n",
    "\n",
    "GivenName: Voornaam, deze kolom heeft geen voorspellende waarde.\n",
    "\n",
    "Gender: Sekse, deze kolom is interessant omdat er een verschil kan zijn tussen de seksen op het gebied van ziekteverzuim.\n",
    "\n",
    "City: Woonplaats, deze kolom kan interessant zijn omdat leefomgeving effect heeft op ziekteverzuim.\n",
    "\n",
    "JobTitle: Functietitel, deze kolom kan interessant zijn omdat sommige functies meer gevoelig zouden kunnen zijn voor verzuim dan anderen.\n",
    "\n",
    "DepartmentName: Afdelingsnaam, deze kolom kan interessant zijn omdat sommige afdelingen meer gevoelig zouden kunnen zijn voor verzuim dan anderen.\n",
    "\n",
    "StoreLocation: Winkellocatie, Het is interessant om te kijken of verschillende locaties van winkel verschillende ziekteverzuimnummer hebben. \n",
    "\n",
    "Devision: Devisie, deze kolom kan interessant zijn omdat sommige devisies meer gevoelig zouden kunnen zijn voor verzuim dan anderen.\n",
    "\n",
    "Age: Leeftijd, Leeftijd houd normaliter sterk verband met afwezigheid\n",
    "\n",
    "LengthService: Lengte van dienstverband, het lengte van het dienstverband zou zowel positief als negatief kunnen zijn voor ziekteverzuim (loyaliteit vs. routine/verveling).\n",
    "\n",
    "AbsentHours: Uren Absent, hetgene wat we willen voorspellen."
   ]
  },
  {
   "cell_type": "code",
   "execution_count": 468,
   "metadata": {},
   "outputs": [
    {
     "data": {
      "text/html": [
       "<div>\n",
       "<style scoped>\n",
       "    .dataframe tbody tr th:only-of-type {\n",
       "        vertical-align: middle;\n",
       "    }\n",
       "\n",
       "    .dataframe tbody tr th {\n",
       "        vertical-align: top;\n",
       "    }\n",
       "\n",
       "    .dataframe thead th {\n",
       "        text-align: right;\n",
       "    }\n",
       "</style>\n",
       "<table border=\"1\" class=\"dataframe\">\n",
       "  <thead>\n",
       "    <tr style=\"text-align: right;\">\n",
       "      <th></th>\n",
       "      <th>EmployeeNumber</th>\n",
       "      <th>Age</th>\n",
       "      <th>LengthService</th>\n",
       "      <th>AbsentHours</th>\n",
       "      <th>workinhometown</th>\n",
       "    </tr>\n",
       "  </thead>\n",
       "  <tbody>\n",
       "    <tr>\n",
       "      <th>count</th>\n",
       "      <td>8336.000000</td>\n",
       "      <td>8336.000000</td>\n",
       "      <td>8336.000000</td>\n",
       "      <td>8336.000000</td>\n",
       "      <td>8336.000000</td>\n",
       "    </tr>\n",
       "    <tr>\n",
       "      <th>mean</th>\n",
       "      <td>4168.500000</td>\n",
       "      <td>42.007086</td>\n",
       "      <td>4.782910</td>\n",
       "      <td>61.283978</td>\n",
       "      <td>0.710893</td>\n",
       "    </tr>\n",
       "    <tr>\n",
       "      <th>std</th>\n",
       "      <td>2406.540255</td>\n",
       "      <td>9.939798</td>\n",
       "      <td>2.462990</td>\n",
       "      <td>49.038365</td>\n",
       "      <td>0.453375</td>\n",
       "    </tr>\n",
       "    <tr>\n",
       "      <th>min</th>\n",
       "      <td>1.000000</td>\n",
       "      <td>3.504743</td>\n",
       "      <td>0.012098</td>\n",
       "      <td>0.000000</td>\n",
       "      <td>0.000000</td>\n",
       "    </tr>\n",
       "    <tr>\n",
       "      <th>25%</th>\n",
       "      <td>2084.750000</td>\n",
       "      <td>35.298748</td>\n",
       "      <td>3.575892</td>\n",
       "      <td>19.127590</td>\n",
       "      <td>0.000000</td>\n",
       "    </tr>\n",
       "    <tr>\n",
       "      <th>50%</th>\n",
       "      <td>4168.500000</td>\n",
       "      <td>42.114924</td>\n",
       "      <td>4.600248</td>\n",
       "      <td>56.005808</td>\n",
       "      <td>1.000000</td>\n",
       "    </tr>\n",
       "    <tr>\n",
       "      <th>75%</th>\n",
       "      <td>6252.250000</td>\n",
       "      <td>48.666943</td>\n",
       "      <td>5.623922</td>\n",
       "      <td>94.284692</td>\n",
       "      <td>1.000000</td>\n",
       "    </tr>\n",
       "    <tr>\n",
       "      <th>max</th>\n",
       "      <td>8336.000000</td>\n",
       "      <td>77.938003</td>\n",
       "      <td>43.735239</td>\n",
       "      <td>272.530123</td>\n",
       "      <td>1.000000</td>\n",
       "    </tr>\n",
       "  </tbody>\n",
       "</table>\n",
       "</div>"
      ],
      "text/plain": [
       "       EmployeeNumber          Age  LengthService  AbsentHours  workinhometown\n",
       "count     8336.000000  8336.000000    8336.000000  8336.000000     8336.000000\n",
       "mean      4168.500000    42.007086       4.782910    61.283978        0.710893\n",
       "std       2406.540255     9.939798       2.462990    49.038365        0.453375\n",
       "min          1.000000     3.504743       0.012098     0.000000        0.000000\n",
       "25%       2084.750000    35.298748       3.575892    19.127590        0.000000\n",
       "50%       4168.500000    42.114924       4.600248    56.005808        1.000000\n",
       "75%       6252.250000    48.666943       5.623922    94.284692        1.000000\n",
       "max       8336.000000    77.938003      43.735239   272.530123        1.000000"
      ]
     },
     "execution_count": 468,
     "metadata": {},
     "output_type": "execute_result"
    }
   ],
   "source": [
    "raw_data.describe()"
   ]
  },
  {
   "cell_type": "code",
   "execution_count": 469,
   "metadata": {},
   "outputs": [
    {
     "name": "stdout",
     "output_type": "stream",
     "text": [
      "<class 'pandas.core.frame.DataFrame'>\n",
      "RangeIndex: 8336 entries, 0 to 8335\n",
      "Data columns (total 14 columns):\n",
      " #   Column          Non-Null Count  Dtype  \n",
      "---  ------          --------------  -----  \n",
      " 0   EmployeeNumber  8336 non-null   int64  \n",
      " 1   Surname         8336 non-null   object \n",
      " 2   GivenName       8336 non-null   object \n",
      " 3   Gender          8336 non-null   object \n",
      " 4   City            8336 non-null   object \n",
      " 5   JobTitle        8336 non-null   object \n",
      " 6   DepartmentName  8336 non-null   object \n",
      " 7   StoreLocation   8336 non-null   object \n",
      " 8   Division        8336 non-null   object \n",
      " 9   Age             8336 non-null   float64\n",
      " 10  LengthService   8336 non-null   float64\n",
      " 11  AbsentHours     8336 non-null   float64\n",
      " 12  BusinessUnit    8336 non-null   object \n",
      " 13  workinhometown  8336 non-null   int32  \n",
      "dtypes: float64(3), int32(1), int64(1), object(9)\n",
      "memory usage: 879.3+ KB\n"
     ]
    }
   ],
   "source": [
    "raw_data.info()"
   ]
  },
  {
   "cell_type": "code",
   "execution_count": 470,
   "metadata": {},
   "outputs": [
    {
     "data": {
      "text/html": [
       "<div>\n",
       "<style scoped>\n",
       "    .dataframe tbody tr th:only-of-type {\n",
       "        vertical-align: middle;\n",
       "    }\n",
       "\n",
       "    .dataframe tbody tr th {\n",
       "        vertical-align: top;\n",
       "    }\n",
       "\n",
       "    .dataframe thead th {\n",
       "        text-align: right;\n",
       "    }\n",
       "</style>\n",
       "<table border=\"1\" class=\"dataframe\">\n",
       "  <thead>\n",
       "    <tr style=\"text-align: right;\">\n",
       "      <th></th>\n",
       "      <th>Surname</th>\n",
       "      <th>GivenName</th>\n",
       "      <th>Gender</th>\n",
       "      <th>City</th>\n",
       "      <th>JobTitle</th>\n",
       "      <th>DepartmentName</th>\n",
       "      <th>StoreLocation</th>\n",
       "      <th>Division</th>\n",
       "      <th>BusinessUnit</th>\n",
       "    </tr>\n",
       "  </thead>\n",
       "  <tbody>\n",
       "    <tr>\n",
       "      <th>count</th>\n",
       "      <td>8336</td>\n",
       "      <td>8336</td>\n",
       "      <td>8336</td>\n",
       "      <td>8336</td>\n",
       "      <td>8336</td>\n",
       "      <td>8336</td>\n",
       "      <td>8336</td>\n",
       "      <td>8336</td>\n",
       "      <td>8336</td>\n",
       "    </tr>\n",
       "    <tr>\n",
       "      <th>unique</th>\n",
       "      <td>4051</td>\n",
       "      <td>1625</td>\n",
       "      <td>2</td>\n",
       "      <td>243</td>\n",
       "      <td>47</td>\n",
       "      <td>21</td>\n",
       "      <td>40</td>\n",
       "      <td>6</td>\n",
       "      <td>2</td>\n",
       "    </tr>\n",
       "    <tr>\n",
       "      <th>top</th>\n",
       "      <td>Johnson</td>\n",
       "      <td>James</td>\n",
       "      <td>M</td>\n",
       "      <td>Vancouver</td>\n",
       "      <td>Cashier</td>\n",
       "      <td>Customer Service</td>\n",
       "      <td>Vancouver</td>\n",
       "      <td>Stores</td>\n",
       "      <td>Stores</td>\n",
       "    </tr>\n",
       "    <tr>\n",
       "      <th>freq</th>\n",
       "      <td>106</td>\n",
       "      <td>182</td>\n",
       "      <td>4216</td>\n",
       "      <td>1780</td>\n",
       "      <td>1703</td>\n",
       "      <td>1737</td>\n",
       "      <td>1836</td>\n",
       "      <td>8163</td>\n",
       "      <td>8163</td>\n",
       "    </tr>\n",
       "  </tbody>\n",
       "</table>\n",
       "</div>"
      ],
      "text/plain": [
       "        Surname GivenName Gender       City JobTitle    DepartmentName  \\\n",
       "count      8336      8336   8336       8336     8336              8336   \n",
       "unique     4051      1625      2        243       47                21   \n",
       "top     Johnson     James      M  Vancouver  Cashier  Customer Service   \n",
       "freq        106       182   4216       1780     1703              1737   \n",
       "\n",
       "       StoreLocation Division BusinessUnit  \n",
       "count           8336     8336         8336  \n",
       "unique            40        6            2  \n",
       "top        Vancouver   Stores       Stores  \n",
       "freq            1836     8163         8163  "
      ]
     },
     "execution_count": 470,
     "metadata": {},
     "output_type": "execute_result"
    }
   ],
   "source": [
    "raw_data.describe(include=np.object)"
   ]
  },
  {
   "cell_type": "code",
   "execution_count": 471,
   "metadata": {},
   "outputs": [
    {
     "name": "stdout",
     "output_type": "stream",
     "text": [
      "{'F': 0, 'M': 1}\n",
      "{'Burnaby': 0, 'Courtenay': 1, 'Richmond': 2, 'Victoria': 3, 'New Westminster': 4, 'Vancouver': 5, 'Sechelt': 6, 'Kamloops': 7, 'North Vancouver': 8, 'Vananda': 9, 'West Vancouver': 10, 'Nanaimo': 11, 'Aldergrove': 12, 'Kelowna': 13, 'Trail': 14, 'Penticton': 15, 'Duncan': 16, 'Crawford Bay': 17, 'Port Hardy': 18, 'Logan Lake': 19, 'Abbotsford': 20, 'Dawson Creek': 21, 'Surrey': 22, 'Squamish': 23, 'Good Hope Lake': 24, 'Sidney': 25, 'Coquitlam': 26, 'Chilliwack': 27, 'Okanagan Mission': 28, 'Ganges': 29, 'Prince George': 30, 'Atlin': 31, 'Whistler': 32, 'Spences Bridge': 33, 'New Westminister': 34, 'Gibsons': 35, 'Vernon': 36, 'Fauquier': 37, 'Mackenzie': 38, 'Gold Bridge': 39, 'Fort Fraser': 40, 'Nelson': 41, 'Kaslo': 42, 'Creston': 43, 'Wynndel': 44, 'Muncho Lake': 45, 'Kitimat': 46, 'Lac La Hache': 47, 'Armstrong': 48, 'Quesnel': 49, 'Hixon': 50, 'Ocean Falls': 51, 'Vallican': 52, 'North Pender Island': 53, 'Montney': 54, 'Burns Lake': 55, 'Midway': 56, 'Westwold': 57, 'Terrace': 58, 'Golden': 59, 'Port Coquitlam': 60, 'White Rock': 61, 'Summerland': 62, 'Langley': 63, 'Huntingdon': 64, 'Yale': 65, 'Aiyansh': 66, 'Haney': 67, 'Bowen Island': 68, 'Fort Langley': 69, 'Clinton': 70, 'Cassiar': 71, 'Pender Harbour': 72, 'Parksville': 73, 'Mcleese Lake': 74, 'Fort St John': 75, 'Campbell River': 76, 'Wells': 77, 'Manning Park': 78, 'Decker Lake': 79, 'Salmon Arm': 80, 'Sooke': 81, 'Horsefly': 82, 'Invermere': 83, 'Topley': 84, 'Field': 85, 'Youbou': 86, 'Sorrento': 87, 'Merritt': 88, 'Rossland': 89, 'Castlegar': 90, 'Williams Lake': 91, 'Willow Point': 92, 'Woss': 93, 'Cobble Hill': 94, 'Bob Quinn Lake': 95, 'Hedley': 96, 'Sardis': 97, 'Sparwood': 98, 'Port Mcneill': 99, 'Salmon Valley': 100, 'Agassiz': 101, 'Avola': 102, 'Bear Lake': 103, 'Brackendale': 104, 'Skookumchuck': 105, 'Cranbrook': 106, 'Britannia Beach': 107, 'Comox': 108, 'Flatrock': 109, 'Princeton': 110, 'Fort Nelson': 111, 'Slocan': 112, 'Lumby': 113, 'Chase': 114, 'Boston Bar': 115, 'Port Alberni': 116, 'Union Bay': 117, 'Francois Lake': 118, 'Chief Lake': 119, 'Beaver Valley': 120, 'Oyster River': 121, \"D'arcy\": 122, 'Winfield': 123, 'Valemount': 124, 'Port Alice': 125, 'Lakeview Heights': 126, 'Canal Flats': 127, 'Tofino': 128, 'Mayne Island': 129, 'Bamfield': 130, 'Chilako River': 131, 'Grasmere': 132, 'Clearwater': 133, 'Osoyoos': 134, 'Grassy Plains': 135, 'Fulford Harbour': 136, 'Keremeos': 137, 'Fort St James': 138, 'Pitt Meadows': 139, 'Lakelse Lake': 140, 'Genelle': 141, 'Iskut': 142, 'Qualicum Beach': 143, 'Oyama': 144, 'Lillooet': 145, 'Ladysmith': 146, 'Chemainus': 147, 'Douglas Lake': 148, 'Yarrow': 149, 'Elkford': 150, 'Telegraph Creek': 151, 'Mission': 152, 'Fruitvale': 153, 'Vanderhoof': 154, 'Powell River': 155, 'Pemberton': 156, 'Tumbler Ridge': 157, 'Chilanko Forks': 158, 'Ashcroft': 159, 'Klemtu': 160, 'Cumberland': 161, 'Port Mellon': 162, 'Cortes Island': 163, 'Jaffray': 164, 'Black Point': 165, 'Forest Grove': 166, 'Grand Forks': 167, 'Hazelton': 168, 'Chetwynd': 169, 'Riske Creek': 170, 'Nakusp': 171, 'Rutland': 172, 'Bouchie Lake': 173, 'Greenwood': 174, 'Westbank': 175, 'Houston': 176, 'Gabriola Island': 177, 'Port Renfrew': 178, 'Wildwood': 179, 'Port Edward': 180, 'Balfour': 181, 'Pritchard': 182, 'Nimpo Lake': 183, 'Black Pool': 184, 'Vavenby': 185, 'Oliver': 186, 'Hemlock Valley': 187, 'Bella Bella': 188, 'Alexis Creek': 189, 'Parson': 190, 'Fraser Lake': 191, 'Seton Portage': 192, 'Rock Creek': 193, 'Kimberley': 194, 'Mcbride': 195, 'Peachland': 196, 'Dragon Lake': 197, 'Tappen': 198, 'Taylor': 199, 'Salmo': 200, 'Hansard': 201, 'Dease Lake': 202, 'Giscome': 203, 'Granisle': 204, 'Ucluelet': 205, 'Blue River': 206, 'Kitwanga': 207, 'Mica Creek': 208, 'Fernie': 209, 'Pouce Coupe': 210, 'Rosedale': 211, 'Bougie Creek': 212, 'Bridge Lake': 213, 'Lake Cowichan': 214, 'Revelstoke': 215, 'Tatla Lake': 216, 'Enderby': 217, 'Hope': 218, 'Radium Hot Springs': 219, 'Sayward': 220, 'Lower Post': 221, 'South Slocan': 222, 'Yahk': 223, 'Elko': 224, 'Christina Lake': 225, 'Cluculz Lake': 226, 'Toad River': 227, 'Celista': 228, 'Smithers': 229, 'Little Fort': 230, 'Sandspit': 231, 'Quadra Island': 232, 'Blueberry': 233, 'Okanagan Falls': 234, 'Cache Creek': 235, 'Barriere': 236, 'Lytton': 237, 'Sicamous': 238, 'Likely': 239, 'Fairmont Hot Springs': 240, 'Alkali Lake': 241, 'Spillimacheen': 242}\n",
      "{'Baker': 0, 'Accounting Clerk': 1, 'Accounts Payable Clerk': 2, 'Accounts Receiveable Clerk': 3, 'Auditor': 4, 'Bakery Manager': 5, 'Benefits Admin': 6, 'Cashier': 7, 'Compensation Analyst': 8, 'HRIS Analyst': 9, 'Investment Analyst': 10, 'Labor Relations Analyst': 11, 'Recruiter': 12, 'Dairy Person': 13, 'Systems Analyst': 14, 'Trainer': 15, 'Meat Cutter': 16, 'CEO': 17, 'VP Stores': 18, 'Legal Counsel': 19, 'VP Human Resources': 20, 'VP Finance': 21, 'Exec Assistant, VP Stores': 22, 'Exec Assistant, Human Resources': 23, 'Exec Assistant, Legal Counsel': 24, 'CHief Information Officer': 25, 'Store Manager': 26, 'Meats Manager': 27, 'Exec Assistant, Finance': 28, 'Director, Recruitment': 29, 'Director, Training': 30, 'Director, Labor Relations': 31, 'Director, HR Technology': 32, 'Director, Employee Records': 33, 'Director, Compensation': 34, 'Corporate Lawyer': 35, 'Produce Manager': 36, 'Director, Accounts Receivable': 37, 'Director, Accounts Payable': 38, 'Director, Audit': 39, 'Director, Accounting': 40, 'Director, Investments': 41, 'Processed Foods Manager': 42, 'Customer Service Manager': 43, 'Dairy Manager': 44, 'Produce Clerk': 45, 'Shelf Stocker': 46}\n",
      "{'Bakery': 0, 'Accounting': 1, 'Accounts Payable': 2, 'Accounts Receiveable': 3, 'Audit': 4, 'Employee Records': 5, 'Customer Service': 6, 'Compensation': 7, 'HR Technology': 8, 'Investment': 9, 'Labor Relations': 10, 'Recruitment': 11, 'Dairy': 12, 'Information Technology': 13, 'Training': 14, 'Meats': 15, 'Executive': 16, 'Store Management': 17, 'Legal': 18, 'Produce': 19, 'Processed Foods': 20}\n",
      "{'Burnaby': 0, 'Nanaimo': 1, 'Richmond': 2, 'Victoria': 3, 'New Westminster': 4, 'Vancouver': 5, 'West Vancouver': 6, 'Kamloops': 7, 'North Vancouver': 8, 'Aldergrove': 9, 'Kelowna': 10, 'Trail': 11, 'Quesnel': 12, 'Cranbrook': 13, 'Abbotsford': 14, 'Dawson Creek': 15, 'Surrey': 16, 'Squamish': 17, 'Terrace': 18, 'Chilliwack': 19, 'Prince George': 20, 'New Westminister': 21, 'Vernon': 22, 'Nelson': 23, 'Fort St John': 24, 'Williams Lake': 25, 'Ocean Falls': 26, 'Port Coquitlam': 27, 'White Rock': 28, 'Langley': 29, 'Haney': 30, 'Princeton': 31, 'Fort Nelson': 32, 'Valemount': 33, 'Pitt Meadows': 34, 'Bella Bella': 35, 'Cortes Island': 36, 'Grand Forks': 37, 'Dease Lake': 38, 'Blue River': 39}\n",
      "{'Stores': 0, 'FinanceAndAccounting': 1, 'HumanResources': 2, 'InfoTech': 3, 'Executive': 4, 'Legal': 5}\n"
     ]
    }
   ],
   "source": [
    "def unique(field, new_field):\n",
    "    keys = field.unique()\n",
    "    dicts = dict(zip(keys, range(len(keys))))\n",
    "    print(dicts)\n",
    "    raw_data[new_field] = field.map(dicts).astype(int)\n",
    "    \n",
    "unique(raw_data.Gender, 'MappedGender')\n",
    "unique(raw_data.City, 'MappedCity')\n",
    "unique(raw_data.JobTitle, 'MappedTitle')\n",
    "unique(raw_data.DepartmentName, 'MappedDept')\n",
    "unique(raw_data.StoreLocation, 'MappedStoreLoc')\n",
    "unique(raw_data.Division, 'MappedDivision')"
   ]
  },
  {
   "cell_type": "code",
   "execution_count": 452,
   "metadata": {},
   "outputs": [],
   "source": [
    "data = raw_data"
   ]
  },
  {
   "cell_type": "markdown",
   "metadata": {},
   "source": [
    "#### Toevoegen populatiedata\n",
    "Op basis van de woonplaats kunnen we populatiedata toevoegen aan de dataset die we hebben. Het is namelijk voor te stellen dat ziekteverzuim verband houd met de urbaniteit van iemands omgeving. Om deze data toe te voegen ga ik wikipedia scrapen. Ik weet door te kijken naar de data en de beschrijving van de dataset dat alle woonplaatsen zich bevinden in Canada, British Columbia dus begin ik met het scrapen van een lijst van populatiecentrums in British Columbia."
   ]
  },
  {
   "cell_type": "code",
   "execution_count": 453,
   "metadata": {},
   "outputs": [],
   "source": [
    "# population/population density\n",
    "#Defineren van website en stukken waarop gescraped moet worden\n",
    "website_url = requests.get('https://en.wikipedia.org/wiki/List_of_population_centres_in_British_Columbia').text\n",
    "soup = BeautifulSoup(website_url,'lxml')\n",
    "My_table = soup.find('table')\n",
    "names = My_table.findAll('a')\n",
    "populations = My_table.findAll('span')\n",
    "\n",
    "# Lijst met steden/dorpen in British Columbia scrapen van wikipedia\n",
    "CitiesinBC = []\n",
    "for name in names:\n",
    "    CitiesinBC.append(name.string)\n",
    "    \n",
    "#Steden met twee namen weghalen uit lijst\n",
    "CitiesinBC.remove('Fruitvale')\n",
    "CitiesinBC.remove('Mill Bay')\n",
    "\n",
    "\n",
    "# Populatie van steden en dorpen in BC scrapen van wikipedia\n",
    "Population = []\n",
    "for value in populations:\n",
    "    value_txt = value.text\n",
    "    valnum = value_txt.replace(',', \"\")\n",
    "    Population.append(valnum)\n",
    "\n",
    "# Aanmaken DF voor populatie\n",
    "PopulationBCdf = pd.DataFrame()\n",
    "PopulationBCdf['City'] = CitiesinBC\n",
    "PopulationBCdf['Population'] = Population\n",
    "PopulationBCdf['Population'] = PopulationBCdf['Population'].astype(int)\n",
    "\n",
    "# Toevoegen populatie aan nieuwe dataset en veranderen naar numeric\n",
    "data=data.merge(PopulationBCdf, left_on='City', right_on='City', how='left')\n",
    "\n",
    "\n"
   ]
  },
  {
   "cell_type": "code",
   "execution_count": 454,
   "metadata": {},
   "outputs": [
    {
     "name": "stdout",
     "output_type": "stream",
     "text": [
      "<class 'pandas.core.frame.DataFrame'>\n",
      "Int64Index: 8336 entries, 0 to 8335\n",
      "Data columns (total 15 columns):\n",
      " #   Column          Non-Null Count  Dtype  \n",
      "---  ------          --------------  -----  \n",
      " 0   EmployeeNumber  8336 non-null   int64  \n",
      " 1   Surname         8336 non-null   object \n",
      " 2   GivenName       8336 non-null   object \n",
      " 3   Gender          8336 non-null   object \n",
      " 4   City            8336 non-null   object \n",
      " 5   JobTitle        8336 non-null   object \n",
      " 6   DepartmentName  8336 non-null   object \n",
      " 7   StoreLocation   8336 non-null   object \n",
      " 8   Division        8336 non-null   object \n",
      " 9   Age             8336 non-null   float64\n",
      " 10  LengthService   8336 non-null   float64\n",
      " 11  AbsentHours     8336 non-null   float64\n",
      " 12  BusinessUnit    8336 non-null   object \n",
      " 13  workinhometown  8336 non-null   int32  \n",
      " 14  Population      5042 non-null   float64\n",
      "dtypes: float64(4), int32(1), int64(1), object(9)\n",
      "memory usage: 1009.4+ KB\n"
     ]
    }
   ],
   "source": [
    "data.info()"
   ]
  },
  {
   "cell_type": "markdown",
   "metadata": {},
   "source": [
    "#### Toevoegen extra populatiedata\n",
    "Zoals hierboven te zien zijn er nog veel missende waarden in populatie (meer dan 3000) dus wil ik nog een andere manier proberen om aan extra populatiedata te komen. Hiervoor zal ik eerst hieronder de namen van de woonplaatsen met missende waarden ophalen uit mijn data en deze daarna gebruiken in een scraper die de individuele wikipediapagina's van deze woonplaatsen scraped voor missende data."
   ]
  },
  {
   "cell_type": "code",
   "execution_count": null,
   "metadata": {},
   "outputs": [],
   "source": [
    "is_NaN = data.isnull()\n",
    "row_has_NaN = is_NaN.any(axis=1)\n",
    "rows_with_NaN = data[row_has_NaN]\n",
    "rows_with_NaN.City.unique()\n",
    "ontbrekend = rows_with_NaN.City.unique()\n"
   ]
  },
  {
   "cell_type": "code",
   "execution_count": 455,
   "metadata": {},
   "outputs": [],
   "source": [
    "# vind de ontbrekende populaties\n",
    "\n",
    "ontbrekende_towns = []\n",
    "population_ontbreek = []\n",
    "error_towns = []\n",
    "error = []\n",
    "for city_name in ontbrekend:\n",
    "    base_url = 'https://en.wikipedia.org/wiki/'\n",
    "    city = city_name\n",
    "    prov = ',_British Columbia'\n",
    "    site = base_url + city + prov\n",
    "\n",
    "    myhtml = requests.get(site).text\n",
    "    sup = BeautifulSoup(myhtml)\n",
    "    tbody = sup.find('tbody')\n",
    "    try:\n",
    "        tr_list = tbody.find_all('tr')\n",
    "        i = 0\n",
    "        for elem in tr_list:\n",
    "            elemtext = elem.text\n",
    "            if elemtext.find('Total') >= 0:\n",
    "                ind = i\n",
    "            i += 1\n",
    "        try:\n",
    "            raw_number = (tr_list[ind].text)\n",
    "            number = raw_number.strip('\\xa0•\\xa0Total')\n",
    "            sep = ' '\n",
    "            rest = number.split(sep, 1)[0]\n",
    "            remove = rest.replace('[1]', \"\") \n",
    "            clean = remove.replace(',', \"\")\n",
    "            if clean.isdigit():\n",
    "                ontbrekende_towns.append(city)\n",
    "                population_ontbreek.append(clean)            \n",
    "        except:\n",
    "            error_towns.append(city)\n",
    "            error.append(\"Error\")\n",
    "    except:\n",
    "            error_towns.append(city)\n",
    "            error.append(\"Page does not exist\")\n"
   ]
  },
  {
   "cell_type": "code",
   "execution_count": 456,
   "metadata": {},
   "outputs": [],
   "source": [
    "#aanmaken nieuwe DF met pop\n",
    "Populationontdf = pd.DataFrame()\n",
    "Populationontdf['City'] = ontbrekende_towns\n",
    "Populationontdf['Population'] = population_ontbreek\n",
    "Populationontdf[\"Population\"] = Populationontdf[\"Population\"].apply(pd.to_numeric)"
   ]
  },
  {
   "cell_type": "code",
   "execution_count": 459,
   "metadata": {},
   "outputs": [
    {
     "name": "stdout",
     "output_type": "stream",
     "text": [
      "<class 'pandas.core.frame.DataFrame'>\n",
      "Int64Index: 8336 entries, 0 to 8335\n",
      "Data columns (total 17 columns):\n",
      " #   Column          Non-Null Count  Dtype  \n",
      "---  ------          --------------  -----  \n",
      " 0   EmployeeNumber  8336 non-null   int64  \n",
      " 1   Surname         8336 non-null   object \n",
      " 2   GivenName       8336 non-null   object \n",
      " 3   Gender          8336 non-null   object \n",
      " 4   City            8336 non-null   object \n",
      " 5   JobTitle        8336 non-null   object \n",
      " 6   DepartmentName  8336 non-null   object \n",
      " 7   StoreLocation   8336 non-null   object \n",
      " 8   Division        8336 non-null   object \n",
      " 9   Age             8336 non-null   float64\n",
      " 10  LengthService   8336 non-null   float64\n",
      " 11  AbsentHours     8336 non-null   float64\n",
      " 12  BusinessUnit    8336 non-null   object \n",
      " 13  workinhometown  8336 non-null   int32  \n",
      " 14  Population_x    5042 non-null   float64\n",
      " 15  Population_y    2109 non-null   float64\n",
      " 16  Population      7151 non-null   float64\n",
      "dtypes: float64(6), int32(1), int64(1), object(9)\n",
      "memory usage: 1.1+ MB\n"
     ]
    }
   ],
   "source": [
    "# Toevoegen populatie aan nieuwe dataset \n",
    "data=data.merge(Populationontdf, left_on='City', right_on='City', how='left')"
   ]
  },
  {
   "cell_type": "code",
   "execution_count": 460,
   "metadata": {},
   "outputs": [],
   "source": [
    "# merge population x en population y in Population en remove x en y daarna\n",
    "data[\"Population\"] = data['Population_x'].combine_first(data['Population_y'])\n",
    "del data['Population_x']\n",
    "del data['Population_y']"
   ]
  },
  {
   "cell_type": "code",
   "execution_count": 462,
   "metadata": {},
   "outputs": [
    {
     "name": "stdout",
     "output_type": "stream",
     "text": [
      "<class 'pandas.core.frame.DataFrame'>\n",
      "Int64Index: 8336 entries, 0 to 8335\n",
      "Data columns (total 15 columns):\n",
      " #   Column          Non-Null Count  Dtype  \n",
      "---  ------          --------------  -----  \n",
      " 0   EmployeeNumber  8336 non-null   int64  \n",
      " 1   Surname         8336 non-null   object \n",
      " 2   GivenName       8336 non-null   object \n",
      " 3   Gender          8336 non-null   object \n",
      " 4   City            8336 non-null   object \n",
      " 5   JobTitle        8336 non-null   object \n",
      " 6   DepartmentName  8336 non-null   object \n",
      " 7   StoreLocation   8336 non-null   object \n",
      " 8   Division        8336 non-null   object \n",
      " 9   Age             8336 non-null   float64\n",
      " 10  LengthService   8336 non-null   float64\n",
      " 11  AbsentHours     8336 non-null   float64\n",
      " 12  BusinessUnit    8336 non-null   object \n",
      " 13  workinhometown  8336 non-null   int32  \n",
      " 14  Population      7151 non-null   float64\n",
      "dtypes: float64(4), int32(1), int64(1), object(9)\n",
      "memory usage: 1009.4+ KB\n"
     ]
    }
   ],
   "source": [
    "data.info()"
   ]
  },
  {
   "cell_type": "markdown",
   "metadata": {},
   "source": [
    "#### Tevreden met aantal populatiedata\n",
    "Zoals we hierboven kunnen zien is het aantal rijen met ontbrekende populatiedata sterk afgenomen. Ik ben tevreden met het aantal rijen dat we overhouden als we de rijen met ontbrekende waarden weggooien en ga dit dan ook doen."
   ]
  },
  {
   "cell_type": "code",
   "execution_count": 472,
   "metadata": {},
   "outputs": [],
   "source": [
    "# Gooi lege rijen weg\n",
    "data.dropna(subset = [\"Population\"], inplace=True)"
   ]
  },
  {
   "cell_type": "markdown",
   "metadata": {},
   "source": [
    "#### Toevoegen extra data op basis van dataset\n",
    "Nu ga ik proberen om data toe te voegen op basis van de huidige rijen in de dataset.\n",
    "\n",
    "De rijen die ik ga maken zijn:\n",
    "1. Workinhometown, dit is een nominale variabele die aangeeft of iemand werkt in zijn woonplaats: Ja (1) of Nee (0). Dit zou een effect op verzuim kunnen hebben omdat reizen naar werk condities kan veroorzaken die leiden tot verzuim.\n",
    "2. PopulationCat, dit is een catagorische variabele die de populatie indeelt in 4 catagorieën: Urban (1), Semi-Urban (2), Semi-Rural (3) en Rural (4) op basis van de populatie waarbij alles boven de 100.000 urban is, tussen 100.000 en 25.000 Semi-Urban, Alles tussen 25.000 en 10.000 Semi-rural en 10.000 of kleiner Rural.\n",
    "3. Om predictive analytics met Random Forest te kunnen doen moet de te voorspellen variabele binair zijn in plaats van continue. Daarom verander ik de AbsentHours variabele naar een binaire variabele 'FrequentlyAbsent'. Het gemiddelde aantal ziektedagen in British Columbia (Canada) is 8.9 (https://www150.statcan.gc.ca/t1/tbl1/en/tv.action?pid=1410019001&pickMembers%5B0%5D=2.1&pickMembers%5B1%5D=3.8). Op basis daarvan deel ik iedereen die meer dan 14 dagen absent is (meer dan 96 uur) in als iemand die frequent absent is (1) en anderen als niet frequent absent (0)."
   ]
  },
  {
   "cell_type": "code",
   "execution_count": 464,
   "metadata": {},
   "outputs": [
    {
     "ename": "AttributeError",
     "evalue": "'numpy.ndarray' object has no attribute 'describe'",
     "output_type": "error",
     "traceback": [
      "\u001b[1;31m---------------------------------------------------------------------------\u001b[0m",
      "\u001b[1;31mAttributeError\u001b[0m                            Traceback (most recent call last)",
      "\u001b[1;32m<ipython-input-464-37833afe4637>\u001b[0m in \u001b[0;36m<module>\u001b[1;34m\u001b[0m\n\u001b[1;32m----> 1\u001b[1;33m \u001b[0montbrekend\u001b[0m\u001b[1;33m.\u001b[0m\u001b[0mdescribe\u001b[0m\u001b[1;33m(\u001b[0m\u001b[0minclude\u001b[0m\u001b[1;33m=\u001b[0m\u001b[0mnp\u001b[0m\u001b[1;33m.\u001b[0m\u001b[0mobject\u001b[0m\u001b[1;33m)\u001b[0m\u001b[1;33m\u001b[0m\u001b[1;33m\u001b[0m\u001b[0m\n\u001b[0m",
      "\u001b[1;31mAttributeError\u001b[0m: 'numpy.ndarray' object has no attribute 'describe'"
     ]
    }
   ],
   "source": [
    "# 1. Workinhometown Werkt iemand in dezelfde stad als dat hij/zij woont?\n",
    "data['Workinhometown'] = np.where(data['City']==data['StoreLocation'], 1, 0)\n"
   ]
  },
  {
   "cell_type": "code",
   "execution_count": 474,
   "metadata": {},
   "outputs": [],
   "source": [
    "# 2. PopulationCat Population in 4 catagorieën\n",
    "data['PopulationCat'] = 1\n",
    "data.loc[(data['Population'] > 0) & (data['Population'] <= 10000), 'PopulationCat'] = 4\n",
    "data.loc[(data['Population'] > 10000) & (data['Population'] <= 25000), 'PopulationCat'] = 3\n",
    "data.loc[(data['Population'] > 25000) & (data['Population'] <= 100000), 'PopulationCat'] = 2\n"
   ]
  },
  {
   "cell_type": "code",
   "execution_count": 476,
   "metadata": {},
   "outputs": [],
   "source": [
    "# 3. FrequentlyAbsent, te voorspellen variabele binair\n",
    "data['FrequentlyAbsent'] = 0\n",
    "data.loc[(data['AbsentHours'] > 96), 'FrequentlyAbsent'] = 1\n"
   ]
  },
  {
   "cell_type": "code",
   "execution_count": 478,
   "metadata": {},
   "outputs": [
    {
     "data": {
      "text/html": [
       "<div>\n",
       "<style scoped>\n",
       "    .dataframe tbody tr th:only-of-type {\n",
       "        vertical-align: middle;\n",
       "    }\n",
       "\n",
       "    .dataframe tbody tr th {\n",
       "        vertical-align: top;\n",
       "    }\n",
       "\n",
       "    .dataframe thead th {\n",
       "        text-align: right;\n",
       "    }\n",
       "</style>\n",
       "<table border=\"1\" class=\"dataframe\">\n",
       "  <thead>\n",
       "    <tr style=\"text-align: right;\">\n",
       "      <th></th>\n",
       "      <th>EmployeeNumber</th>\n",
       "      <th>Age</th>\n",
       "      <th>LengthService</th>\n",
       "      <th>AbsentHours</th>\n",
       "      <th>workinhometown</th>\n",
       "      <th>Population</th>\n",
       "      <th>PopulationCat</th>\n",
       "      <th>FrequentlyAbsent</th>\n",
       "    </tr>\n",
       "  </thead>\n",
       "  <tbody>\n",
       "    <tr>\n",
       "      <th>count</th>\n",
       "      <td>7151.000000</td>\n",
       "      <td>7151.000000</td>\n",
       "      <td>7151.000000</td>\n",
       "      <td>7151.000000</td>\n",
       "      <td>7151.000000</td>\n",
       "      <td>7.151000e+03</td>\n",
       "      <td>7151.000000</td>\n",
       "      <td>7151.000000</td>\n",
       "    </tr>\n",
       "    <tr>\n",
       "      <th>mean</th>\n",
       "      <td>4173.564816</td>\n",
       "      <td>42.048296</td>\n",
       "      <td>4.811548</td>\n",
       "      <td>61.365125</td>\n",
       "      <td>0.778213</td>\n",
       "      <td>6.572897e+05</td>\n",
       "      <td>1.908404</td>\n",
       "      <td>0.241505</td>\n",
       "    </tr>\n",
       "    <tr>\n",
       "      <th>std</th>\n",
       "      <td>2404.648199</td>\n",
       "      <td>9.943955</td>\n",
       "      <td>2.579410</td>\n",
       "      <td>49.158877</td>\n",
       "      <td>0.415478</td>\n",
       "      <td>9.337471e+05</td>\n",
       "      <td>1.109212</td>\n",
       "      <td>0.428025</td>\n",
       "    </tr>\n",
       "    <tr>\n",
       "      <th>min</th>\n",
       "      <td>1.000000</td>\n",
       "      <td>3.504743</td>\n",
       "      <td>0.012098</td>\n",
       "      <td>0.000000</td>\n",
       "      <td>0.000000</td>\n",
       "      <td>1.440000e+02</td>\n",
       "      <td>1.000000</td>\n",
       "      <td>0.000000</td>\n",
       "    </tr>\n",
       "    <tr>\n",
       "      <th>25%</th>\n",
       "      <td>2082.000000</td>\n",
       "      <td>35.358220</td>\n",
       "      <td>3.588119</td>\n",
       "      <td>19.157159</td>\n",
       "      <td>1.000000</td>\n",
       "      <td>2.327800e+04</td>\n",
       "      <td>1.000000</td>\n",
       "      <td>0.000000</td>\n",
       "    </tr>\n",
       "    <tr>\n",
       "      <th>50%</th>\n",
       "      <td>4174.000000</td>\n",
       "      <td>42.136477</td>\n",
       "      <td>4.610854</td>\n",
       "      <td>55.762033</td>\n",
       "      <td>1.000000</td>\n",
       "      <td>1.212790e+05</td>\n",
       "      <td>1.000000</td>\n",
       "      <td>0.000000</td>\n",
       "    </tr>\n",
       "    <tr>\n",
       "      <th>75%</th>\n",
       "      <td>6264.500000</td>\n",
       "      <td>48.689218</td>\n",
       "      <td>5.629511</td>\n",
       "      <td>94.639436</td>\n",
       "      <td>1.000000</td>\n",
       "      <td>5.178870e+05</td>\n",
       "      <td>3.000000</td>\n",
       "      <td>0.000000</td>\n",
       "    </tr>\n",
       "    <tr>\n",
       "      <th>max</th>\n",
       "      <td>8336.000000</td>\n",
       "      <td>77.938003</td>\n",
       "      <td>43.735239</td>\n",
       "      <td>272.530123</td>\n",
       "      <td>1.000000</td>\n",
       "      <td>2.264823e+06</td>\n",
       "      <td>4.000000</td>\n",
       "      <td>1.000000</td>\n",
       "    </tr>\n",
       "  </tbody>\n",
       "</table>\n",
       "</div>"
      ],
      "text/plain": [
       "       EmployeeNumber          Age  LengthService  AbsentHours  \\\n",
       "count     7151.000000  7151.000000    7151.000000  7151.000000   \n",
       "mean      4173.564816    42.048296       4.811548    61.365125   \n",
       "std       2404.648199     9.943955       2.579410    49.158877   \n",
       "min          1.000000     3.504743       0.012098     0.000000   \n",
       "25%       2082.000000    35.358220       3.588119    19.157159   \n",
       "50%       4174.000000    42.136477       4.610854    55.762033   \n",
       "75%       6264.500000    48.689218       5.629511    94.639436   \n",
       "max       8336.000000    77.938003      43.735239   272.530123   \n",
       "\n",
       "       workinhometown    Population  PopulationCat  FrequentlyAbsent  \n",
       "count     7151.000000  7.151000e+03    7151.000000       7151.000000  \n",
       "mean         0.778213  6.572897e+05       1.908404          0.241505  \n",
       "std          0.415478  9.337471e+05       1.109212          0.428025  \n",
       "min          0.000000  1.440000e+02       1.000000          0.000000  \n",
       "25%          1.000000  2.327800e+04       1.000000          0.000000  \n",
       "50%          1.000000  1.212790e+05       1.000000          0.000000  \n",
       "75%          1.000000  5.178870e+05       3.000000          0.000000  \n",
       "max          1.000000  2.264823e+06       4.000000          1.000000  "
      ]
     },
     "execution_count": 478,
     "metadata": {},
     "output_type": "execute_result"
    }
   ],
   "source": [
    "data.describe()"
   ]
  },
  {
   "cell_type": "markdown",
   "metadata": {},
   "source": [
    "#### Einde datapreparatie\n",
    "Hiermeer komt er een eind aan de preparatie van de data, nu ga ik beginnen met de volgende stap, het exploreren van de data met visualisaties.\n"
   ]
  },
  {
   "cell_type": "markdown",
   "metadata": {},
   "source": [
    "# Exploreren data door middel van visualisaties"
   ]
  },
  {
   "cell_type": "code",
   "execution_count": null,
   "metadata": {},
   "outputs": [],
   "source": [
    "# hier exploreren\n"
   ]
  },
  {
   "cell_type": "markdown",
   "metadata": {},
   "source": [
    "# Voorspellen ziekteverzuim"
   ]
  },
  {
   "cell_type": "code",
   "execution_count": null,
   "metadata": {},
   "outputs": [],
   "source": [
    "# hier voorspellen"
   ]
  },
  {
   "cell_type": "code",
   "execution_count": null,
   "metadata": {},
   "outputs": [],
   "source": []
  },
  {
   "cell_type": "markdown",
   "metadata": {},
   "source": [
    "# Conclusie "
   ]
  }
 ],
 "metadata": {
  "kernelspec": {
   "display_name": "Python 3",
   "language": "python",
   "name": "python3"
  },
  "language_info": {
   "codemirror_mode": {
    "name": "ipython",
    "version": 3
   },
   "file_extension": ".py",
   "mimetype": "text/x-python",
   "name": "python",
   "nbconvert_exporter": "python",
   "pygments_lexer": "ipython3",
   "version": "3.7.6"
  }
 },
 "nbformat": 4,
 "nbformat_minor": 4
}
