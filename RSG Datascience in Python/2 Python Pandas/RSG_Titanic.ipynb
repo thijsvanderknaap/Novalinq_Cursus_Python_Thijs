{
 "cells": [
  {
   "cell_type": "markdown",
   "metadata": {},
   "source": [
    "# Titanic data-analysis  \n",
    "### Een introductie voor datascience met python  \n",
    "\n",
    "<img align=\"left\" src=\"titanic.jpg\" alt=\"drawing\" width=\"500\"/>"
   ]
  },
  {
   "cell_type": "markdown",
   "metadata": {},
   "source": [
    "# 1 Importeren"
   ]
  },
  {
   "cell_type": "markdown",
   "metadata": {},
   "source": [
    "## 1.1 Theorie!\n",
    "\n",
    "Hoe haal je *data* binnen?  \n",
    "En hoe bekijk je deze?  \n",
    "\n",
    "\n",
    "### 1.1.1 Mogelijkheden \n",
    "  \n",
    "`pandas.read_csv(\"`*autocomplete met tab*`\")` \n",
    "\n",
    "`DataFrame[\"welke attribuut je wilt bekijken\"]`\n",
    "  \n",
    "### 1.1.2 Functies voor DataFrama x\n",
    "\n",
    "- `x.info()`   \n",
    "- `len(x)`  \n",
    "- `x.keys()`  \n",
    "- `x.describe()`  \n",
    "- `x.count()`  \n",
    "- `x.head()`  \n",
    "- `x.tail()`  \n",
    "- `x.nunique()`  \n",
    "- `x.describe()`  \n",
    "\n",
    "### 1.1.3 Weet je niet meer wat een functie doet?\n",
    "**Gebruik:**  \n",
    "- ?  \n",
    "- ??  \n",
    "- help(*functienaam*)   \n",
    "- [shift]+[tab]  \n",
    "\n"
   ]
  },
  {
   "cell_type": "markdown",
   "metadata": {},
   "source": [
    "## 1.2 Opdracht! \n",
    "1. Haal de *titanic dataset* binnen  \n",
    "2. Bekijk de *titanic dataset*:  \n",
    "    - Wat voor soort data hebben we (dimensies e.d.)?  \n",
    "    - Heb je vermoedens over relaties tussen verschillende dimensies?  \n",
    "    - Welke waarde willen we voorspellen?  "
   ]
  },
  {
   "cell_type": "markdown",
   "metadata": {},
   "source": [
    "##### Panda's cheat sheet!: https://github.com/pandas-dev/pandas/blob/master/doc/cheatsheet/Pandas_Cheat_Sheet.pdf"
   ]
  },
  {
   "cell_type": "code",
   "execution_count": 2,
   "metadata": {},
   "outputs": [],
   "source": [
    "import pandas as pd\n",
    "import numpy as np"
   ]
  },
  {
   "cell_type": "code",
   "execution_count": 5,
   "metadata": {},
   "outputs": [],
   "source": [
    "# Schrijf je eigen code voor het Importeren\n",
    "\n",
    "\n",
    "\n",
    "\n",
    "\n",
    "\n",
    "\n"
   ]
  },
  {
   "cell_type": "code",
   "execution_count": 4,
   "metadata": {},
   "outputs": [],
   "source": [
    "# Bekijk en notuleer je bevindingen binnen de dataset. Vergeet niet gebruik te maken van Markdown. \n",
    "\n",
    "\n",
    "\n",
    "\n",
    "\n",
    "\n",
    "\n"
   ]
  },
  {
   "cell_type": "markdown",
   "metadata": {},
   "source": [
    "# 2 DF samenvoegen"
   ]
  },
  {
   "cell_type": "markdown",
   "metadata": {},
   "source": [
    "## 2.1 Theorie! \n",
    "  \n",
    "**Sets samenvoegen** op regelniveau met `join()`  \n",
    "*Slecht imputeren* door de **NA's** In te vullen met gemiddelde waardes  \n",
    "  \n",
    "**[Concat](https://pandas.pydata.org/pandas-docs/stable/reference/api/pandas.concat.html)** `pd.concat([DF1, DF2], axis=0, join='outer')`\n",
    "\n",
    "**[Merge](https://pandas.pydata.org/pandas-docs/stable/reference/api/pandas.DataFrame.merge.html)** `pd.merge(DF1, DF2, left_on=key_or_keys, right_index=True, how='left', sort=False)` \n",
    "\n",
    "**[Join](https://pandas.pydata.org/pandas-docs/stable/reference/api/pandas.DataFrame.join.html)** `DF1.join(DF2, how='outer')`"
   ]
  },
  {
   "cell_type": "markdown",
   "metadata": {},
   "source": [
    "## 2.2 Opdracht! \n",
    "  \n",
    "Voeg de test en training set samen tot een. Denk aan welke waardes je invult bij de kolom `'Survived'`\n",
    "\n",
    "Denk aan `Concat()`, `Merge()`, `Join()`"
   ]
  },
  {
   "cell_type": "code",
   "execution_count": 10,
   "metadata": {},
   "outputs": [],
   "source": [
    "# Eigen code voor het samenvoegen van de training en testdata\n",
    "\n",
    "\n",
    "\n",
    "\n",
    "\n",
    "\n"
   ]
  },
  {
   "cell_type": "markdown",
   "metadata": {},
   "source": [
    "# 3 Groeperen, aggregeren"
   ]
  },
  {
   "cell_type": "markdown",
   "metadata": {},
   "source": [
    "## 3.1 Theorie!\n",
    "\n",
    "Groeperen, aggrereren.\n",
    "  \n",
    "### 3.1.1 Mogelijkheden:**  \n",
    "\n",
    "Functies voor DataFrame **x**:\n",
    "- `x.keys()`\n",
    "- `x.groupby()`  \n",
    "  \n",
    "Aggregatie-functies:\n",
    "- `x.count()`  \n",
    "- `x.sum()`  \n",
    "- `x.unique()`  \n",
    "- `x.nunique()`\n",
    "- `x.mean()`  \n",
    "- `x.median()`  \n",
    "\n",
    "Correlatie tussen attributen\n",
    "- `x.corr(kolom1, kolom2)`"
   ]
  },
  {
   "cell_type": "markdown",
   "metadata": {},
   "source": [
    "## 3.2 Opdracht!\n",
    "\n",
    "### 3.2.1 Onderzoeken\n",
    "Bekijk zelf de *Titanic Datasets*  \n",
    "en zie wat je nog meer te weten kunt komen.  "
   ]
  },
  {
   "cell_type": "code",
   "execution_count": null,
   "metadata": {},
   "outputs": [],
   "source": [
    "# Schrijf je eigen code voor meer bevindingen in de data. Wat is de distributie van de data? Hoeveel onbekende \n",
    "# waardes kan je vinden? Kan je door te groeperen al relaties zien in de data? Vergeet niet gebruik te maken van \n",
    "# Markdown. \n",
    "\n",
    "\n",
    "\n",
    "\n",
    "\n",
    "\n"
   ]
  },
  {
   "cell_type": "markdown",
   "metadata": {},
   "source": [
    "### 3.2.2 Collectief  \n",
    "\n",
    "Wat hebben we gevonden? Deel je bevindingen.\n"
   ]
  },
  {
   "cell_type": "markdown",
   "metadata": {},
   "source": [
    "# 4 Missende waardes"
   ]
  },
  {
   "cell_type": "markdown",
   "metadata": {},
   "source": [
    "## 4.1 Theorie! \n",
    "  \n",
    "Rijen en Kolommen specifiek inspecteren op **missende waardes**  \n",
    "  \n",
    "*Indexeren* op **missende waardes** met:  \n",
    "  \n",
    "### 4.1.1 Mogelijkheden \n",
    "\n",
    "Per kolom de missende waardes zoeken:  \n",
    "`DataFrame['kolomnaam'].isnull()`\n",
    "\n",
    "Alleen de rijen bekijken waar een kolom gevuld missende waardes bevat:  \n",
    "`DataFrame[DataFrame['kolomnaam'].isnull()]`\n",
    "\n",
    "Alleen de rijen bekijken waar verschillende specifieke kolommen missende waardes bevat:  \n",
    "`DataFrame[['kolomnaam1', 'kolomnaam2', 'kolomnaamN']].isnull()`  \n",
    "  \n",
    "en conditioneel indexeren:  \n",
    "`DataFrame[DataFrame['kolomnaam'] (conditional statement) waarde]`  \n",
    "  \n",
    "Alle kolommen vinden waar missende waardes instaan, en die bekijken.  \n",
    "door gebruik van:\n",
    "\n",
    "`DataFrame.keys()`   \n",
    "`DataFrame.isnull()`  \n",
    "`DataFrame.Nunique()`   \n",
    "`Conditioneel indexeren` "
   ]
  },
  {
   "cell_type": "markdown",
   "metadata": {},
   "source": [
    "## 4.2 Opdracht! \n",
    "\n",
    "Zoek de missende waardes in de **titanic train & testset**.\n",
    "Bedenk per kolom *of*, en *hoe* we deze missende waardes  \n",
    "kunnen *imputeren*  voor een betere voorspelling. \n",
    "\n",
    "Bekijk het voor alle attributen:\n",
    "\n",
    "- PassengerId\n",
    "- Survived  \n",
    "- Pclass  \n",
    "- Name   \n",
    "- Sex  \n",
    "- Age  \n",
    "- SibSp  \n",
    "- Parch  \n",
    "- Ticket  \n",
    "- Fare  \n",
    "- Cabin   \n",
    "- Embarked \n",
    "\n",
    "### 4.2.1 Vergeet niet!  \n",
    "- Beter kijken door `x.groupby()`  \n",
    "- Aggregatiefuncties: `sum(), count(), mean(), median(), unique(), nunique()`    "
   ]
  },
  {
   "cell_type": "code",
   "execution_count": 9,
   "metadata": {},
   "outputs": [],
   "source": [
    "# Eigen code (voeg cellen toe per attribuut om het overzichtelijker te maken).\n",
    "\n",
    "\n",
    "\n",
    "\n",
    "\n",
    "\n"
   ]
  },
  {
   "cell_type": "markdown",
   "metadata": {},
   "source": [
    "### 4.2.2 Conclusie! \n",
    "\n",
    "- Waar zitten de NA's?\n",
    "- Hoe kunnen we ze het beste imputeren?"
   ]
  },
  {
   "cell_type": "markdown",
   "metadata": {},
   "source": [
    "# 5 Na's imputeren!"
   ]
  },
  {
   "cell_type": "markdown",
   "metadata": {},
   "source": [
    "## 5.1 Theorie! \n",
    "\n",
    "stap 1: Waar zitten de NA's? (hebben we gedaan)  \n",
    "stap 2: Vul ze in op die plek!\n",
    "\n",
    "Missende waardes kunnen ingevuld worden met de functie: \n",
    "\n",
    "`DF.fillna(value)`\n",
    "\n",
    "Wat ons rest is een waarde te bedenken die daar het best ingevuld kan worden! "
   ]
  },
  {
   "cell_type": "markdown",
   "metadata": {},
   "source": [
    "## 5.2 Opdracht!\n",
    "\n",
    "### 5.3 Vul NA's in\n",
    "Vul per attribuut (indien nodig) de onbekende waardes in. Denk hierbij aan: \n",
    "\n",
    "- Wat voor invloed heeft imputatie van onbekende waarden? \n",
    "- Welke waardes passen het best in plaats van de onbekende waarden? \n",
    "- Denk hierbij aan het groeperen van attributen die een sterke correlatie hebben met andere attributen die je wilt invullen. \n",
    "\n",
    "Bekijk het voor alle attributen:\n",
    "\n",
    "- PassengerId\n",
    "- Survived  \n",
    "- Pclass  \n",
    "- Name   \n",
    "- Sex  \n",
    "- Age  \n",
    "- SibSp  \n",
    "- Parch  \n",
    "- Ticket  \n",
    "- Fare  \n",
    "- Cabin   \n",
    "- Embarked "
   ]
  },
  {
   "cell_type": "code",
   "execution_count": null,
   "metadata": {},
   "outputs": [],
   "source": [
    "# Eigen code (voeg cellen toe per attribuut om het overzichtelijker te maken).\n",
    "\n",
    "\n",
    "\n",
    "\n",
    "\n",
    "\n",
    "\n",
    "\n"
   ]
  },
  {
   "cell_type": "markdown",
   "metadata": {},
   "source": [
    "### 5.2.2 Reflectie\n",
    "\n",
    "Welke keuzes heeft iedereen gemaakt en waarom?  "
   ]
  },
  {
   "cell_type": "markdown",
   "metadata": {},
   "source": [
    "# 6 Data exporteren\n",
    "\n",
    "## 6.1 Theorie!\n",
    "\n",
    "Nu onze data volledig is ingevuld, kunnen we onze data exporteren naar een csv bestand zodat we er volgende keer op door kunnen werken. Met deze geimputeerde dataset is het gemakkelijker om visualisatietools op los te gooien en om een model op toe te passen. \n",
    "\n",
    "Hiervoor gebruiken we de functie [to_csv](https://pandas.pydata.org/pandas-docs/stable/reference/api/pandas.DataFrame.to_csv.html)\n",
    "\n",
    "`DF.to_csv('filename')`\n",
    "\n",
    "## 6.2 Opdracht! \n",
    "\n",
    "Exporteer het csv bestand en sla het op zodat je het bij de volgende les kan gebruiken. "
   ]
  },
  {
   "cell_type": "code",
   "execution_count": 11,
   "metadata": {},
   "outputs": [],
   "source": [
    "# Exporteer je pandas DF naar CSV!\n",
    "\n",
    "\n",
    "\n",
    "\n"
   ]
  },
  {
   "cell_type": "code",
   "execution_count": null,
   "metadata": {},
   "outputs": [],
   "source": []
  }
 ],
 "metadata": {
  "kernelspec": {
   "display_name": "Python 3",
   "language": "python",
   "name": "python3"
  },
  "language_info": {
   "codemirror_mode": {
    "name": "ipython",
    "version": 3
   },
   "file_extension": ".py",
   "mimetype": "text/x-python",
   "name": "python",
   "nbconvert_exporter": "python",
   "pygments_lexer": "ipython3",
   "version": "3.7.6"
  }
 },
 "nbformat": 4,
 "nbformat_minor": 2
}
