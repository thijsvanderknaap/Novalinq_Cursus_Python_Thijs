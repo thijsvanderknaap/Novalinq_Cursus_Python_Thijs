{
 "cells": [
  {
   "cell_type": "markdown",
   "metadata": {},
   "source": [
    "# Datascience in Python course\n",
    "\n",
    "## <span style=\"color:blue\">DataFrame Pandas</span>\n"
   ]
  },
  {
   "cell_type": "markdown",
   "metadata": {},
   "source": [
    "onee... **PANDAS**"
   ]
  },
  {
   "cell_type": "markdown",
   "metadata": {},
   "source": [
    "Pandas is een package waarmee tabulaire data vanuit externe databronnen geïmporteerd, bewerkt, en opgeslagen kan worden. De naam is afkomstig van de term **‘panel data’**, een begrip uit de statistiek. Toch niet van echte pandas..."
   ]
  },
  {
   "cell_type": "code",
   "execution_count": 1,
   "metadata": {},
   "outputs": [],
   "source": [
    "import pandas as pd\n",
    "import numpy as np"
   ]
  },
  {
   "cell_type": "code",
   "execution_count": null,
   "metadata": {},
   "outputs": [],
   "source": [
    "pd.Series?"
   ]
  },
  {
   "cell_type": "code",
   "execution_count": null,
   "metadata": {},
   "outputs": [],
   "source": [
    "pd.DataFrame?"
   ]
  },
  {
   "cell_type": "markdown",
   "metadata": {},
   "source": [
    "### Programma ochtend\n",
    "\n",
    "    1 Datastructuur Pandas\n",
    "        1.1 List naar DF    \n",
    "        1.2 Dict naar DF \n",
    "        1.3 DF importeren \n",
    "        1.4 Oefening\n",
    "    2 Data inlezen\n",
    "        2.1 Specifieke data\n",
    "        2.2 Nog specifieker..\n",
    "        2.3 Missende waardes\n",
    "        2.4 Groupby\n",
    "        2.5 Oefening\n",
    "    3 Data imputeren\n",
    "        3.1 Waarom?\n",
    "        3.2 Correlaties in data\n",
    "        3.3 Slicing\n",
    "        3.4 fillnone()\n",
    "        3.5 feature engineering\n",
    "        3.6 Oefening\n",
    "    4 Oefenen met een kleine dataset\n",
    "        4.1 Onbekende waardes 'voorspellen'"
   ]
  },
  {
   "cell_type": "markdown",
   "metadata": {},
   "source": [
    "## 1. Datastructuur Pandas\n",
    "\n",
    "We hebben vorige week gewerkt met verschillende soorten datastructuren. Laten we kijken of we deze kunnen 'hergebruiken'. "
   ]
  },
  {
   "cell_type": "markdown",
   "metadata": {},
   "source": [
    "### 1.1 List naar DF    \n",
    "   \n",
    "`pd.DataFrame(list, columns=None)`"
   ]
  },
  {
   "cell_type": "code",
   "execution_count": null,
   "metadata": {},
   "outputs": [],
   "source": [
    "mijn_LIST = ['1', 2, 3, 'NEW']"
   ]
  },
  {
   "cell_type": "code",
   "execution_count": null,
   "metadata": {},
   "outputs": [],
   "source": [
    "pd.DataFrame(mijn_LIST)"
   ]
  },
  {
   "cell_type": "code",
   "execution_count": null,
   "metadata": {},
   "outputs": [],
   "source": [
    "pd.DataFrame(mijn_LIST, columns=[\"Content\"], index=['Een', 'Twee', 'Drie', 'Vier'])"
   ]
  },
  {
   "cell_type": "markdown",
   "metadata": {},
   "source": [
    "### 1.2 Dict naar DF \n",
    "   "
   ]
  },
  {
   "cell_type": "code",
   "execution_count": 4,
   "metadata": {},
   "outputs": [],
   "source": [
    "klas = {'David': 7.4, 'Sergio': 8.1, 'Minoes': 7.7, 'Alexa': 6.999, 'Ceasar': 9.6, 'Billie': 5.4, 'Katja': 8.5}"
   ]
  },
  {
   "cell_type": "code",
   "execution_count": 3,
   "metadata": {},
   "outputs": [
    {
     "ename": "ValueError",
     "evalue": "If using all scalar values, you must pass an index",
     "output_type": "error",
     "traceback": [
      "\u001b[1;31m---------------------------------------------------------------------------\u001b[0m",
      "\u001b[1;31mValueError\u001b[0m                                Traceback (most recent call last)",
      "\u001b[1;32m<ipython-input-3-da2e27246d7c>\u001b[0m in \u001b[0;36m<module>\u001b[1;34m\u001b[0m\n\u001b[1;32m----> 1\u001b[1;33m \u001b[0mpd\u001b[0m\u001b[1;33m.\u001b[0m\u001b[0mDataFrame\u001b[0m\u001b[1;33m(\u001b[0m\u001b[0mklas\u001b[0m\u001b[1;33m)\u001b[0m\u001b[1;33m\u001b[0m\u001b[1;33m\u001b[0m\u001b[0m\n\u001b[0m",
      "\u001b[1;32m~\\Anaconda3\\lib\\site-packages\\pandas\\core\\frame.py\u001b[0m in \u001b[0;36m__init__\u001b[1;34m(self, data, index, columns, dtype, copy)\u001b[0m\n\u001b[0;32m    433\u001b[0m             )\n\u001b[0;32m    434\u001b[0m         \u001b[1;32melif\u001b[0m \u001b[0misinstance\u001b[0m\u001b[1;33m(\u001b[0m\u001b[0mdata\u001b[0m\u001b[1;33m,\u001b[0m \u001b[0mdict\u001b[0m\u001b[1;33m)\u001b[0m\u001b[1;33m:\u001b[0m\u001b[1;33m\u001b[0m\u001b[1;33m\u001b[0m\u001b[0m\n\u001b[1;32m--> 435\u001b[1;33m             \u001b[0mmgr\u001b[0m \u001b[1;33m=\u001b[0m \u001b[0minit_dict\u001b[0m\u001b[1;33m(\u001b[0m\u001b[0mdata\u001b[0m\u001b[1;33m,\u001b[0m \u001b[0mindex\u001b[0m\u001b[1;33m,\u001b[0m \u001b[0mcolumns\u001b[0m\u001b[1;33m,\u001b[0m \u001b[0mdtype\u001b[0m\u001b[1;33m=\u001b[0m\u001b[0mdtype\u001b[0m\u001b[1;33m)\u001b[0m\u001b[1;33m\u001b[0m\u001b[1;33m\u001b[0m\u001b[0m\n\u001b[0m\u001b[0;32m    436\u001b[0m         \u001b[1;32melif\u001b[0m \u001b[0misinstance\u001b[0m\u001b[1;33m(\u001b[0m\u001b[0mdata\u001b[0m\u001b[1;33m,\u001b[0m \u001b[0mma\u001b[0m\u001b[1;33m.\u001b[0m\u001b[0mMaskedArray\u001b[0m\u001b[1;33m)\u001b[0m\u001b[1;33m:\u001b[0m\u001b[1;33m\u001b[0m\u001b[1;33m\u001b[0m\u001b[0m\n\u001b[0;32m    437\u001b[0m             \u001b[1;32mimport\u001b[0m \u001b[0mnumpy\u001b[0m\u001b[1;33m.\u001b[0m\u001b[0mma\u001b[0m\u001b[1;33m.\u001b[0m\u001b[0mmrecords\u001b[0m \u001b[1;32mas\u001b[0m \u001b[0mmrecords\u001b[0m\u001b[1;33m\u001b[0m\u001b[1;33m\u001b[0m\u001b[0m\n",
      "\u001b[1;32m~\\Anaconda3\\lib\\site-packages\\pandas\\core\\internals\\construction.py\u001b[0m in \u001b[0;36minit_dict\u001b[1;34m(data, index, columns, dtype)\u001b[0m\n\u001b[0;32m    252\u001b[0m             \u001b[0marr\u001b[0m \u001b[1;32mif\u001b[0m \u001b[1;32mnot\u001b[0m \u001b[0mis_datetime64tz_dtype\u001b[0m\u001b[1;33m(\u001b[0m\u001b[0marr\u001b[0m\u001b[1;33m)\u001b[0m \u001b[1;32melse\u001b[0m \u001b[0marr\u001b[0m\u001b[1;33m.\u001b[0m\u001b[0mcopy\u001b[0m\u001b[1;33m(\u001b[0m\u001b[1;33m)\u001b[0m \u001b[1;32mfor\u001b[0m \u001b[0marr\u001b[0m \u001b[1;32min\u001b[0m \u001b[0marrays\u001b[0m\u001b[1;33m\u001b[0m\u001b[1;33m\u001b[0m\u001b[0m\n\u001b[0;32m    253\u001b[0m         ]\n\u001b[1;32m--> 254\u001b[1;33m     \u001b[1;32mreturn\u001b[0m \u001b[0marrays_to_mgr\u001b[0m\u001b[1;33m(\u001b[0m\u001b[0marrays\u001b[0m\u001b[1;33m,\u001b[0m \u001b[0mdata_names\u001b[0m\u001b[1;33m,\u001b[0m \u001b[0mindex\u001b[0m\u001b[1;33m,\u001b[0m \u001b[0mcolumns\u001b[0m\u001b[1;33m,\u001b[0m \u001b[0mdtype\u001b[0m\u001b[1;33m=\u001b[0m\u001b[0mdtype\u001b[0m\u001b[1;33m)\u001b[0m\u001b[1;33m\u001b[0m\u001b[1;33m\u001b[0m\u001b[0m\n\u001b[0m\u001b[0;32m    255\u001b[0m \u001b[1;33m\u001b[0m\u001b[0m\n\u001b[0;32m    256\u001b[0m \u001b[1;33m\u001b[0m\u001b[0m\n",
      "\u001b[1;32m~\\Anaconda3\\lib\\site-packages\\pandas\\core\\internals\\construction.py\u001b[0m in \u001b[0;36marrays_to_mgr\u001b[1;34m(arrays, arr_names, index, columns, dtype)\u001b[0m\n\u001b[0;32m     62\u001b[0m     \u001b[1;31m# figure out the index, if necessary\u001b[0m\u001b[1;33m\u001b[0m\u001b[1;33m\u001b[0m\u001b[1;33m\u001b[0m\u001b[0m\n\u001b[0;32m     63\u001b[0m     \u001b[1;32mif\u001b[0m \u001b[0mindex\u001b[0m \u001b[1;32mis\u001b[0m \u001b[1;32mNone\u001b[0m\u001b[1;33m:\u001b[0m\u001b[1;33m\u001b[0m\u001b[1;33m\u001b[0m\u001b[0m\n\u001b[1;32m---> 64\u001b[1;33m         \u001b[0mindex\u001b[0m \u001b[1;33m=\u001b[0m \u001b[0mextract_index\u001b[0m\u001b[1;33m(\u001b[0m\u001b[0marrays\u001b[0m\u001b[1;33m)\u001b[0m\u001b[1;33m\u001b[0m\u001b[1;33m\u001b[0m\u001b[0m\n\u001b[0m\u001b[0;32m     65\u001b[0m     \u001b[1;32melse\u001b[0m\u001b[1;33m:\u001b[0m\u001b[1;33m\u001b[0m\u001b[1;33m\u001b[0m\u001b[0m\n\u001b[0;32m     66\u001b[0m         \u001b[0mindex\u001b[0m \u001b[1;33m=\u001b[0m \u001b[0mensure_index\u001b[0m\u001b[1;33m(\u001b[0m\u001b[0mindex\u001b[0m\u001b[1;33m)\u001b[0m\u001b[1;33m\u001b[0m\u001b[1;33m\u001b[0m\u001b[0m\n",
      "\u001b[1;32m~\\Anaconda3\\lib\\site-packages\\pandas\\core\\internals\\construction.py\u001b[0m in \u001b[0;36mextract_index\u001b[1;34m(data)\u001b[0m\n\u001b[0;32m    353\u001b[0m \u001b[1;33m\u001b[0m\u001b[0m\n\u001b[0;32m    354\u001b[0m         \u001b[1;32mif\u001b[0m \u001b[1;32mnot\u001b[0m \u001b[0mindexes\u001b[0m \u001b[1;32mand\u001b[0m \u001b[1;32mnot\u001b[0m \u001b[0mraw_lengths\u001b[0m\u001b[1;33m:\u001b[0m\u001b[1;33m\u001b[0m\u001b[1;33m\u001b[0m\u001b[0m\n\u001b[1;32m--> 355\u001b[1;33m             \u001b[1;32mraise\u001b[0m \u001b[0mValueError\u001b[0m\u001b[1;33m(\u001b[0m\u001b[1;34m\"If using all scalar values, you must pass an index\"\u001b[0m\u001b[1;33m)\u001b[0m\u001b[1;33m\u001b[0m\u001b[1;33m\u001b[0m\u001b[0m\n\u001b[0m\u001b[0;32m    356\u001b[0m \u001b[1;33m\u001b[0m\u001b[0m\n\u001b[0;32m    357\u001b[0m         \u001b[1;32mif\u001b[0m \u001b[0mhave_series\u001b[0m\u001b[1;33m:\u001b[0m\u001b[1;33m\u001b[0m\u001b[1;33m\u001b[0m\u001b[0m\n",
      "\u001b[1;31mValueError\u001b[0m: If using all scalar values, you must pass an index"
     ]
    }
   ],
   "source": [
    "pd.DataFrame(klas)"
   ]
  },
  {
   "cell_type": "code",
   "execution_count": 5,
   "metadata": {},
   "outputs": [
    {
     "data": {
      "text/plain": [
       "David     7.400\n",
       "Sergio    8.100\n",
       "Minoes    7.700\n",
       "Alexa     6.999\n",
       "Ceasar    9.600\n",
       "Billie    5.400\n",
       "Katja     8.500\n",
       "Name: Score, dtype: float64"
      ]
     },
     "execution_count": 5,
     "metadata": {},
     "output_type": "execute_result"
    }
   ],
   "source": [
    "series = pd.Series(klas, name='Score')\n",
    "series"
   ]
  },
  {
   "cell_type": "code",
   "execution_count": 6,
   "metadata": {},
   "outputs": [
    {
     "data": {
      "text/html": [
       "<div>\n",
       "<style scoped>\n",
       "    .dataframe tbody tr th:only-of-type {\n",
       "        vertical-align: middle;\n",
       "    }\n",
       "\n",
       "    .dataframe tbody tr th {\n",
       "        vertical-align: top;\n",
       "    }\n",
       "\n",
       "    .dataframe thead th {\n",
       "        text-align: right;\n",
       "    }\n",
       "</style>\n",
       "<table border=\"1\" class=\"dataframe\">\n",
       "  <thead>\n",
       "    <tr style=\"text-align: right;\">\n",
       "      <th></th>\n",
       "      <th>Score</th>\n",
       "    </tr>\n",
       "  </thead>\n",
       "  <tbody>\n",
       "    <tr>\n",
       "      <th>David</th>\n",
       "      <td>7.400</td>\n",
       "    </tr>\n",
       "    <tr>\n",
       "      <th>Sergio</th>\n",
       "      <td>8.100</td>\n",
       "    </tr>\n",
       "    <tr>\n",
       "      <th>Minoes</th>\n",
       "      <td>7.700</td>\n",
       "    </tr>\n",
       "    <tr>\n",
       "      <th>Alexa</th>\n",
       "      <td>6.999</td>\n",
       "    </tr>\n",
       "    <tr>\n",
       "      <th>Ceasar</th>\n",
       "      <td>9.600</td>\n",
       "    </tr>\n",
       "    <tr>\n",
       "      <th>Billie</th>\n",
       "      <td>5.400</td>\n",
       "    </tr>\n",
       "    <tr>\n",
       "      <th>Katja</th>\n",
       "      <td>8.500</td>\n",
       "    </tr>\n",
       "  </tbody>\n",
       "</table>\n",
       "</div>"
      ],
      "text/plain": [
       "        Score\n",
       "David   7.400\n",
       "Sergio  8.100\n",
       "Minoes  7.700\n",
       "Alexa   6.999\n",
       "Ceasar  9.600\n",
       "Billie  5.400\n",
       "Katja   8.500"
      ]
     },
     "execution_count": 6,
     "metadata": {},
     "output_type": "execute_result"
    }
   ],
   "source": [
    "pd.DataFrame(series)"
   ]
  },
  {
   "cell_type": "markdown",
   "metadata": {},
   "source": [
    "### Wat gebeurder er?!\n",
    "\n",
    "De **values** hebben geen index. Dit kan gelukkig voorkomen worden. Hieronder drie opties"
   ]
  },
  {
   "cell_type": "markdown",
   "metadata": {},
   "source": [
    "Geef de Dictionary mee als een list samen met een Index. Je komt hier tegen het probleem aan dat de DataFrame wordt getransposed. De keys zijn nu attributen, geen datapunten. Je kan het gelukkig terug transposen met DF.T"
   ]
  },
  {
   "cell_type": "code",
   "execution_count": 7,
   "metadata": {},
   "outputs": [
    {
     "data": {
      "text/html": [
       "<div>\n",
       "<style scoped>\n",
       "    .dataframe tbody tr th:only-of-type {\n",
       "        vertical-align: middle;\n",
       "    }\n",
       "\n",
       "    .dataframe tbody tr th {\n",
       "        vertical-align: top;\n",
       "    }\n",
       "\n",
       "    .dataframe thead th {\n",
       "        text-align: right;\n",
       "    }\n",
       "</style>\n",
       "<table border=\"1\" class=\"dataframe\">\n",
       "  <thead>\n",
       "    <tr style=\"text-align: right;\">\n",
       "      <th></th>\n",
       "      <th>David</th>\n",
       "      <th>Sergio</th>\n",
       "      <th>Minoes</th>\n",
       "      <th>Alexa</th>\n",
       "      <th>Ceasar</th>\n",
       "      <th>Billie</th>\n",
       "      <th>Katja</th>\n",
       "    </tr>\n",
       "  </thead>\n",
       "  <tbody>\n",
       "    <tr>\n",
       "      <th>Score</th>\n",
       "      <td>7.4</td>\n",
       "      <td>8.1</td>\n",
       "      <td>7.7</td>\n",
       "      <td>6.999</td>\n",
       "      <td>9.6</td>\n",
       "      <td>5.4</td>\n",
       "      <td>8.5</td>\n",
       "    </tr>\n",
       "  </tbody>\n",
       "</table>\n",
       "</div>"
      ],
      "text/plain": [
       "       David  Sergio  Minoes  Alexa  Ceasar  Billie  Katja\n",
       "Score    7.4     8.1     7.7  6.999     9.6     5.4    8.5"
      ]
     },
     "execution_count": 7,
     "metadata": {},
     "output_type": "execute_result"
    }
   ],
   "source": [
    "klas_df = pd.DataFrame([klas], index=['Score'])\n",
    "klas_df"
   ]
  },
  {
   "cell_type": "code",
   "execution_count": 8,
   "metadata": {},
   "outputs": [
    {
     "data": {
      "text/html": [
       "<div>\n",
       "<style scoped>\n",
       "    .dataframe tbody tr th:only-of-type {\n",
       "        vertical-align: middle;\n",
       "    }\n",
       "\n",
       "    .dataframe tbody tr th {\n",
       "        vertical-align: top;\n",
       "    }\n",
       "\n",
       "    .dataframe thead th {\n",
       "        text-align: right;\n",
       "    }\n",
       "</style>\n",
       "<table border=\"1\" class=\"dataframe\">\n",
       "  <thead>\n",
       "    <tr style=\"text-align: right;\">\n",
       "      <th></th>\n",
       "      <th>Score</th>\n",
       "    </tr>\n",
       "  </thead>\n",
       "  <tbody>\n",
       "    <tr>\n",
       "      <th>David</th>\n",
       "      <td>7.400</td>\n",
       "    </tr>\n",
       "    <tr>\n",
       "      <th>Sergio</th>\n",
       "      <td>8.100</td>\n",
       "    </tr>\n",
       "    <tr>\n",
       "      <th>Minoes</th>\n",
       "      <td>7.700</td>\n",
       "    </tr>\n",
       "    <tr>\n",
       "      <th>Alexa</th>\n",
       "      <td>6.999</td>\n",
       "    </tr>\n",
       "    <tr>\n",
       "      <th>Ceasar</th>\n",
       "      <td>9.600</td>\n",
       "    </tr>\n",
       "    <tr>\n",
       "      <th>Billie</th>\n",
       "      <td>5.400</td>\n",
       "    </tr>\n",
       "    <tr>\n",
       "      <th>Katja</th>\n",
       "      <td>8.500</td>\n",
       "    </tr>\n",
       "  </tbody>\n",
       "</table>\n",
       "</div>"
      ],
      "text/plain": [
       "        Score\n",
       "David   7.400\n",
       "Sergio  8.100\n",
       "Minoes  7.700\n",
       "Alexa   6.999\n",
       "Ceasar  9.600\n",
       "Billie  5.400\n",
       "Katja   8.500"
      ]
     },
     "execution_count": 8,
     "metadata": {},
     "output_type": "execute_result"
    }
   ],
   "source": [
    "klas_df.T"
   ]
  },
  {
   "cell_type": "markdown",
   "metadata": {},
   "source": [
    "Het was een beetje een omweg.. gelukkig kan het ook in een keer. Geef de keys en values van de Dictionary mee in een list. Geef bij de `columns` parameter de namen van de attributen mee."
   ]
  },
  {
   "cell_type": "code",
   "execution_count": 9,
   "metadata": {},
   "outputs": [
    {
     "data": {
      "text/plain": [
       "[('David', 7.4),\n",
       " ('Sergio', 8.1),\n",
       " ('Minoes', 7.7),\n",
       " ('Alexa', 6.999),\n",
       " ('Ceasar', 9.6),\n",
       " ('Billie', 5.4),\n",
       " ('Katja', 8.5)]"
      ]
     },
     "execution_count": 9,
     "metadata": {},
     "output_type": "execute_result"
    }
   ],
   "source": [
    "items_klas = list(klas.items())\n",
    "items_klas"
   ]
  },
  {
   "cell_type": "code",
   "execution_count": 13,
   "metadata": {},
   "outputs": [
    {
     "data": {
      "text/html": [
       "<div>\n",
       "<style scoped>\n",
       "    .dataframe tbody tr th:only-of-type {\n",
       "        vertical-align: middle;\n",
       "    }\n",
       "\n",
       "    .dataframe tbody tr th {\n",
       "        vertical-align: top;\n",
       "    }\n",
       "\n",
       "    .dataframe thead th {\n",
       "        text-align: right;\n",
       "    }\n",
       "</style>\n",
       "<table border=\"1\" class=\"dataframe\">\n",
       "  <thead>\n",
       "    <tr style=\"text-align: right;\">\n",
       "      <th></th>\n",
       "      <th>Unnamed: 0</th>\n",
       "      <th>Score</th>\n",
       "    </tr>\n",
       "  </thead>\n",
       "  <tbody>\n",
       "    <tr>\n",
       "      <th>0</th>\n",
       "      <td>David</td>\n",
       "      <td>7.400</td>\n",
       "    </tr>\n",
       "    <tr>\n",
       "      <th>1</th>\n",
       "      <td>Sergio</td>\n",
       "      <td>8.100</td>\n",
       "    </tr>\n",
       "    <tr>\n",
       "      <th>2</th>\n",
       "      <td>Minoes</td>\n",
       "      <td>7.700</td>\n",
       "    </tr>\n",
       "    <tr>\n",
       "      <th>3</th>\n",
       "      <td>Alexa</td>\n",
       "      <td>6.999</td>\n",
       "    </tr>\n",
       "    <tr>\n",
       "      <th>4</th>\n",
       "      <td>Ceasar</td>\n",
       "      <td>9.600</td>\n",
       "    </tr>\n",
       "    <tr>\n",
       "      <th>5</th>\n",
       "      <td>Billie</td>\n",
       "      <td>5.400</td>\n",
       "    </tr>\n",
       "    <tr>\n",
       "      <th>6</th>\n",
       "      <td>Katja</td>\n",
       "      <td>8.500</td>\n",
       "    </tr>\n",
       "  </tbody>\n",
       "</table>\n",
       "</div>"
      ],
      "text/plain": [
       "  Unnamed: 0  Score\n",
       "0      David  7.400\n",
       "1     Sergio  8.100\n",
       "2     Minoes  7.700\n",
       "3      Alexa  6.999\n",
       "4     Ceasar  9.600\n",
       "5     Billie  5.400\n",
       "6      Katja  8.500"
      ]
     },
     "execution_count": 13,
     "metadata": {},
     "output_type": "execute_result"
    }
   ],
   "source": [
    "klasDF = pd.DataFrame(items_klas, columns=['Unnamed: 0', 'Score'])\n",
    "klasDF"
   ]
  },
  {
   "cell_type": "markdown",
   "metadata": {},
   "source": [
    "### 1.3 DF importeren \n",
    "   \n",
    "Een dataset wordt geimporteerd via de volgende functie \n",
    "\n",
    "`pd.read_csv('file.csv')`\n",
    "\n",
    "Neem eens een kijkje in het csv bestand vanuit de jupyter notebook omgeving en kijk of je het kan aanpassen. Importeer het vervolgens opnieuw. "
   ]
  },
  {
   "cell_type": "code",
   "execution_count": 12,
   "metadata": {},
   "outputs": [
    {
     "data": {
      "text/html": [
       "<div>\n",
       "<style scoped>\n",
       "    .dataframe tbody tr th:only-of-type {\n",
       "        vertical-align: middle;\n",
       "    }\n",
       "\n",
       "    .dataframe tbody tr th {\n",
       "        vertical-align: top;\n",
       "    }\n",
       "\n",
       "    .dataframe thead th {\n",
       "        text-align: right;\n",
       "    }\n",
       "</style>\n",
       "<table border=\"1\" class=\"dataframe\">\n",
       "  <thead>\n",
       "    <tr style=\"text-align: right;\">\n",
       "      <th></th>\n",
       "      <th>Unnamed: 0</th>\n",
       "      <th>slaap_uren</th>\n",
       "      <th>koffie</th>\n",
       "      <th>spiekbriefje</th>\n",
       "      <th>studie_uren</th>\n",
       "      <th>ochtend_humeur</th>\n",
       "      <th>aantal_min_op_tijd</th>\n",
       "      <th>tijd_besteed_aan_examen_min</th>\n",
       "      <th>lengte</th>\n",
       "      <th>adhd</th>\n",
       "      <th>links_handig</th>\n",
       "    </tr>\n",
       "  </thead>\n",
       "  <tbody>\n",
       "    <tr>\n",
       "      <th>0</th>\n",
       "      <td>David</td>\n",
       "      <td>7</td>\n",
       "      <td>0</td>\n",
       "      <td>0</td>\n",
       "      <td>NaN</td>\n",
       "      <td>0</td>\n",
       "      <td>15</td>\n",
       "      <td>162</td>\n",
       "      <td>189.0</td>\n",
       "      <td>0</td>\n",
       "      <td>0.0</td>\n",
       "    </tr>\n",
       "    <tr>\n",
       "      <th>1</th>\n",
       "      <td>Alexa</td>\n",
       "      <td>7</td>\n",
       "      <td>1</td>\n",
       "      <td>0</td>\n",
       "      <td>27.0</td>\n",
       "      <td>1</td>\n",
       "      <td>9</td>\n",
       "      <td>180</td>\n",
       "      <td>176.0</td>\n",
       "      <td>1</td>\n",
       "      <td>0.0</td>\n",
       "    </tr>\n",
       "    <tr>\n",
       "      <th>2</th>\n",
       "      <td>Ceasar</td>\n",
       "      <td>9</td>\n",
       "      <td>0</td>\n",
       "      <td>1</td>\n",
       "      <td>18.0</td>\n",
       "      <td>0</td>\n",
       "      <td>40</td>\n",
       "      <td>140</td>\n",
       "      <td>165.0</td>\n",
       "      <td>1</td>\n",
       "      <td>NaN</td>\n",
       "    </tr>\n",
       "    <tr>\n",
       "      <th>3</th>\n",
       "      <td>Billie</td>\n",
       "      <td>3</td>\n",
       "      <td>1</td>\n",
       "      <td>0</td>\n",
       "      <td>8.0</td>\n",
       "      <td>1</td>\n",
       "      <td>2</td>\n",
       "      <td>180</td>\n",
       "      <td>NaN</td>\n",
       "      <td>0</td>\n",
       "      <td>1.0</td>\n",
       "    </tr>\n",
       "    <tr>\n",
       "      <th>4</th>\n",
       "      <td>Katja</td>\n",
       "      <td>8</td>\n",
       "      <td>0</td>\n",
       "      <td>0</td>\n",
       "      <td>44.0</td>\n",
       "      <td>0</td>\n",
       "      <td>14</td>\n",
       "      <td>180</td>\n",
       "      <td>171.0</td>\n",
       "      <td>0</td>\n",
       "      <td>0.0</td>\n",
       "    </tr>\n",
       "    <tr>\n",
       "      <th>5</th>\n",
       "      <td>Sergio</td>\n",
       "      <td>6</td>\n",
       "      <td>1</td>\n",
       "      <td>0</td>\n",
       "      <td>46.0</td>\n",
       "      <td>1</td>\n",
       "      <td>5</td>\n",
       "      <td>170</td>\n",
       "      <td>192.0</td>\n",
       "      <td>1</td>\n",
       "      <td>NaN</td>\n",
       "    </tr>\n",
       "    <tr>\n",
       "      <th>6</th>\n",
       "      <td>Minoes</td>\n",
       "      <td>6</td>\n",
       "      <td>1</td>\n",
       "      <td>0</td>\n",
       "      <td>35.0</td>\n",
       "      <td>0</td>\n",
       "      <td>18</td>\n",
       "      <td>154</td>\n",
       "      <td>167.0</td>\n",
       "      <td>0</td>\n",
       "      <td>0.0</td>\n",
       "    </tr>\n",
       "    <tr>\n",
       "      <th>7</th>\n",
       "      <td>Jack</td>\n",
       "      <td>4</td>\n",
       "      <td>1</td>\n",
       "      <td>0</td>\n",
       "      <td>26.0</td>\n",
       "      <td>1</td>\n",
       "      <td>0</td>\n",
       "      <td>180</td>\n",
       "      <td>176.0</td>\n",
       "      <td>0</td>\n",
       "      <td>0.0</td>\n",
       "    </tr>\n",
       "    <tr>\n",
       "      <th>8</th>\n",
       "      <td>Pino</td>\n",
       "      <td>8</td>\n",
       "      <td>0</td>\n",
       "      <td>1</td>\n",
       "      <td>34.0</td>\n",
       "      <td>0</td>\n",
       "      <td>6</td>\n",
       "      <td>169</td>\n",
       "      <td>192.0</td>\n",
       "      <td>1</td>\n",
       "      <td>0.0</td>\n",
       "    </tr>\n",
       "    <tr>\n",
       "      <th>9</th>\n",
       "      <td>Obama</td>\n",
       "      <td>8</td>\n",
       "      <td>0</td>\n",
       "      <td>0</td>\n",
       "      <td>48.0</td>\n",
       "      <td>0</td>\n",
       "      <td>15</td>\n",
       "      <td>180</td>\n",
       "      <td>186.0</td>\n",
       "      <td>0</td>\n",
       "      <td>0.0</td>\n",
       "    </tr>\n",
       "    <tr>\n",
       "      <th>10</th>\n",
       "      <td>Donald</td>\n",
       "      <td>10</td>\n",
       "      <td>1</td>\n",
       "      <td>1</td>\n",
       "      <td>14.0</td>\n",
       "      <td>1</td>\n",
       "      <td>2</td>\n",
       "      <td>40</td>\n",
       "      <td>181.0</td>\n",
       "      <td>0</td>\n",
       "      <td>1.0</td>\n",
       "    </tr>\n",
       "  </tbody>\n",
       "</table>\n",
       "</div>"
      ],
      "text/plain": [
       "   Unnamed: 0  slaap_uren  koffie  spiekbriefje  studie_uren  ochtend_humeur  \\\n",
       "0       David           7       0             0          NaN               0   \n",
       "1       Alexa           7       1             0         27.0               1   \n",
       "2      Ceasar           9       0             1         18.0               0   \n",
       "3      Billie           3       1             0          8.0               1   \n",
       "4       Katja           8       0             0         44.0               0   \n",
       "5      Sergio           6       1             0         46.0               1   \n",
       "6      Minoes           6       1             0         35.0               0   \n",
       "7        Jack           4       1             0         26.0               1   \n",
       "8        Pino           8       0             1         34.0               0   \n",
       "9       Obama           8       0             0         48.0               0   \n",
       "10     Donald          10       1             1         14.0               1   \n",
       "\n",
       "    aantal_min_op_tijd  tijd_besteed_aan_examen_min  lengte  adhd  \\\n",
       "0                   15                          162   189.0     0   \n",
       "1                    9                          180   176.0     1   \n",
       "2                   40                          140   165.0     1   \n",
       "3                    2                          180     NaN     0   \n",
       "4                   14                          180   171.0     0   \n",
       "5                    5                          170   192.0     1   \n",
       "6                   18                          154   167.0     0   \n",
       "7                    0                          180   176.0     0   \n",
       "8                    6                          169   192.0     1   \n",
       "9                   15                          180   186.0     0   \n",
       "10                   2                           40   181.0     0   \n",
       "\n",
       "    links_handig  \n",
       "0            0.0  \n",
       "1            0.0  \n",
       "2            NaN  \n",
       "3            1.0  \n",
       "4            0.0  \n",
       "5            NaN  \n",
       "6            0.0  \n",
       "7            0.0  \n",
       "8            0.0  \n",
       "9            0.0  \n",
       "10           1.0  "
      ]
     },
     "execution_count": 12,
     "metadata": {},
     "output_type": "execute_result"
    }
   ],
   "source": [
    "klasDF2 = pd.read_csv('data/data.csv')\n",
    "klasDF2"
   ]
  },
  {
   "cell_type": "markdown",
   "metadata": {},
   "source": [
    "### 1.4 Oefening\n",
    "\n",
    "Gebruik de functie `pd.concat([df1, df2], axis=1)` met de parameters die erbij zijn gegeven om de twee DataFrames samen te voegen. Denk hierbij aan: \n",
    "\n",
    "1. Wat staat er in mijn .csv file? Is het handig om deze handmatig aan te passen? \n",
    "2. Haal ik mijn data correct binnen? Is er bijvoorbeeld een verschil in de namen per attribuut?\n",
    "3. Waar kan ik het best op groeperen (mergen)? Alleen als je de functie `merge(df1, df2, how=None)` gebruikt als [alternatief](https://pandas.pydata.org/pandas-docs/stable/reference/api/pandas.DataFrame.merge.html).\n",
    "4. Indien je merge gebruikt, geef aan met `left`, `right` of `inner` waar op wordt ge-merged"
   ]
  },
  {
   "cell_type": "code",
   "execution_count": 22,
   "metadata": {
    "scrolled": true
   },
   "outputs": [
    {
     "data": {
      "text/html": [
       "<div>\n",
       "<style scoped>\n",
       "    .dataframe tbody tr th:only-of-type {\n",
       "        vertical-align: middle;\n",
       "    }\n",
       "\n",
       "    .dataframe tbody tr th {\n",
       "        vertical-align: top;\n",
       "    }\n",
       "\n",
       "    .dataframe thead th {\n",
       "        text-align: right;\n",
       "    }\n",
       "</style>\n",
       "<table border=\"1\" class=\"dataframe\">\n",
       "  <thead>\n",
       "    <tr style=\"text-align: right;\">\n",
       "      <th></th>\n",
       "      <th>Unnamed: 0</th>\n",
       "      <th>Score</th>\n",
       "      <th>slaap_uren</th>\n",
       "      <th>koffie</th>\n",
       "      <th>spiekbriefje</th>\n",
       "      <th>studie_uren</th>\n",
       "      <th>ochtend_humeur</th>\n",
       "      <th>aantal_min_op_tijd</th>\n",
       "      <th>tijd_besteed_aan_examen_min</th>\n",
       "      <th>lengte</th>\n",
       "      <th>adhd</th>\n",
       "      <th>links_handig</th>\n",
       "    </tr>\n",
       "  </thead>\n",
       "  <tbody>\n",
       "    <tr>\n",
       "      <th>0</th>\n",
       "      <td>David</td>\n",
       "      <td>7.400</td>\n",
       "      <td>7</td>\n",
       "      <td>0</td>\n",
       "      <td>0</td>\n",
       "      <td>NaN</td>\n",
       "      <td>0</td>\n",
       "      <td>15</td>\n",
       "      <td>162</td>\n",
       "      <td>189.0</td>\n",
       "      <td>0</td>\n",
       "      <td>0.0</td>\n",
       "    </tr>\n",
       "    <tr>\n",
       "      <th>1</th>\n",
       "      <td>Sergio</td>\n",
       "      <td>8.100</td>\n",
       "      <td>6</td>\n",
       "      <td>1</td>\n",
       "      <td>0</td>\n",
       "      <td>46.0</td>\n",
       "      <td>1</td>\n",
       "      <td>5</td>\n",
       "      <td>170</td>\n",
       "      <td>192.0</td>\n",
       "      <td>1</td>\n",
       "      <td>NaN</td>\n",
       "    </tr>\n",
       "    <tr>\n",
       "      <th>2</th>\n",
       "      <td>Minoes</td>\n",
       "      <td>7.700</td>\n",
       "      <td>6</td>\n",
       "      <td>1</td>\n",
       "      <td>0</td>\n",
       "      <td>35.0</td>\n",
       "      <td>0</td>\n",
       "      <td>18</td>\n",
       "      <td>154</td>\n",
       "      <td>167.0</td>\n",
       "      <td>0</td>\n",
       "      <td>0.0</td>\n",
       "    </tr>\n",
       "    <tr>\n",
       "      <th>3</th>\n",
       "      <td>Alexa</td>\n",
       "      <td>6.999</td>\n",
       "      <td>7</td>\n",
       "      <td>1</td>\n",
       "      <td>0</td>\n",
       "      <td>27.0</td>\n",
       "      <td>1</td>\n",
       "      <td>9</td>\n",
       "      <td>180</td>\n",
       "      <td>176.0</td>\n",
       "      <td>1</td>\n",
       "      <td>0.0</td>\n",
       "    </tr>\n",
       "    <tr>\n",
       "      <th>4</th>\n",
       "      <td>Ceasar</td>\n",
       "      <td>9.600</td>\n",
       "      <td>9</td>\n",
       "      <td>0</td>\n",
       "      <td>1</td>\n",
       "      <td>18.0</td>\n",
       "      <td>0</td>\n",
       "      <td>40</td>\n",
       "      <td>140</td>\n",
       "      <td>165.0</td>\n",
       "      <td>1</td>\n",
       "      <td>NaN</td>\n",
       "    </tr>\n",
       "    <tr>\n",
       "      <th>5</th>\n",
       "      <td>Billie</td>\n",
       "      <td>5.400</td>\n",
       "      <td>3</td>\n",
       "      <td>1</td>\n",
       "      <td>0</td>\n",
       "      <td>8.0</td>\n",
       "      <td>1</td>\n",
       "      <td>2</td>\n",
       "      <td>180</td>\n",
       "      <td>NaN</td>\n",
       "      <td>0</td>\n",
       "      <td>1.0</td>\n",
       "    </tr>\n",
       "    <tr>\n",
       "      <th>6</th>\n",
       "      <td>Katja</td>\n",
       "      <td>8.500</td>\n",
       "      <td>8</td>\n",
       "      <td>0</td>\n",
       "      <td>0</td>\n",
       "      <td>44.0</td>\n",
       "      <td>0</td>\n",
       "      <td>14</td>\n",
       "      <td>180</td>\n",
       "      <td>171.0</td>\n",
       "      <td>0</td>\n",
       "      <td>0.0</td>\n",
       "    </tr>\n",
       "    <tr>\n",
       "      <th>7</th>\n",
       "      <td>Jack</td>\n",
       "      <td>NaN</td>\n",
       "      <td>4</td>\n",
       "      <td>1</td>\n",
       "      <td>0</td>\n",
       "      <td>26.0</td>\n",
       "      <td>1</td>\n",
       "      <td>0</td>\n",
       "      <td>180</td>\n",
       "      <td>176.0</td>\n",
       "      <td>0</td>\n",
       "      <td>0.0</td>\n",
       "    </tr>\n",
       "    <tr>\n",
       "      <th>8</th>\n",
       "      <td>Pino</td>\n",
       "      <td>NaN</td>\n",
       "      <td>8</td>\n",
       "      <td>0</td>\n",
       "      <td>1</td>\n",
       "      <td>34.0</td>\n",
       "      <td>0</td>\n",
       "      <td>6</td>\n",
       "      <td>169</td>\n",
       "      <td>192.0</td>\n",
       "      <td>1</td>\n",
       "      <td>0.0</td>\n",
       "    </tr>\n",
       "    <tr>\n",
       "      <th>9</th>\n",
       "      <td>Obama</td>\n",
       "      <td>NaN</td>\n",
       "      <td>8</td>\n",
       "      <td>0</td>\n",
       "      <td>0</td>\n",
       "      <td>48.0</td>\n",
       "      <td>0</td>\n",
       "      <td>15</td>\n",
       "      <td>180</td>\n",
       "      <td>186.0</td>\n",
       "      <td>0</td>\n",
       "      <td>0.0</td>\n",
       "    </tr>\n",
       "    <tr>\n",
       "      <th>10</th>\n",
       "      <td>Donald</td>\n",
       "      <td>NaN</td>\n",
       "      <td>10</td>\n",
       "      <td>1</td>\n",
       "      <td>1</td>\n",
       "      <td>14.0</td>\n",
       "      <td>1</td>\n",
       "      <td>2</td>\n",
       "      <td>40</td>\n",
       "      <td>181.0</td>\n",
       "      <td>0</td>\n",
       "      <td>1.0</td>\n",
       "    </tr>\n",
       "  </tbody>\n",
       "</table>\n",
       "</div>"
      ],
      "text/plain": [
       "   Unnamed: 0  Score  slaap_uren  koffie  spiekbriefje  studie_uren  \\\n",
       "0       David  7.400           7       0             0          NaN   \n",
       "1      Sergio  8.100           6       1             0         46.0   \n",
       "2      Minoes  7.700           6       1             0         35.0   \n",
       "3       Alexa  6.999           7       1             0         27.0   \n",
       "4      Ceasar  9.600           9       0             1         18.0   \n",
       "5      Billie  5.400           3       1             0          8.0   \n",
       "6       Katja  8.500           8       0             0         44.0   \n",
       "7        Jack    NaN           4       1             0         26.0   \n",
       "8        Pino    NaN           8       0             1         34.0   \n",
       "9       Obama    NaN           8       0             0         48.0   \n",
       "10     Donald    NaN          10       1             1         14.0   \n",
       "\n",
       "    ochtend_humeur  aantal_min_op_tijd  tijd_besteed_aan_examen_min  lengte  \\\n",
       "0                0                  15                          162   189.0   \n",
       "1                1                   5                          170   192.0   \n",
       "2                0                  18                          154   167.0   \n",
       "3                1                   9                          180   176.0   \n",
       "4                0                  40                          140   165.0   \n",
       "5                1                   2                          180     NaN   \n",
       "6                0                  14                          180   171.0   \n",
       "7                1                   0                          180   176.0   \n",
       "8                0                   6                          169   192.0   \n",
       "9                0                  15                          180   186.0   \n",
       "10               1                   2                           40   181.0   \n",
       "\n",
       "    adhd  links_handig  \n",
       "0      0           0.0  \n",
       "1      1           NaN  \n",
       "2      0           0.0  \n",
       "3      1           0.0  \n",
       "4      1           NaN  \n",
       "5      0           1.0  \n",
       "6      0           0.0  \n",
       "7      0           0.0  \n",
       "8      1           0.0  \n",
       "9      0           0.0  \n",
       "10     0           1.0  "
      ]
     },
     "execution_count": 22,
     "metadata": {},
     "output_type": "execute_result"
    }
   ],
   "source": [
    "# Eigen code\n",
    "klas_conc = pd.concat([klasDF,klasDF2],join='outer')\n",
    "\n",
    "klas_merge = klasDF.merge(klasDF2, how = 'outer', left_on='Unnamed: 0', right_on='Unnamed: 0')\n",
    "\n",
    "\n",
    "klas_merge\n"
   ]
  },
  {
   "cell_type": "markdown",
   "metadata": {},
   "source": [
    "## 2.1 Data inlezen\n",
    "\n",
    "We hebben data ge-importeerd. Inlezen lijkt in sommige vormen op. De eerste truc voor een snelle inzage: \n",
    "\n",
    "`DF.info()`"
   ]
  },
  {
   "cell_type": "code",
   "execution_count": null,
   "metadata": {},
   "outputs": [],
   "source": [
    "klas_concat"
   ]
  },
  {
   "cell_type": "code",
   "execution_count": null,
   "metadata": {},
   "outputs": [],
   "source": [
    "klas_concat.info()"
   ]
  },
  {
   "cell_type": "markdown",
   "metadata": {},
   "source": [
    "### 2.1 Specifieke data\n",
    "Stel je wil een specifiek datapunt weten in het DataFrame. `DF[0]` zal niet werken. Pandas werkt veel intuitiever. Je vraagt net als met dictionaries met het key-value principe de kolom aan die je wilt. \n",
    "\n",
    "`DF['column_name']` of `DF['column_name1', 'column_name2', 'column_name3' ... ]`"
   ]
  },
  {
   "cell_type": "code",
   "execution_count": null,
   "metadata": {},
   "outputs": [],
   "source": [
    "print(klas_concat.Name)"
   ]
  },
  {
   "cell_type": "code",
   "execution_count": null,
   "metadata": {},
   "outputs": [],
   "source": [
    "klas_concat['Name']"
   ]
  },
  {
   "cell_type": "code",
   "execution_count": null,
   "metadata": {},
   "outputs": [],
   "source": [
    "klas_concat[['Name', 'koffie']]"
   ]
  },
  {
   "cell_type": "markdown",
   "metadata": {},
   "source": [
    "Stel je wilt alleen de laatste 4 kolommen? Dat kan.. "
   ]
  },
  {
   "cell_type": "code",
   "execution_count": null,
   "metadata": {},
   "outputs": [],
   "source": [
    "klas_concat[klas_concat.keys()[-4:]]"
   ]
  },
  {
   "cell_type": "markdown",
   "metadata": {},
   "source": [
    "### 2.2 Nog specifieker.. "
   ]
  },
  {
   "cell_type": "markdown",
   "metadata": {},
   "source": [
    "#### 2.2.1 Pandas Conditioneren\n",
    "\n",
    "Je kan voor de volledige tableau controleren of het voldoet aan een bepaalde conditie."
   ]
  },
  {
   "cell_type": "markdown",
   "metadata": {},
   "source": [
    "**Theorie** : Als je nu enkel een paar rijen wil zien (bijvoorbeeld iedereen die thee heeft gedronken), dan gebruik je de volgende functie:\n",
    "\n",
    "`DF['column_name'] == 1` voor het achterhalen van welke `True` of `False` zijn.\n",
    "\n",
    "`DF[DF['column_name'] == 1]` voor het selecteren van de rijen die `True` zijn. "
   ]
  },
  {
   "cell_type": "code",
   "execution_count": null,
   "metadata": {},
   "outputs": [],
   "source": [
    "klas_concat['Name'] == 'Alexa'"
   ]
  },
  {
   "cell_type": "code",
   "execution_count": null,
   "metadata": {},
   "outputs": [],
   "source": [
    "klas_concat[klas_concat['Name']=='Alexa']"
   ]
  },
  {
   "cell_type": "code",
   "execution_count": null,
   "metadata": {},
   "outputs": [],
   "source": [
    "klas_concat[klas_concat['Name']!='Alexa']"
   ]
  },
  {
   "cell_type": "code",
   "execution_count": null,
   "metadata": {},
   "outputs": [],
   "source": [
    "klas_concat[(klas_concat['slaap_uren']<8) & (klas_concat['ochtend_humeur'] == 1)]"
   ]
  },
  {
   "cell_type": "code",
   "execution_count": null,
   "metadata": {
    "scrolled": true
   },
   "outputs": [],
   "source": [
    "klas_concat[(klas_concat['slaap_uren']<8) & (klas_concat['ochtend_humeur'] == 1)][['Name', 'Score']]"
   ]
  },
  {
   "cell_type": "markdown",
   "metadata": {},
   "source": [
    "#### 2.1.1 Oefening\n",
    "\n",
    "Zoals we eerder hebben gedaan met forloops, laten we de rijen selecteren die een hogere `Score` hebben dan 7. Laat alleen de attributen zien waarvan jij denkt dat ze invloed hadden op de score van de leerlingen (je kan ze zelfs op een andere, volgens jou betere, volgorde zetten)."
   ]
  },
  {
   "cell_type": "code",
   "execution_count": null,
   "metadata": {},
   "outputs": [],
   "source": [
    "# Eigen code\n",
    "\n",
    "\n",
    "\n",
    "\n",
    "\n"
   ]
  },
  {
   "cell_type": "markdown",
   "metadata": {},
   "source": [
    "### 2.3 Missende waardes\n",
    "\n",
    "Bruikbare functies: \n",
    "\n",
    "`DF.isnull()` of `DF.notnull()`\n",
    "\n",
    "`DF.sum()` berekend "
   ]
  },
  {
   "cell_type": "code",
   "execution_count": null,
   "metadata": {},
   "outputs": [],
   "source": [
    "klas_concat.isnull().sum()"
   ]
  },
  {
   "cell_type": "code",
   "execution_count": null,
   "metadata": {},
   "outputs": [],
   "source": [
    "klas_concat[klas_concat['Score'].isnull()]"
   ]
  },
  {
   "cell_type": "code",
   "execution_count": null,
   "metadata": {},
   "outputs": [],
   "source": [
    "klas_concat[klas_concat['links_handig'].isnull()]"
   ]
  },
  {
   "cell_type": "markdown",
   "metadata": {},
   "source": [
    "### 2.4 Groupby\n",
    "\n",
    "Dit returnt een `DataFrameGroubBy` object, wat ansich nog niks laat zien. Maak gebruik van de volgende functies:\n",
    "\n",
    "`DataFrameGroubBy.mean()` of `DataFrameGroubBy.sum()` of `DataFrameGroubBy.min()` of `DataFrameGroubBy.max()`\n",
    "\n",
    "Zie [link](https://pandas.pydata.org/pandas-docs/stable/reference/frame.html) voor de volledige documentatie."
   ]
  },
  {
   "cell_type": "code",
   "execution_count": null,
   "metadata": {},
   "outputs": [],
   "source": [
    "klas_concat.groupby(['koffie'])"
   ]
  },
  {
   "cell_type": "code",
   "execution_count": null,
   "metadata": {
    "scrolled": true
   },
   "outputs": [],
   "source": [
    "klas_concat.groupby(['koffie']).mean()"
   ]
  },
  {
   "cell_type": "markdown",
   "metadata": {},
   "source": [
    "#### Wat laat dit zien? \n",
    "Geen koffie drinkers hebben een hogere score.."
   ]
  },
  {
   "cell_type": "code",
   "execution_count": null,
   "metadata": {},
   "outputs": [],
   "source": [
    "klas_concat.groupby(['koffie','ochtend_humeur']).mean()"
   ]
  },
  {
   "cell_type": "markdown",
   "metadata": {},
   "source": [
    "Wat blijkt? Het ligt niet aan de koffie, maar aan het ochtend humeur. Begrijp je data! "
   ]
  },
  {
   "cell_type": "markdown",
   "metadata": {},
   "source": [
    "### 2.5 Oefening\n",
    "\n",
    "Zoek naar correlaties in je data. Welke scheppen inzicht? "
   ]
  },
  {
   "cell_type": "code",
   "execution_count": null,
   "metadata": {},
   "outputs": [],
   "source": [
    "# Eigen code\n",
    "\n",
    "\n",
    "\n",
    "\n",
    "\n"
   ]
  },
  {
   "cell_type": "markdown",
   "metadata": {},
   "source": [
    "## 3 Data imputeren"
   ]
  },
  {
   "cell_type": "markdown",
   "metadata": {},
   "source": [
    "### 3.1 Waarom?\n",
    "\n",
    "Bruikbare informatie toevoegen en overbodige informatie verwijderen. Haal meer uit je data.\n",
    "\n",
    "1. Kolommen toevoegen\n",
    "2. NaN values invullen\n",
    "3. Kolommen verwijderen\n",
    "4. Data normaliseren"
   ]
  },
  {
   "cell_type": "markdown",
   "metadata": {},
   "source": [
    "### 3.2 Correlaties in data\n",
    "\n",
    "Pandas heeft een correlatie functie `DF.corr()` De standaard formule hiervoor is Pearson's. Die van Spearman werkt goed voor non normal distributed data (skewed data).\n",
    "\n",
    "`Pearson` : $\\rho = \\frac{\\text{cov}(X,Y)}{\\sigma_x \\sigma_y}$\n",
    "    \n",
    "`Spearman` : $\\tau = \\frac{c-d}{c+d} = \\frac{S}{\n",
    "\t\\left(\n",
    "\t\\begin{matrix} \n",
    " \tn \\\\\n",
    " \t2\n",
    "\\end{matrix}\n",
    "\\right)}\n",
    "= \\frac{2S}{n(n-1)}$"
   ]
  },
  {
   "cell_type": "code",
   "execution_count": null,
   "metadata": {},
   "outputs": [],
   "source": [
    "klas_concat[['Score', 'slaap_uren']].corr(method='pearson')"
   ]
  },
  {
   "cell_type": "code",
   "execution_count": null,
   "metadata": {},
   "outputs": [],
   "source": [
    "klas_concat[['Score', 'slaap_uren']].corr(method='spearman')"
   ]
  },
  {
   "cell_type": "markdown",
   "metadata": {},
   "source": [
    "#### 3.2.2 Verder zelf onderzoeken! \n",
    "\n",
    "Meeste inzicht krijg je door in je data te duiken."
   ]
  },
  {
   "cell_type": "code",
   "execution_count": null,
   "metadata": {},
   "outputs": [],
   "source": [
    "klas_concat.corr()"
   ]
  },
  {
   "cell_type": "markdown",
   "metadata": {},
   "source": [
    "### 3.3 Slicing\n",
    "\n",
    "Gebruik hiervoor indexing. Bruikbare functies zijn: \n",
    "\n",
    "`DF.loc['index nummer']`\n",
    "\n",
    "`DF['kolom naam']`"
   ]
  },
  {
   "cell_type": "code",
   "execution_count": null,
   "metadata": {},
   "outputs": [],
   "source": [
    "klas_concat.sort_index()"
   ]
  },
  {
   "cell_type": "code",
   "execution_count": null,
   "metadata": {},
   "outputs": [],
   "source": [
    "klas_concat.loc[1:3]"
   ]
  },
  {
   "cell_type": "code",
   "execution_count": null,
   "metadata": {},
   "outputs": [],
   "source": [
    "klas_concat.loc[1:3]['Name']"
   ]
  },
  {
   "cell_type": "code",
   "execution_count": null,
   "metadata": {},
   "outputs": [],
   "source": [
    "for i in range(len(klas_concat)):\n",
    "    print(klas_concat.loc[i]['Name'])"
   ]
  },
  {
   "cell_type": "code",
   "execution_count": null,
   "metadata": {},
   "outputs": [],
   "source": [
    "klas_concat[list(klas_concat.keys())[:2]]"
   ]
  },
  {
   "cell_type": "markdown",
   "metadata": {},
   "source": [
    "### 3.4 Distribution data\n",
    "\n",
    "- Wat kan je hier uit halen?\n",
    "- Een distribution laat zien hoe de data verdeeld is. \n",
    "- Seaborn is een visualisatie package die \n",
    "\n",
    "`import seaborn as sns`\n",
    "\n",
    "`sns.set(color_codes=True)`\n",
    "\n",
    "`sns.distplot(x);`"
   ]
  },
  {
   "cell_type": "code",
   "execution_count": null,
   "metadata": {},
   "outputs": [],
   "source": [
    "import seaborn as sns\n",
    "\n",
    "sns.set(color_codes=True)\n",
    "\n",
    "sns.distplot(klas_concat['slaap_uren'], bins=len(klas_concat), rug=True);\n"
   ]
  },
  {
   "cell_type": "markdown",
   "metadata": {},
   "source": [
    "### 3.4 fillnone()\n",
    "\n",
    "- Wat voor invloed krijgt het invullen van missende waarde? \n",
    "- Hoe goed kan je (adhv correlaties) missende data invullen?\n",
    "\n",
    "Gebruik hiervoor indexering of de functie `df.fillna(value)`\n"
   ]
  },
  {
   "cell_type": "markdown",
   "metadata": {},
   "source": [
    "Stel we hebben de kennis dat de [Napleon](https://www.quora.com/Was-Napoleon-right-or-left-handed) links handig was, een weloversproken hypothese. Dan kunnen we deze als volgt invullen:\n",
    "\n"
   ]
  },
  {
   "cell_type": "code",
   "execution_count": null,
   "metadata": {},
   "outputs": [],
   "source": [
    "klas_concat.loc[2, 'links_handig'] = 1"
   ]
  },
  {
   "cell_type": "code",
   "execution_count": null,
   "metadata": {},
   "outputs": [],
   "source": [
    "klas_concat"
   ]
  },
  {
   "cell_type": "markdown",
   "metadata": {},
   "source": [
    "### 3.5 Oefening\n",
    "\n",
    "Vul de onbekende waardes in voor \n",
    "\n",
    "- Billie 'lengte'  \n",
    "Van Billie hebben we kennis dat hij langer is dan Obama, maar kleiner dan Pino.  \n",
    "- David 'studie_uren'  \n",
    "Bekijk welke attributen een sterke correlatie hebben met 'studie_uren'. Groepeer daarop om een zo dicht mogelijk bij de werkelijke waarde te komen.  \n",
    "- Sergio 'links_handig'  \n",
    "Doe het zelfde voor links handig met Sergio. "
   ]
  },
  {
   "cell_type": "code",
   "execution_count": null,
   "metadata": {},
   "outputs": [],
   "source": [
    "# Eigen code\n",
    "\n",
    "\n",
    "\n",
    "\n",
    "\n",
    "\n"
   ]
  },
  {
   "cell_type": "markdown",
   "metadata": {},
   "source": [
    "## 4 Oefenen met een kleine dataset"
   ]
  },
  {
   "cell_type": "markdown",
   "metadata": {},
   "source": [
    "### 4.1 Onbekende waardes 'voorspellen'\n",
    "\n",
    "We zijn nog niet toe aan een Machine Learning model, maar we kunnen alvast zelf een voorspelling maken.. \n",
    "\n",
    "Ga adhv grouping en correlaties na wat een waarschijnlijke `Score` is voor de 4 leerlingen waar het onbekend is."
   ]
  },
  {
   "cell_type": "code",
   "execution_count": null,
   "metadata": {},
   "outputs": [],
   "source": [
    "# Eigen code\n",
    "\n",
    "\n",
    "\n",
    "\n",
    "\n",
    "\n"
   ]
  }
 ],
 "metadata": {
  "kernelspec": {
   "display_name": "Python 3",
   "language": "python",
   "name": "python3"
  },
  "language_info": {
   "codemirror_mode": {
    "name": "ipython",
    "version": 3
   },
   "file_extension": ".py",
   "mimetype": "text/x-python",
   "name": "python",
   "nbconvert_exporter": "python",
   "pygments_lexer": "ipython3",
   "version": "3.7.6"
  }
 },
 "nbformat": 4,
 "nbformat_minor": 2
}
