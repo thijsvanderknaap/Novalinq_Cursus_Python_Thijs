{
 "cells": [
  {
   "cell_type": "markdown",
   "metadata": {},
   "source": [
    "# RSG opdracht Data-visualisatie"
   ]
  },
  {
   "cell_type": "markdown",
   "metadata": {},
   "source": [
    "De opdracht luidt als volgt. Zoek een dataset op het internet of gebruik een locale dataset waar je een visualisatie analyse op kan toepassen. Denk er hierbij aan dat je data voldoende categorische en numerieke attributen heeft. \n",
    "\n",
    "Kijk zonodig op https://www.data-to-viz.com/ om een methode te kiezen. \n",
    "\n",
    "De docenten zullen hier online ondersteuning bij bieden. Mochten jullie vragen hebben dan zullen wij er zijn. Zo nodig kan er met jullie toestemming ook live gedebugged worden door `remote control` te geven aan de docenten. \n",
    "\n",
    "Waar haal je data vandaan? \n",
    "Denk aan: \n",
    "\n",
    "- Kaggle https://www.kaggle.com/datasets\n",
    "- WikiDataDumps \n",
    "\n",
    "Geef bij je onderzoek voldoende documentatie en geef duidelijk aan welke stappen je maakt."
   ]
  },
  {
   "cell_type": "code",
   "execution_count": null,
   "metadata": {},
   "outputs": [],
   "source": [
    "# Eigen code\n",
    "\n",
    "\n",
    "\n",
    "\n"
   ]
  }
 ],
 "metadata": {
  "kernelspec": {
   "display_name": "Python 3",
   "language": "python",
   "name": "python3"
  },
  "language_info": {
   "codemirror_mode": {
    "name": "ipython",
    "version": 3
   },
   "file_extension": ".py",
   "mimetype": "text/x-python",
   "name": "python",
   "nbconvert_exporter": "python",
   "pygments_lexer": "ipython3",
   "version": "3.7.4"
  }
 },
 "nbformat": 4,
 "nbformat_minor": 2
}
