{
 "cells": [
  {
   "cell_type": "markdown",
   "metadata": {},
   "source": [
    "# RSG opdracht Data-visualisatie"
   ]
  },
  {
   "cell_type": "markdown",
   "metadata": {},
   "source": [
    "De opdracht luidt als volgt. Zoek een dataset op het internet of gebruik een locale dataset waar je een visualisatie analyse op kan toepassen. Denk er hierbij aan dat je data voldoende categorische en numerieke attributen heeft. \n",
    "\n",
    "Kijk zonodig op https://www.data-to-viz.com/ om een methode te kiezen. \n",
    "\n",
    "De docenten zullen hier online ondersteuning bij bieden. Mochten jullie vragen hebben dan zullen wij er zijn. Zo nodig kan er met jullie toestemming ook live gedebugged worden door `remote control` te geven aan de docenten. \n",
    "\n",
    "Waar haal je data vandaan? \n",
    "Denk aan: \n",
    "\n",
    "- Kaggle https://www.kaggle.com/datasets\n",
    "- WikiDataDumps \n",
    "\n",
    "Geef bij je onderzoek voldoende documentatie en geef duidelijk aan welke stappen je maakt."
   ]
  },
  {
   "cell_type": "code",
   "execution_count": null,
   "metadata": {},
   "outputs": [],
   "source": [
    "# Eigen code\n",
    "\n",
    "\n",
    "\n",
    "\n"
   ]
  }
 ],
 "metadata": {
  "kernelspec": {
   "display_name": "Python 3.7.6 64-bit",
   "language": "python",
   "name": "python37664bit7566f4a60e83448fadcb504ac7ffa47c"
  }
 },
 "nbformat": 4,
 "nbformat_minor": 2
}
